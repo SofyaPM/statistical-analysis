{
 "cells": [
  {
   "cell_type": "markdown",
   "id": "139e6af0",
   "metadata": {},
   "source": [
    "# Анализ данных сервиса аренды самокатов GoFast\n",
    "\n",
    "В нашем распоряжении данные о некоторых пользователях из нескольких городов, а также об их поездках. Задача - проанализировать данные и проверить некоторые гипотезы, которые могут помочь бизнесу вырасти."
   ]
  },
  {
   "cell_type": "markdown",
   "id": "c54b5979",
   "metadata": {},
   "source": [
    "Импортируем библиотеки, которые понадобятся в ходе работы:"
   ]
  },
  {
   "cell_type": "code",
   "execution_count": 1,
   "id": "72576667",
   "metadata": {},
   "outputs": [],
   "source": [
    "import pandas as pd\n",
    "import numpy\n",
    "import matplotlib.pyplot as plt \n",
    "import datetime\n",
    "import calendar\n",
    "import seaborn\n",
    "from scipy import stats as st\n",
    "from math import sqrt\n",
    "from importlib import reload"
   ]
  },
  {
   "cell_type": "markdown",
   "id": "c42cbe00",
   "metadata": {},
   "source": [
    "#### Шаг 1. Загрузка данных\n",
    "\n",
    "Имеются 3 массива данных: `users_go.csv`, `rides_go.csv`, `subscriptions_go.csv`. Сохраним их в 3 отдельные переменные `data_users`, `data_rides`, `data_subscriptions` соответственно."
   ]
  },
  {
   "cell_type": "code",
   "execution_count": 2,
   "id": "eff9f206",
   "metadata": {},
   "outputs": [],
   "source": [
    "# Загрузим 3 исходных массива данных о пользователях, их поездках и подписках:\n",
    "data_users = pd.read_csv('/datasets/users_go.csv')\n",
    "data_rides = pd.read_csv('/datasets/rides_go.csv')\n",
    "data_subscriptions = pd.read_csv('/datasets/subscriptions_go.csv')"
   ]
  },
  {
   "cell_type": "markdown",
   "id": "cde94d66",
   "metadata": {},
   "source": [
    "**Информация о пользователях**"
   ]
  },
  {
   "cell_type": "code",
   "execution_count": 3,
   "id": "eb682571",
   "metadata": {},
   "outputs": [
    {
     "data": {
      "text/html": [
       "<div>\n",
       "<style scoped>\n",
       "    .dataframe tbody tr th:only-of-type {\n",
       "        vertical-align: middle;\n",
       "    }\n",
       "\n",
       "    .dataframe tbody tr th {\n",
       "        vertical-align: top;\n",
       "    }\n",
       "\n",
       "    .dataframe thead th {\n",
       "        text-align: right;\n",
       "    }\n",
       "</style>\n",
       "<table border=\"1\" class=\"dataframe\">\n",
       "  <thead>\n",
       "    <tr style=\"text-align: right;\">\n",
       "      <th></th>\n",
       "      <th>user_id</th>\n",
       "      <th>name</th>\n",
       "      <th>age</th>\n",
       "      <th>city</th>\n",
       "      <th>subscription_type</th>\n",
       "    </tr>\n",
       "  </thead>\n",
       "  <tbody>\n",
       "    <tr>\n",
       "      <th>0</th>\n",
       "      <td>1</td>\n",
       "      <td>Кира</td>\n",
       "      <td>22</td>\n",
       "      <td>Тюмень</td>\n",
       "      <td>ultra</td>\n",
       "    </tr>\n",
       "    <tr>\n",
       "      <th>1</th>\n",
       "      <td>2</td>\n",
       "      <td>Станислав</td>\n",
       "      <td>31</td>\n",
       "      <td>Омск</td>\n",
       "      <td>ultra</td>\n",
       "    </tr>\n",
       "    <tr>\n",
       "      <th>2</th>\n",
       "      <td>3</td>\n",
       "      <td>Алексей</td>\n",
       "      <td>20</td>\n",
       "      <td>Москва</td>\n",
       "      <td>ultra</td>\n",
       "    </tr>\n",
       "    <tr>\n",
       "      <th>3</th>\n",
       "      <td>4</td>\n",
       "      <td>Константин</td>\n",
       "      <td>26</td>\n",
       "      <td>Ростов-на-Дону</td>\n",
       "      <td>ultra</td>\n",
       "    </tr>\n",
       "    <tr>\n",
       "      <th>4</th>\n",
       "      <td>5</td>\n",
       "      <td>Адель</td>\n",
       "      <td>28</td>\n",
       "      <td>Омск</td>\n",
       "      <td>ultra</td>\n",
       "    </tr>\n",
       "    <tr>\n",
       "      <th>5</th>\n",
       "      <td>6</td>\n",
       "      <td>Регина</td>\n",
       "      <td>25</td>\n",
       "      <td>Краснодар</td>\n",
       "      <td>ultra</td>\n",
       "    </tr>\n",
       "    <tr>\n",
       "      <th>6</th>\n",
       "      <td>7</td>\n",
       "      <td>Игорь</td>\n",
       "      <td>23</td>\n",
       "      <td>Омск</td>\n",
       "      <td>ultra</td>\n",
       "    </tr>\n",
       "    <tr>\n",
       "      <th>7</th>\n",
       "      <td>8</td>\n",
       "      <td>Юрий</td>\n",
       "      <td>23</td>\n",
       "      <td>Краснодар</td>\n",
       "      <td>ultra</td>\n",
       "    </tr>\n",
       "    <tr>\n",
       "      <th>8</th>\n",
       "      <td>9</td>\n",
       "      <td>Ян</td>\n",
       "      <td>21</td>\n",
       "      <td>Пятигорск</td>\n",
       "      <td>ultra</td>\n",
       "    </tr>\n",
       "    <tr>\n",
       "      <th>9</th>\n",
       "      <td>10</td>\n",
       "      <td>Валерий</td>\n",
       "      <td>18</td>\n",
       "      <td>Екатеринбург</td>\n",
       "      <td>ultra</td>\n",
       "    </tr>\n",
       "  </tbody>\n",
       "</table>\n",
       "</div>"
      ],
      "text/plain": [
       "   user_id        name  age            city subscription_type\n",
       "0        1        Кира   22          Тюмень             ultra\n",
       "1        2   Станислав   31            Омск             ultra\n",
       "2        3     Алексей   20          Москва             ultra\n",
       "3        4  Константин   26  Ростов-на-Дону             ultra\n",
       "4        5       Адель   28            Омск             ultra\n",
       "5        6      Регина   25       Краснодар             ultra\n",
       "6        7       Игорь   23            Омск             ultra\n",
       "7        8        Юрий   23       Краснодар             ultra\n",
       "8        9          Ян   21       Пятигорск             ultra\n",
       "9       10     Валерий   18    Екатеринбург             ultra"
      ]
     },
     "metadata": {},
     "output_type": "display_data"
    },
    {
     "name": "stdout",
     "output_type": "stream",
     "text": [
      "<class 'pandas.core.frame.DataFrame'>\n",
      "RangeIndex: 1565 entries, 0 to 1564\n",
      "Data columns (total 5 columns):\n",
      " #   Column             Non-Null Count  Dtype \n",
      "---  ------             --------------  ----- \n",
      " 0   user_id            1565 non-null   int64 \n",
      " 1   name               1565 non-null   object\n",
      " 2   age                1565 non-null   int64 \n",
      " 3   city               1565 non-null   object\n",
      " 4   subscription_type  1565 non-null   object\n",
      "dtypes: int64(2), object(3)\n",
      "memory usage: 61.3+ KB\n"
     ]
    },
    {
     "data": {
      "text/plain": [
       "user_id              0\n",
       "name                 0\n",
       "age                  0\n",
       "city                 0\n",
       "subscription_type    0\n",
       "dtype: int64"
      ]
     },
     "execution_count": 3,
     "metadata": {},
     "output_type": "execute_result"
    }
   ],
   "source": [
    "# Выведем первые несколько строк массива и общую информацию для данных о пользователях услуг:\n",
    "display(data_users.head(10))\n",
    "data_users.info()\n",
    "\n",
    "data_users.isna().sum()\n",
    "# Пропуски в данных отсутствуют"
   ]
  },
  {
   "cell_type": "markdown",
   "id": "ccf7f5cc",
   "metadata": {},
   "source": [
    "Мы видим, что в нашем массиве данных имеются 1565 наблюдений со следующими столбцами: `user_id`, `name`, `age`, `city`, `subscription_type` с информацией об уникальном идентификаторе пользователя услуг, его имене, возрасте, городе и типе подписке соответственно.\n",
    "\n",
    "Затем мы вывели общую информацию о датасете, увидели, что типы данных в порядке, пропуски отсутствуют; можем переходить к следующему массиву данных о поездках.\n"
   ]
  },
  {
   "cell_type": "markdown",
   "id": "eb57161d",
   "metadata": {},
   "source": [
    "**Информация о поездках**"
   ]
  },
  {
   "cell_type": "code",
   "execution_count": 4,
   "id": "5c37f1e6",
   "metadata": {},
   "outputs": [
    {
     "data": {
      "text/html": [
       "<div>\n",
       "<style scoped>\n",
       "    .dataframe tbody tr th:only-of-type {\n",
       "        vertical-align: middle;\n",
       "    }\n",
       "\n",
       "    .dataframe tbody tr th {\n",
       "        vertical-align: top;\n",
       "    }\n",
       "\n",
       "    .dataframe thead th {\n",
       "        text-align: right;\n",
       "    }\n",
       "</style>\n",
       "<table border=\"1\" class=\"dataframe\">\n",
       "  <thead>\n",
       "    <tr style=\"text-align: right;\">\n",
       "      <th></th>\n",
       "      <th>user_id</th>\n",
       "      <th>distance</th>\n",
       "      <th>duration</th>\n",
       "      <th>date</th>\n",
       "    </tr>\n",
       "  </thead>\n",
       "  <tbody>\n",
       "    <tr>\n",
       "      <th>0</th>\n",
       "      <td>1</td>\n",
       "      <td>4409.919140</td>\n",
       "      <td>25.599769</td>\n",
       "      <td>2021-01-01</td>\n",
       "    </tr>\n",
       "    <tr>\n",
       "      <th>1</th>\n",
       "      <td>1</td>\n",
       "      <td>2617.592153</td>\n",
       "      <td>15.816871</td>\n",
       "      <td>2021-01-18</td>\n",
       "    </tr>\n",
       "    <tr>\n",
       "      <th>2</th>\n",
       "      <td>1</td>\n",
       "      <td>754.159807</td>\n",
       "      <td>6.232113</td>\n",
       "      <td>2021-04-20</td>\n",
       "    </tr>\n",
       "    <tr>\n",
       "      <th>3</th>\n",
       "      <td>1</td>\n",
       "      <td>2694.783254</td>\n",
       "      <td>18.511000</td>\n",
       "      <td>2021-08-11</td>\n",
       "    </tr>\n",
       "    <tr>\n",
       "      <th>4</th>\n",
       "      <td>1</td>\n",
       "      <td>4028.687306</td>\n",
       "      <td>26.265803</td>\n",
       "      <td>2021-08-28</td>\n",
       "    </tr>\n",
       "    <tr>\n",
       "      <th>5</th>\n",
       "      <td>1</td>\n",
       "      <td>2770.890808</td>\n",
       "      <td>16.650138</td>\n",
       "      <td>2021-10-09</td>\n",
       "    </tr>\n",
       "    <tr>\n",
       "      <th>6</th>\n",
       "      <td>1</td>\n",
       "      <td>3039.020292</td>\n",
       "      <td>14.927879</td>\n",
       "      <td>2021-10-19</td>\n",
       "    </tr>\n",
       "    <tr>\n",
       "      <th>7</th>\n",
       "      <td>1</td>\n",
       "      <td>2842.118050</td>\n",
       "      <td>23.117468</td>\n",
       "      <td>2021-11-06</td>\n",
       "    </tr>\n",
       "    <tr>\n",
       "      <th>8</th>\n",
       "      <td>1</td>\n",
       "      <td>3412.690668</td>\n",
       "      <td>15.238072</td>\n",
       "      <td>2021-11-14</td>\n",
       "    </tr>\n",
       "    <tr>\n",
       "      <th>9</th>\n",
       "      <td>1</td>\n",
       "      <td>748.690645</td>\n",
       "      <td>15.041884</td>\n",
       "      <td>2021-11-22</td>\n",
       "    </tr>\n",
       "  </tbody>\n",
       "</table>\n",
       "</div>"
      ],
      "text/plain": [
       "   user_id     distance   duration        date\n",
       "0        1  4409.919140  25.599769  2021-01-01\n",
       "1        1  2617.592153  15.816871  2021-01-18\n",
       "2        1   754.159807   6.232113  2021-04-20\n",
       "3        1  2694.783254  18.511000  2021-08-11\n",
       "4        1  4028.687306  26.265803  2021-08-28\n",
       "5        1  2770.890808  16.650138  2021-10-09\n",
       "6        1  3039.020292  14.927879  2021-10-19\n",
       "7        1  2842.118050  23.117468  2021-11-06\n",
       "8        1  3412.690668  15.238072  2021-11-14\n",
       "9        1   748.690645  15.041884  2021-11-22"
      ]
     },
     "metadata": {},
     "output_type": "display_data"
    },
    {
     "name": "stdout",
     "output_type": "stream",
     "text": [
      "<class 'pandas.core.frame.DataFrame'>\n",
      "RangeIndex: 18068 entries, 0 to 18067\n",
      "Data columns (total 4 columns):\n",
      " #   Column    Non-Null Count  Dtype  \n",
      "---  ------    --------------  -----  \n",
      " 0   user_id   18068 non-null  int64  \n",
      " 1   distance  18068 non-null  float64\n",
      " 2   duration  18068 non-null  float64\n",
      " 3   date      18068 non-null  object \n",
      "dtypes: float64(2), int64(1), object(1)\n",
      "memory usage: 564.8+ KB\n"
     ]
    },
    {
     "data": {
      "text/plain": [
       "user_id     0\n",
       "distance    0\n",
       "duration    0\n",
       "date        0\n",
       "dtype: int64"
      ]
     },
     "execution_count": 4,
     "metadata": {},
     "output_type": "execute_result"
    }
   ],
   "source": [
    "# Выведем первые несколько строк массива и общую информацию для данных о поездках пользователях:\n",
    "display(data_rides.head(10))\n",
    "data_rides.info()\n",
    "data_rides.isna().sum()"
   ]
  },
  {
   "cell_type": "markdown",
   "id": "e0a5b1ad",
   "metadata": {},
   "source": [
    "Теперь мы имеем датафрейм со следующими столбцами: `user_id`, `distance`, `duration`, `date`, в которых хранятся данные о том же уникальном идентификаторе пользователя; расстоянии, которое он(а) проехал в текущей сессии (в метрах); продолжительности сессии (в минутах) — время с того момента, как пользователь нажал кнопку «Начать поездку» до момента, как он нажал кнопку «Завершить поездку»; дате совершения поездки.\n",
    "В итоге мы получили 18068 наблюдений без пропусков, однако, выведя общую информацию о датафрейме, видим, что тип данных с датами не в порядке (недочет будет исправлен в Шаге 2 на этапе предобработки данных)."
   ]
  },
  {
   "cell_type": "markdown",
   "id": "77ca47ad",
   "metadata": {},
   "source": [
    "**Информация о подписках**"
   ]
  },
  {
   "cell_type": "code",
   "execution_count": 5,
   "id": "445e2919",
   "metadata": {},
   "outputs": [
    {
     "data": {
      "text/html": [
       "<div>\n",
       "<style scoped>\n",
       "    .dataframe tbody tr th:only-of-type {\n",
       "        vertical-align: middle;\n",
       "    }\n",
       "\n",
       "    .dataframe tbody tr th {\n",
       "        vertical-align: top;\n",
       "    }\n",
       "\n",
       "    .dataframe thead th {\n",
       "        text-align: right;\n",
       "    }\n",
       "</style>\n",
       "<table border=\"1\" class=\"dataframe\">\n",
       "  <thead>\n",
       "    <tr style=\"text-align: right;\">\n",
       "      <th></th>\n",
       "      <th>subscription_type</th>\n",
       "      <th>minute_price</th>\n",
       "      <th>start_ride_price</th>\n",
       "      <th>subscription_fee</th>\n",
       "    </tr>\n",
       "  </thead>\n",
       "  <tbody>\n",
       "    <tr>\n",
       "      <th>0</th>\n",
       "      <td>free</td>\n",
       "      <td>8</td>\n",
       "      <td>50</td>\n",
       "      <td>0</td>\n",
       "    </tr>\n",
       "    <tr>\n",
       "      <th>1</th>\n",
       "      <td>ultra</td>\n",
       "      <td>6</td>\n",
       "      <td>0</td>\n",
       "      <td>199</td>\n",
       "    </tr>\n",
       "  </tbody>\n",
       "</table>\n",
       "</div>"
      ],
      "text/plain": [
       "  subscription_type  minute_price  start_ride_price  subscription_fee\n",
       "0              free             8                50                 0\n",
       "1             ultra             6                 0               199"
      ]
     },
     "metadata": {},
     "output_type": "display_data"
    },
    {
     "name": "stdout",
     "output_type": "stream",
     "text": [
      "<class 'pandas.core.frame.DataFrame'>\n",
      "RangeIndex: 2 entries, 0 to 1\n",
      "Data columns (total 4 columns):\n",
      " #   Column             Non-Null Count  Dtype \n",
      "---  ------             --------------  ----- \n",
      " 0   subscription_type  2 non-null      object\n",
      " 1   minute_price       2 non-null      int64 \n",
      " 2   start_ride_price   2 non-null      int64 \n",
      " 3   subscription_fee   2 non-null      int64 \n",
      "dtypes: int64(3), object(1)\n",
      "memory usage: 192.0+ bytes\n"
     ]
    },
    {
     "data": {
      "text/plain": [
       "subscription_type    0\n",
       "minute_price         0\n",
       "start_ride_price     0\n",
       "subscription_fee     0\n",
       "dtype: int64"
      ]
     },
     "execution_count": 5,
     "metadata": {},
     "output_type": "execute_result"
    }
   ],
   "source": [
    "display(data_subscriptions.head())\n",
    "data_subscriptions.info()\n",
    "data_subscriptions.isna().sum()"
   ]
  },
  {
   "cell_type": "markdown",
   "id": "1ad23135",
   "metadata": {},
   "source": [
    "Имеется всего 2 варианта подписки, пропуски отсутствуют. В датафрейме даны следующие столбцы: `subscription_type` о типе подписки (free - без подписки, ultra - с подпиской), `minute_price` о стоимости одной минуты поездки по данной подписке, `start_ride_price` о стоимость начала поездки, `subscription_fee` о стоимости ежемесячного платежа. С типами данных все в порядке, можно идти дальше."
   ]
  },
  {
   "cell_type": "markdown",
   "id": "d4c6793c",
   "metadata": {},
   "source": [
    "На Шаге 1 мы загрузили и исследовали предварительную информацию о предоставленных данных. Очевидно, что необходима предобработка в части корректировки типов данных. Кроме того, не лишним будет проверить и наличие дубликатов."
   ]
  },
  {
   "cell_type": "markdown",
   "id": "e95ebca7",
   "metadata": {},
   "source": [
    "#### Шаг 2. Предобработка данных"
   ]
  },
  {
   "cell_type": "code",
   "execution_count": 6,
   "id": "af6d202c",
   "metadata": {},
   "outputs": [
    {
     "name": "stdout",
     "output_type": "stream",
     "text": [
      "<class 'pandas.core.frame.DataFrame'>\n",
      "RangeIndex: 18068 entries, 0 to 18067\n",
      "Data columns (total 4 columns):\n",
      " #   Column    Non-Null Count  Dtype         \n",
      "---  ------    --------------  -----         \n",
      " 0   user_id   18068 non-null  int64         \n",
      " 1   distance  18068 non-null  float64       \n",
      " 2   duration  18068 non-null  float64       \n",
      " 3   date      18068 non-null  datetime64[ns]\n",
      "dtypes: datetime64[ns](1), float64(2), int64(1)\n",
      "memory usage: 564.8 KB\n"
     ]
    }
   ],
   "source": [
    "# Приведем столбец date к типу даты Pandas\n",
    "data_rides['date'] = pd.to_datetime(data_rides['date'], format='%Y-%m-%dT%H:%M:%S')\n",
    "data_rides.info()\n",
    "# Проверили, формат изменен"
   ]
  },
  {
   "cell_type": "code",
   "execution_count": 7,
   "id": "6f8d57e2",
   "metadata": {},
   "outputs": [
    {
     "data": {
      "text/plain": [
       "array(['1', '4', '8', '10', '11', '12', '3', '6', '7', '2', '5', '9'],\n",
       "      dtype=object)"
      ]
     },
     "execution_count": 7,
     "metadata": {},
     "output_type": "execute_result"
    }
   ],
   "source": [
    "# Создадим новый столбец с номером месяца:\n",
    "data_rides['month']=data_rides['date'].dt.strftime('%-m')\n",
    "# Проверим на всякий случай уникальные значения:\n",
    "data_rides['month'].unique()\n"
   ]
  },
  {
   "cell_type": "code",
   "execution_count": 8,
   "id": "2cab06cd",
   "metadata": {},
   "outputs": [
    {
     "data": {
      "text/plain": [
       "array(['2021'], dtype=object)"
      ]
     },
     "execution_count": 8,
     "metadata": {},
     "output_type": "execute_result"
    }
   ],
   "source": [
    "# Проверим, за какой период нам предоставлены данные\n",
    "data_rides['year']=data_rides['date'].dt.strftime('%Y')\n",
    "data_rides['year'].unique()"
   ]
  },
  {
   "cell_type": "markdown",
   "id": "cf79f32d",
   "metadata": {},
   "source": [
    "Уникальные значения показывают, что данные имеются только за 2021 год. \n",
    "\n",
    "Проверим далее наши датасеты на наличие дубликатов."
   ]
  },
  {
   "cell_type": "code",
   "execution_count": 9,
   "id": "a5696e26",
   "metadata": {},
   "outputs": [
    {
     "data": {
      "text/plain": [
       "31"
      ]
     },
     "execution_count": 9,
     "metadata": {},
     "output_type": "execute_result"
    }
   ],
   "source": [
    "# Проверим наличие явных дубликатов в массиве данных о пользователях:\n",
    "data_users['user_id'].unique()\n",
    "data_users.duplicated()\n",
    "data_users.duplicated().sum()"
   ]
  },
  {
   "cell_type": "markdown",
   "id": "5659fb24",
   "metadata": {},
   "source": [
    "Увидели, что мы имеем 31 явный дубликат: строки, которые полностью повторяются. Удалим их:"
   ]
  },
  {
   "cell_type": "code",
   "execution_count": 10,
   "id": "a7595027",
   "metadata": {},
   "outputs": [
    {
     "data": {
      "text/plain": [
       "1534"
      ]
     },
     "execution_count": 10,
     "metadata": {},
     "output_type": "execute_result"
    }
   ],
   "source": [
    "# Удалим строки, которые полностью дублируют друг друга, их 31:\n",
    "data_users=data_users.drop_duplicates() \n",
    "\n",
    "# Проверим количество явных дубликатов:\n",
    "data_users.duplicated().sum()\n",
    "#data_users.info()\n",
    "# Теперь у нас 1534 наблюдения \n",
    "\n",
    "# Проверим на всякий случай количество уникальных значений столбца user_id:\n",
    "data_users['user_id'].nunique()"
   ]
  },
  {
   "cell_type": "markdown",
   "id": "1abfc315",
   "metadata": {},
   "source": [
    "В массиве данных о пользователях с помощью кода `data_users.duplicated().sum()` были обнаружены полностью дублирующие друг друга строки (в количестве 31 штуки). После их удаления у нас осталось 1534 наблюдения.\n",
    "\n",
    "Далее с помощью кода `data_users['user_id'].nunique()` на всякий случай мы проверили количество уникальных значений столбца user_id на предмет ошибки: в случае если под одним и тем же user_id указаны данные о разных пользователях\n",
    "\n",
    "Количество уникальных `user_id` равно количеству оставшихся наблюдений, поэтому ошибок нет, можем идти дальше и анализировать данные о поездках."
   ]
  },
  {
   "cell_type": "code",
   "execution_count": 11,
   "id": "a6234d71",
   "metadata": {},
   "outputs": [
    {
     "data": {
      "text/plain": [
       "17974"
      ]
     },
     "execution_count": 11,
     "metadata": {},
     "output_type": "execute_result"
    }
   ],
   "source": [
    "# Найдем явные дубликаты для данных о поездках:\n",
    "data_rides.duplicated()\n",
    "data_rides.duplicated().sum()\n",
    "# Явных дубликатов нет\n",
    "\n",
    "# Можем также проверить, для всех ли user_id есть информация о поездках:\n",
    "data_rides['user_id'].nunique()\n",
    "# Уникальных значений user_id 1534 - данные о поездках есть для всех пользователей в нашей выборке\n",
    "data_rides['distance'].nunique()\n",
    "data_rides['duration'].nunique()"
   ]
  },
  {
   "cell_type": "markdown",
   "id": "78a2ca51",
   "metadata": {},
   "source": [
    "Явных дубликатов в массиве данных о поездках не оказалось, данные о поездках есть для всех пользователей в нашей выборке. В нашей выборке также есть совпадающие данные по длительности поездок, но учитывая, что все данные о дистанциях уникальны, то удалять строки с повторяющимися данными о длительности поездок не стоит."
   ]
  },
  {
   "cell_type": "markdown",
   "id": "2e1321d3",
   "metadata": {},
   "source": [
    "Массив данных о подписках совсем невелик, наличие дубликатов можно проверить вручную: они отсутствуют. Данный массив дальнейшей предобработки на данном этапе не требует."
   ]
  },
  {
   "cell_type": "markdown",
   "id": "b369b9c8",
   "metadata": {},
   "source": [
    "На Шаге 2 мы предобработали данные: изменили тип данных, где это было необходимо ( а именно привели привели столбец `date` к типу даты Pandas); создали новый столбец с номером месяца на основе столбца `date` (это понадобится для дальнейшего анализа, особенно в части вычисления помесячной выручки); оздали новый столбец с обозначением года на основе столбца `date` (чтобы понять, за какой период были предоставлены данные и для недопущения отображения некорректных данных по ежемесячной выручке); проверили наличие пропущенных значений (в том числе и на Шаге 1) и дубликатов в датафреймах (полностью повторяющиеся строки были удалены)."
   ]
  },
  {
   "cell_type": "markdown",
   "id": "212593c7",
   "metadata": {},
   "source": [
    "#### Шаг 3. Исследовательский анализ данных"
   ]
  },
  {
   "cell_type": "markdown",
   "id": "9c2c8834",
   "metadata": {},
   "source": [
    "**Частота встречаемости городов**"
   ]
  },
  {
   "cell_type": "code",
   "execution_count": 12,
   "id": "e3a4274c",
   "metadata": {},
   "outputs": [
    {
     "data": {
      "text/plain": [
       "[Text(0.5, 0, 'Город'),\n",
       " Text(0, 0.5, 'Количество пользователей, ед.'),\n",
       " Text(0.5, 1.0, 'Частота встречаемости городов')]"
      ]
     },
     "execution_count": 12,
     "metadata": {},
     "output_type": "execute_result"
    },
    {
     "data": {
      "image/png": "[encoded data removed]",
      "text/plain": [
       "<Figure size 842.4x595.44 with 1 Axes>"
      ]
     },
     "metadata": {},
     "output_type": "display_data"
    }
   ],
   "source": [
    "seaborn.set(rc={'figure.figsize':(11.7, 8.27)})\n",
    "ax=seaborn.countplot(x='city', data=data_users, color='b')\n",
    "ax.set(xlabel='Город', ylabel='Количество пользователей, ед.', title='Частота встречаемости городов')"
   ]
  },
  {
   "cell_type": "markdown",
   "id": "5bc5825f",
   "metadata": {},
   "source": [
    "Частота встречаемости городов примерно одинаковая, при этом наиболее часто встречающийся в нашей выборке город - Пятигорск, а наименее популярной услуга оказалось в Москве."
   ]
  },
  {
   "cell_type": "markdown",
   "id": "dd4e6fcb",
   "metadata": {},
   "source": [
    "**Соотношение пользователей с подпиской и без подписки**"
   ]
  },
  {
   "cell_type": "code",
   "execution_count": 13,
   "id": "b04a10d9",
   "metadata": {},
   "outputs": [
    {
     "data": {
      "text/plain": [
       "[Text(0.5, 0, 'Тип подписки'),\n",
       " Text(0, 0.5, 'Количество пользователей, ед.'),\n",
       " Text(0.5, 1.0, 'Сравнение количества пользователей с подпиской и без подписки')]"
      ]
     },
     "execution_count": 13,
     "metadata": {},
     "output_type": "execute_result"
    },
    {
     "data": {
      "image/png": "[encoded data removed]",
      "text/plain": [
       "<Figure size 842.4x595.44 with 1 Axes>"
      ]
     },
     "metadata": {},
     "output_type": "display_data"
    }
   ],
   "source": [
    "ax=seaborn.countplot(x='subscription_type', data=data_users, color='r')\n",
    "ax.set(xlabel='Тип подписки', ylabel='Количество пользователей, ед.', title='Сравнение количества пользователей с подпиской и без подписки')"
   ]
  },
  {
   "cell_type": "markdown",
   "id": "abc72bcb",
   "metadata": {},
   "source": [
    "Видно, что чаще встречаются пользователи без подписки и их более 800, а пользователей с подпиской около 700."
   ]
  },
  {
   "cell_type": "markdown",
   "id": "113d55c9",
   "metadata": {},
   "source": [
    "**Возраст пользователей**"
   ]
  },
  {
   "cell_type": "code",
   "execution_count": 14,
   "id": "14096ec9",
   "metadata": {},
   "outputs": [
    {
     "data": {
      "text/plain": [
       "Text(0, 0.5, 'Частота')"
      ]
     },
     "execution_count": 14,
     "metadata": {},
     "output_type": "execute_result"
    },
    {
     "data": {
      "image/png": "[encoded data removed]",
      "text/plain": [
       "<Figure size 1152x576 with 1 Axes>"
      ]
     },
     "metadata": {},
     "output_type": "display_data"
    }
   ],
   "source": [
    "ax=data_users.plot(y='age', kind='hist', bins=55, grid=True, range=(0, 60), figsize=(16,8), title='Возраст пользователей по выборке')\n",
    "ax.set_xlabel(\"Возраст пользователей\")\n",
    "ax.set_ylabel(\"Частота\")"
   ]
  },
  {
   "cell_type": "markdown",
   "id": "cd48d426",
   "metadata": {},
   "source": [
    "Наиболее популярны услуги GoFast среди пользователей чуть старше 20 и немного моложе 30 лет; особо популярны услуги среди пользователей возрастом примерно 25 лет."
   ]
  },
  {
   "cell_type": "markdown",
   "id": "e82fd7ab",
   "metadata": {},
   "source": [
    "**Расстояние, которое пользователь преодолел за одну поездку**"
   ]
  },
  {
   "cell_type": "code",
   "execution_count": 15,
   "id": "99c1e800",
   "metadata": {},
   "outputs": [
    {
     "data": {
      "text/plain": [
       "Text(0, 0.5, 'Частота')"
      ]
     },
     "execution_count": 15,
     "metadata": {},
     "output_type": "execute_result"
    },
    {
     "data": {
      "image/png": "[encoded data removed]",
      "text/plain": [
       "<Figure size 1152x576 with 1 Axes>"
      ]
     },
     "metadata": {},
     "output_type": "display_data"
    }
   ],
   "source": [
    "data_rides.describe()\n",
    "ax=data_rides.plot(y='distance', kind='hist', bins=55, grid=True, range=(0, 7300), figsize=(16,8), title='Расстояние, которое пользователь преодолел за одну поездку')\n",
    "ax.set_xlabel(\"Расстояние, м\")\n",
    "ax.set_ylabel(\"Частота\")"
   ]
  },
  {
   "cell_type": "markdown",
   "id": "9307d563",
   "metadata": {},
   "source": [
    "Дистанции за одну поездку в промежутке от около 2,5 до 4 км оказались самыми популярными в нашей выборке."
   ]
  },
  {
   "cell_type": "markdown",
   "id": "ece60c19",
   "metadata": {},
   "source": [
    "**Продолжительность поездок**"
   ]
  },
  {
   "cell_type": "code",
   "execution_count": 16,
   "id": "7bff905b",
   "metadata": {},
   "outputs": [
    {
     "data": {
      "text/plain": [
       "Text(0, 0.5, 'Частота')"
      ]
     },
     "execution_count": 16,
     "metadata": {},
     "output_type": "execute_result"
    },
    {
     "data": {
      "image/png": "[encoded data removed]",
      "text/plain": [
       "<Figure size 1152x576 with 1 Axes>"
      ]
     },
     "metadata": {},
     "output_type": "display_data"
    }
   ],
   "source": [
    "ax=data_rides.plot(y='duration', kind='hist', bins=50, grid=True, range=(0, 40), figsize=(16,8), title='Продолжительность поездок')\n",
    "ax.set_xlabel(\"Время сессии, мин.\")\n",
    "ax.set_ylabel(\"Частота\")"
   ]
  },
  {
   "cell_type": "markdown",
   "id": "797e1547",
   "metadata": {},
   "source": [
    "Наиболее часто встречающаяся продолжительность поездок в нашей выборке находится в диапазоне от более 10 до менее 25 минут."
   ]
  },
  {
   "cell_type": "markdown",
   "id": "4ef51331",
   "metadata": {},
   "source": [
    "#### Шаг 4. Объединение данных"
   ]
  },
  {
   "cell_type": "markdown",
   "id": "63d3fd0e",
   "metadata": {},
   "source": [
    "**Объединенные данные о пользователях, поездках и подписках в одном датафрейме**"
   ]
  },
  {
   "cell_type": "code",
   "execution_count": 17,
   "id": "6bf288b5",
   "metadata": {},
   "outputs": [
    {
     "data": {
      "text/html": [
       "<div>\n",
       "<style scoped>\n",
       "    .dataframe tbody tr th:only-of-type {\n",
       "        vertical-align: middle;\n",
       "    }\n",
       "\n",
       "    .dataframe tbody tr th {\n",
       "        vertical-align: top;\n",
       "    }\n",
       "\n",
       "    .dataframe thead th {\n",
       "        text-align: right;\n",
       "    }\n",
       "</style>\n",
       "<table border=\"1\" class=\"dataframe\">\n",
       "  <thead>\n",
       "    <tr style=\"text-align: right;\">\n",
       "      <th></th>\n",
       "      <th>user_id</th>\n",
       "      <th>name</th>\n",
       "      <th>age</th>\n",
       "      <th>city</th>\n",
       "      <th>subscription_type</th>\n",
       "      <th>distance</th>\n",
       "      <th>duration</th>\n",
       "      <th>date</th>\n",
       "      <th>month</th>\n",
       "      <th>year</th>\n",
       "      <th>minute_price</th>\n",
       "      <th>start_ride_price</th>\n",
       "      <th>subscription_fee</th>\n",
       "    </tr>\n",
       "  </thead>\n",
       "  <tbody>\n",
       "    <tr>\n",
       "      <th>0</th>\n",
       "      <td>1</td>\n",
       "      <td>Кира</td>\n",
       "      <td>22</td>\n",
       "      <td>Тюмень</td>\n",
       "      <td>ultra</td>\n",
       "      <td>4409.919140</td>\n",
       "      <td>25.599769</td>\n",
       "      <td>2021-01-01</td>\n",
       "      <td>1</td>\n",
       "      <td>2021</td>\n",
       "      <td>6</td>\n",
       "      <td>0</td>\n",
       "      <td>199</td>\n",
       "    </tr>\n",
       "    <tr>\n",
       "      <th>1</th>\n",
       "      <td>1</td>\n",
       "      <td>Кира</td>\n",
       "      <td>22</td>\n",
       "      <td>Тюмень</td>\n",
       "      <td>ultra</td>\n",
       "      <td>2617.592153</td>\n",
       "      <td>15.816871</td>\n",
       "      <td>2021-01-18</td>\n",
       "      <td>1</td>\n",
       "      <td>2021</td>\n",
       "      <td>6</td>\n",
       "      <td>0</td>\n",
       "      <td>199</td>\n",
       "    </tr>\n",
       "    <tr>\n",
       "      <th>2</th>\n",
       "      <td>1</td>\n",
       "      <td>Кира</td>\n",
       "      <td>22</td>\n",
       "      <td>Тюмень</td>\n",
       "      <td>ultra</td>\n",
       "      <td>754.159807</td>\n",
       "      <td>6.232113</td>\n",
       "      <td>2021-04-20</td>\n",
       "      <td>4</td>\n",
       "      <td>2021</td>\n",
       "      <td>6</td>\n",
       "      <td>0</td>\n",
       "      <td>199</td>\n",
       "    </tr>\n",
       "    <tr>\n",
       "      <th>3</th>\n",
       "      <td>1</td>\n",
       "      <td>Кира</td>\n",
       "      <td>22</td>\n",
       "      <td>Тюмень</td>\n",
       "      <td>ultra</td>\n",
       "      <td>2694.783254</td>\n",
       "      <td>18.511000</td>\n",
       "      <td>2021-08-11</td>\n",
       "      <td>8</td>\n",
       "      <td>2021</td>\n",
       "      <td>6</td>\n",
       "      <td>0</td>\n",
       "      <td>199</td>\n",
       "    </tr>\n",
       "    <tr>\n",
       "      <th>4</th>\n",
       "      <td>1</td>\n",
       "      <td>Кира</td>\n",
       "      <td>22</td>\n",
       "      <td>Тюмень</td>\n",
       "      <td>ultra</td>\n",
       "      <td>4028.687306</td>\n",
       "      <td>26.265803</td>\n",
       "      <td>2021-08-28</td>\n",
       "      <td>8</td>\n",
       "      <td>2021</td>\n",
       "      <td>6</td>\n",
       "      <td>0</td>\n",
       "      <td>199</td>\n",
       "    </tr>\n",
       "    <tr>\n",
       "      <th>...</th>\n",
       "      <td>...</td>\n",
       "      <td>...</td>\n",
       "      <td>...</td>\n",
       "      <td>...</td>\n",
       "      <td>...</td>\n",
       "      <td>...</td>\n",
       "      <td>...</td>\n",
       "      <td>...</td>\n",
       "      <td>...</td>\n",
       "      <td>...</td>\n",
       "      <td>...</td>\n",
       "      <td>...</td>\n",
       "      <td>...</td>\n",
       "    </tr>\n",
       "    <tr>\n",
       "      <th>18063</th>\n",
       "      <td>1534</td>\n",
       "      <td>Альберт</td>\n",
       "      <td>25</td>\n",
       "      <td>Краснодар</td>\n",
       "      <td>free</td>\n",
       "      <td>3781.098080</td>\n",
       "      <td>19.822962</td>\n",
       "      <td>2021-11-04</td>\n",
       "      <td>11</td>\n",
       "      <td>2021</td>\n",
       "      <td>8</td>\n",
       "      <td>50</td>\n",
       "      <td>0</td>\n",
       "    </tr>\n",
       "    <tr>\n",
       "      <th>18064</th>\n",
       "      <td>1534</td>\n",
       "      <td>Альберт</td>\n",
       "      <td>25</td>\n",
       "      <td>Краснодар</td>\n",
       "      <td>free</td>\n",
       "      <td>2840.423057</td>\n",
       "      <td>21.409799</td>\n",
       "      <td>2021-11-16</td>\n",
       "      <td>11</td>\n",
       "      <td>2021</td>\n",
       "      <td>8</td>\n",
       "      <td>50</td>\n",
       "      <td>0</td>\n",
       "    </tr>\n",
       "    <tr>\n",
       "      <th>18065</th>\n",
       "      <td>1534</td>\n",
       "      <td>Альберт</td>\n",
       "      <td>25</td>\n",
       "      <td>Краснодар</td>\n",
       "      <td>free</td>\n",
       "      <td>3826.185507</td>\n",
       "      <td>18.435051</td>\n",
       "      <td>2021-11-18</td>\n",
       "      <td>11</td>\n",
       "      <td>2021</td>\n",
       "      <td>8</td>\n",
       "      <td>50</td>\n",
       "      <td>0</td>\n",
       "    </tr>\n",
       "    <tr>\n",
       "      <th>18066</th>\n",
       "      <td>1534</td>\n",
       "      <td>Альберт</td>\n",
       "      <td>25</td>\n",
       "      <td>Краснодар</td>\n",
       "      <td>free</td>\n",
       "      <td>2902.308661</td>\n",
       "      <td>16.674362</td>\n",
       "      <td>2021-11-27</td>\n",
       "      <td>11</td>\n",
       "      <td>2021</td>\n",
       "      <td>8</td>\n",
       "      <td>50</td>\n",
       "      <td>0</td>\n",
       "    </tr>\n",
       "    <tr>\n",
       "      <th>18067</th>\n",
       "      <td>1534</td>\n",
       "      <td>Альберт</td>\n",
       "      <td>25</td>\n",
       "      <td>Краснодар</td>\n",
       "      <td>free</td>\n",
       "      <td>2371.711192</td>\n",
       "      <td>15.893917</td>\n",
       "      <td>2021-12-29</td>\n",
       "      <td>12</td>\n",
       "      <td>2021</td>\n",
       "      <td>8</td>\n",
       "      <td>50</td>\n",
       "      <td>0</td>\n",
       "    </tr>\n",
       "  </tbody>\n",
       "</table>\n",
       "<p>18068 rows × 13 columns</p>\n",
       "</div>"
      ],
      "text/plain": [
       "       user_id     name  age       city subscription_type     distance  \\\n",
       "0            1     Кира   22     Тюмень             ultra  4409.919140   \n",
       "1            1     Кира   22     Тюмень             ultra  2617.592153   \n",
       "2            1     Кира   22     Тюмень             ultra   754.159807   \n",
       "3            1     Кира   22     Тюмень             ultra  2694.783254   \n",
       "4            1     Кира   22     Тюмень             ultra  4028.687306   \n",
       "...        ...      ...  ...        ...               ...          ...   \n",
       "18063     1534  Альберт   25  Краснодар              free  3781.098080   \n",
       "18064     1534  Альберт   25  Краснодар              free  2840.423057   \n",
       "18065     1534  Альберт   25  Краснодар              free  3826.185507   \n",
       "18066     1534  Альберт   25  Краснодар              free  2902.308661   \n",
       "18067     1534  Альберт   25  Краснодар              free  2371.711192   \n",
       "\n",
       "        duration       date month  year  minute_price  start_ride_price  \\\n",
       "0      25.599769 2021-01-01     1  2021             6                 0   \n",
       "1      15.816871 2021-01-18     1  2021             6                 0   \n",
       "2       6.232113 2021-04-20     4  2021             6                 0   \n",
       "3      18.511000 2021-08-11     8  2021             6                 0   \n",
       "4      26.265803 2021-08-28     8  2021             6                 0   \n",
       "...          ...        ...   ...   ...           ...               ...   \n",
       "18063  19.822962 2021-11-04    11  2021             8                50   \n",
       "18064  21.409799 2021-11-16    11  2021             8                50   \n",
       "18065  18.435051 2021-11-18    11  2021             8                50   \n",
       "18066  16.674362 2021-11-27    11  2021             8                50   \n",
       "18067  15.893917 2021-12-29    12  2021             8                50   \n",
       "\n",
       "       subscription_fee  \n",
       "0                   199  \n",
       "1                   199  \n",
       "2                   199  \n",
       "3                   199  \n",
       "4                   199  \n",
       "...                 ...  \n",
       "18063                 0  \n",
       "18064                 0  \n",
       "18065                 0  \n",
       "18066                 0  \n",
       "18067                 0  \n",
       "\n",
       "[18068 rows x 13 columns]"
      ]
     },
     "execution_count": 17,
     "metadata": {},
     "output_type": "execute_result"
    }
   ],
   "source": [
    "data_united = data_users.merge(data_rides, on='user_id', how='left')\n",
    "data_united\n",
    "data_final_united = data_united.merge(data_subscriptions, on ='subscription_type', how='left')\n",
    "data_final_united"
   ]
  },
  {
   "cell_type": "markdown",
   "id": "0345fdab",
   "metadata": {},
   "source": [
    "**Таблица с данными о пользователях без подписки**"
   ]
  },
  {
   "cell_type": "code",
   "execution_count": 18,
   "id": "c372c6ef",
   "metadata": {},
   "outputs": [
    {
     "data": {
      "text/html": [
       "<div>\n",
       "<style scoped>\n",
       "    .dataframe tbody tr th:only-of-type {\n",
       "        vertical-align: middle;\n",
       "    }\n",
       "\n",
       "    .dataframe tbody tr th {\n",
       "        vertical-align: top;\n",
       "    }\n",
       "\n",
       "    .dataframe thead th {\n",
       "        text-align: right;\n",
       "    }\n",
       "</style>\n",
       "<table border=\"1\" class=\"dataframe\">\n",
       "  <thead>\n",
       "    <tr style=\"text-align: right;\">\n",
       "      <th></th>\n",
       "      <th>user_id</th>\n",
       "      <th>name</th>\n",
       "      <th>age</th>\n",
       "      <th>city</th>\n",
       "      <th>subscription_type</th>\n",
       "      <th>distance</th>\n",
       "      <th>duration</th>\n",
       "      <th>date</th>\n",
       "      <th>month</th>\n",
       "      <th>year</th>\n",
       "      <th>minute_price</th>\n",
       "      <th>start_ride_price</th>\n",
       "      <th>subscription_fee</th>\n",
       "    </tr>\n",
       "  </thead>\n",
       "  <tbody>\n",
       "    <tr>\n",
       "      <th>6500</th>\n",
       "      <td>700</td>\n",
       "      <td>Айдар</td>\n",
       "      <td>22</td>\n",
       "      <td>Омск</td>\n",
       "      <td>free</td>\n",
       "      <td>2515.690719</td>\n",
       "      <td>14.944286</td>\n",
       "      <td>2021-01-02</td>\n",
       "      <td>1</td>\n",
       "      <td>2021</td>\n",
       "      <td>8</td>\n",
       "      <td>50</td>\n",
       "      <td>0</td>\n",
       "    </tr>\n",
       "    <tr>\n",
       "      <th>6501</th>\n",
       "      <td>700</td>\n",
       "      <td>Айдар</td>\n",
       "      <td>22</td>\n",
       "      <td>Омск</td>\n",
       "      <td>free</td>\n",
       "      <td>846.932642</td>\n",
       "      <td>16.234663</td>\n",
       "      <td>2021-02-01</td>\n",
       "      <td>2</td>\n",
       "      <td>2021</td>\n",
       "      <td>8</td>\n",
       "      <td>50</td>\n",
       "      <td>0</td>\n",
       "    </tr>\n",
       "    <tr>\n",
       "      <th>6502</th>\n",
       "      <td>700</td>\n",
       "      <td>Айдар</td>\n",
       "      <td>22</td>\n",
       "      <td>Омск</td>\n",
       "      <td>free</td>\n",
       "      <td>4004.434142</td>\n",
       "      <td>20.016628</td>\n",
       "      <td>2021-02-04</td>\n",
       "      <td>2</td>\n",
       "      <td>2021</td>\n",
       "      <td>8</td>\n",
       "      <td>50</td>\n",
       "      <td>0</td>\n",
       "    </tr>\n",
       "    <tr>\n",
       "      <th>6503</th>\n",
       "      <td>700</td>\n",
       "      <td>Айдар</td>\n",
       "      <td>22</td>\n",
       "      <td>Омск</td>\n",
       "      <td>free</td>\n",
       "      <td>1205.911290</td>\n",
       "      <td>9.782872</td>\n",
       "      <td>2021-02-10</td>\n",
       "      <td>2</td>\n",
       "      <td>2021</td>\n",
       "      <td>8</td>\n",
       "      <td>50</td>\n",
       "      <td>0</td>\n",
       "    </tr>\n",
       "    <tr>\n",
       "      <th>6504</th>\n",
       "      <td>700</td>\n",
       "      <td>Айдар</td>\n",
       "      <td>22</td>\n",
       "      <td>Омск</td>\n",
       "      <td>free</td>\n",
       "      <td>3047.379435</td>\n",
       "      <td>17.427673</td>\n",
       "      <td>2021-02-14</td>\n",
       "      <td>2</td>\n",
       "      <td>2021</td>\n",
       "      <td>8</td>\n",
       "      <td>50</td>\n",
       "      <td>0</td>\n",
       "    </tr>\n",
       "    <tr>\n",
       "      <th>...</th>\n",
       "      <td>...</td>\n",
       "      <td>...</td>\n",
       "      <td>...</td>\n",
       "      <td>...</td>\n",
       "      <td>...</td>\n",
       "      <td>...</td>\n",
       "      <td>...</td>\n",
       "      <td>...</td>\n",
       "      <td>...</td>\n",
       "      <td>...</td>\n",
       "      <td>...</td>\n",
       "      <td>...</td>\n",
       "      <td>...</td>\n",
       "    </tr>\n",
       "    <tr>\n",
       "      <th>18063</th>\n",
       "      <td>1534</td>\n",
       "      <td>Альберт</td>\n",
       "      <td>25</td>\n",
       "      <td>Краснодар</td>\n",
       "      <td>free</td>\n",
       "      <td>3781.098080</td>\n",
       "      <td>19.822962</td>\n",
       "      <td>2021-11-04</td>\n",
       "      <td>11</td>\n",
       "      <td>2021</td>\n",
       "      <td>8</td>\n",
       "      <td>50</td>\n",
       "      <td>0</td>\n",
       "    </tr>\n",
       "    <tr>\n",
       "      <th>18064</th>\n",
       "      <td>1534</td>\n",
       "      <td>Альберт</td>\n",
       "      <td>25</td>\n",
       "      <td>Краснодар</td>\n",
       "      <td>free</td>\n",
       "      <td>2840.423057</td>\n",
       "      <td>21.409799</td>\n",
       "      <td>2021-11-16</td>\n",
       "      <td>11</td>\n",
       "      <td>2021</td>\n",
       "      <td>8</td>\n",
       "      <td>50</td>\n",
       "      <td>0</td>\n",
       "    </tr>\n",
       "    <tr>\n",
       "      <th>18065</th>\n",
       "      <td>1534</td>\n",
       "      <td>Альберт</td>\n",
       "      <td>25</td>\n",
       "      <td>Краснодар</td>\n",
       "      <td>free</td>\n",
       "      <td>3826.185507</td>\n",
       "      <td>18.435051</td>\n",
       "      <td>2021-11-18</td>\n",
       "      <td>11</td>\n",
       "      <td>2021</td>\n",
       "      <td>8</td>\n",
       "      <td>50</td>\n",
       "      <td>0</td>\n",
       "    </tr>\n",
       "    <tr>\n",
       "      <th>18066</th>\n",
       "      <td>1534</td>\n",
       "      <td>Альберт</td>\n",
       "      <td>25</td>\n",
       "      <td>Краснодар</td>\n",
       "      <td>free</td>\n",
       "      <td>2902.308661</td>\n",
       "      <td>16.674362</td>\n",
       "      <td>2021-11-27</td>\n",
       "      <td>11</td>\n",
       "      <td>2021</td>\n",
       "      <td>8</td>\n",
       "      <td>50</td>\n",
       "      <td>0</td>\n",
       "    </tr>\n",
       "    <tr>\n",
       "      <th>18067</th>\n",
       "      <td>1534</td>\n",
       "      <td>Альберт</td>\n",
       "      <td>25</td>\n",
       "      <td>Краснодар</td>\n",
       "      <td>free</td>\n",
       "      <td>2371.711192</td>\n",
       "      <td>15.893917</td>\n",
       "      <td>2021-12-29</td>\n",
       "      <td>12</td>\n",
       "      <td>2021</td>\n",
       "      <td>8</td>\n",
       "      <td>50</td>\n",
       "      <td>0</td>\n",
       "    </tr>\n",
       "  </tbody>\n",
       "</table>\n",
       "<p>11568 rows × 13 columns</p>\n",
       "</div>"
      ],
      "text/plain": [
       "       user_id     name  age       city subscription_type     distance  \\\n",
       "6500       700    Айдар   22       Омск              free  2515.690719   \n",
       "6501       700    Айдар   22       Омск              free   846.932642   \n",
       "6502       700    Айдар   22       Омск              free  4004.434142   \n",
       "6503       700    Айдар   22       Омск              free  1205.911290   \n",
       "6504       700    Айдар   22       Омск              free  3047.379435   \n",
       "...        ...      ...  ...        ...               ...          ...   \n",
       "18063     1534  Альберт   25  Краснодар              free  3781.098080   \n",
       "18064     1534  Альберт   25  Краснодар              free  2840.423057   \n",
       "18065     1534  Альберт   25  Краснодар              free  3826.185507   \n",
       "18066     1534  Альберт   25  Краснодар              free  2902.308661   \n",
       "18067     1534  Альберт   25  Краснодар              free  2371.711192   \n",
       "\n",
       "        duration       date month  year  minute_price  start_ride_price  \\\n",
       "6500   14.944286 2021-01-02     1  2021             8                50   \n",
       "6501   16.234663 2021-02-01     2  2021             8                50   \n",
       "6502   20.016628 2021-02-04     2  2021             8                50   \n",
       "6503    9.782872 2021-02-10     2  2021             8                50   \n",
       "6504   17.427673 2021-02-14     2  2021             8                50   \n",
       "...          ...        ...   ...   ...           ...               ...   \n",
       "18063  19.822962 2021-11-04    11  2021             8                50   \n",
       "18064  21.409799 2021-11-16    11  2021             8                50   \n",
       "18065  18.435051 2021-11-18    11  2021             8                50   \n",
       "18066  16.674362 2021-11-27    11  2021             8                50   \n",
       "18067  15.893917 2021-12-29    12  2021             8                50   \n",
       "\n",
       "       subscription_fee  \n",
       "6500                  0  \n",
       "6501                  0  \n",
       "6502                  0  \n",
       "6503                  0  \n",
       "6504                  0  \n",
       "...                 ...  \n",
       "18063                 0  \n",
       "18064                 0  \n",
       "18065                 0  \n",
       "18066                 0  \n",
       "18067                 0  \n",
       "\n",
       "[11568 rows x 13 columns]"
      ]
     },
     "execution_count": 18,
     "metadata": {},
     "output_type": "execute_result"
    }
   ],
   "source": [
    "without_subscription = data_final_united.query('subscription_type == \"free\"')\n",
    "without_subscription"
   ]
  },
  {
   "cell_type": "markdown",
   "id": "dab465b7",
   "metadata": {},
   "source": [
    "**Таблица с данными о пользователях с подпиской**"
   ]
  },
  {
   "cell_type": "code",
   "execution_count": 19,
   "id": "a61bdb6c",
   "metadata": {},
   "outputs": [
    {
     "data": {
      "text/html": [
       "<div>\n",
       "<style scoped>\n",
       "    .dataframe tbody tr th:only-of-type {\n",
       "        vertical-align: middle;\n",
       "    }\n",
       "\n",
       "    .dataframe tbody tr th {\n",
       "        vertical-align: top;\n",
       "    }\n",
       "\n",
       "    .dataframe thead th {\n",
       "        text-align: right;\n",
       "    }\n",
       "</style>\n",
       "<table border=\"1\" class=\"dataframe\">\n",
       "  <thead>\n",
       "    <tr style=\"text-align: right;\">\n",
       "      <th></th>\n",
       "      <th>user_id</th>\n",
       "      <th>name</th>\n",
       "      <th>age</th>\n",
       "      <th>city</th>\n",
       "      <th>subscription_type</th>\n",
       "      <th>distance</th>\n",
       "      <th>duration</th>\n",
       "      <th>date</th>\n",
       "      <th>month</th>\n",
       "      <th>year</th>\n",
       "      <th>minute_price</th>\n",
       "      <th>start_ride_price</th>\n",
       "      <th>subscription_fee</th>\n",
       "    </tr>\n",
       "  </thead>\n",
       "  <tbody>\n",
       "    <tr>\n",
       "      <th>0</th>\n",
       "      <td>1</td>\n",
       "      <td>Кира</td>\n",
       "      <td>22</td>\n",
       "      <td>Тюмень</td>\n",
       "      <td>ultra</td>\n",
       "      <td>4409.919140</td>\n",
       "      <td>25.599769</td>\n",
       "      <td>2021-01-01</td>\n",
       "      <td>1</td>\n",
       "      <td>2021</td>\n",
       "      <td>6</td>\n",
       "      <td>0</td>\n",
       "      <td>199</td>\n",
       "    </tr>\n",
       "    <tr>\n",
       "      <th>1</th>\n",
       "      <td>1</td>\n",
       "      <td>Кира</td>\n",
       "      <td>22</td>\n",
       "      <td>Тюмень</td>\n",
       "      <td>ultra</td>\n",
       "      <td>2617.592153</td>\n",
       "      <td>15.816871</td>\n",
       "      <td>2021-01-18</td>\n",
       "      <td>1</td>\n",
       "      <td>2021</td>\n",
       "      <td>6</td>\n",
       "      <td>0</td>\n",
       "      <td>199</td>\n",
       "    </tr>\n",
       "    <tr>\n",
       "      <th>2</th>\n",
       "      <td>1</td>\n",
       "      <td>Кира</td>\n",
       "      <td>22</td>\n",
       "      <td>Тюмень</td>\n",
       "      <td>ultra</td>\n",
       "      <td>754.159807</td>\n",
       "      <td>6.232113</td>\n",
       "      <td>2021-04-20</td>\n",
       "      <td>4</td>\n",
       "      <td>2021</td>\n",
       "      <td>6</td>\n",
       "      <td>0</td>\n",
       "      <td>199</td>\n",
       "    </tr>\n",
       "    <tr>\n",
       "      <th>3</th>\n",
       "      <td>1</td>\n",
       "      <td>Кира</td>\n",
       "      <td>22</td>\n",
       "      <td>Тюмень</td>\n",
       "      <td>ultra</td>\n",
       "      <td>2694.783254</td>\n",
       "      <td>18.511000</td>\n",
       "      <td>2021-08-11</td>\n",
       "      <td>8</td>\n",
       "      <td>2021</td>\n",
       "      <td>6</td>\n",
       "      <td>0</td>\n",
       "      <td>199</td>\n",
       "    </tr>\n",
       "    <tr>\n",
       "      <th>4</th>\n",
       "      <td>1</td>\n",
       "      <td>Кира</td>\n",
       "      <td>22</td>\n",
       "      <td>Тюмень</td>\n",
       "      <td>ultra</td>\n",
       "      <td>4028.687306</td>\n",
       "      <td>26.265803</td>\n",
       "      <td>2021-08-28</td>\n",
       "      <td>8</td>\n",
       "      <td>2021</td>\n",
       "      <td>6</td>\n",
       "      <td>0</td>\n",
       "      <td>199</td>\n",
       "    </tr>\n",
       "    <tr>\n",
       "      <th>...</th>\n",
       "      <td>...</td>\n",
       "      <td>...</td>\n",
       "      <td>...</td>\n",
       "      <td>...</td>\n",
       "      <td>...</td>\n",
       "      <td>...</td>\n",
       "      <td>...</td>\n",
       "      <td>...</td>\n",
       "      <td>...</td>\n",
       "      <td>...</td>\n",
       "      <td>...</td>\n",
       "      <td>...</td>\n",
       "      <td>...</td>\n",
       "    </tr>\n",
       "    <tr>\n",
       "      <th>6495</th>\n",
       "      <td>699</td>\n",
       "      <td>Оксана</td>\n",
       "      <td>22</td>\n",
       "      <td>Москва</td>\n",
       "      <td>ultra</td>\n",
       "      <td>3973.046497</td>\n",
       "      <td>24.671163</td>\n",
       "      <td>2021-08-29</td>\n",
       "      <td>8</td>\n",
       "      <td>2021</td>\n",
       "      <td>6</td>\n",
       "      <td>0</td>\n",
       "      <td>199</td>\n",
       "    </tr>\n",
       "    <tr>\n",
       "      <th>6496</th>\n",
       "      <td>699</td>\n",
       "      <td>Оксана</td>\n",
       "      <td>22</td>\n",
       "      <td>Москва</td>\n",
       "      <td>ultra</td>\n",
       "      <td>3288.702563</td>\n",
       "      <td>15.892886</td>\n",
       "      <td>2021-09-12</td>\n",
       "      <td>9</td>\n",
       "      <td>2021</td>\n",
       "      <td>6</td>\n",
       "      <td>0</td>\n",
       "      <td>199</td>\n",
       "    </tr>\n",
       "    <tr>\n",
       "      <th>6497</th>\n",
       "      <td>699</td>\n",
       "      <td>Оксана</td>\n",
       "      <td>22</td>\n",
       "      <td>Москва</td>\n",
       "      <td>ultra</td>\n",
       "      <td>3076.159348</td>\n",
       "      <td>14.389525</td>\n",
       "      <td>2021-09-26</td>\n",
       "      <td>9</td>\n",
       "      <td>2021</td>\n",
       "      <td>6</td>\n",
       "      <td>0</td>\n",
       "      <td>199</td>\n",
       "    </tr>\n",
       "    <tr>\n",
       "      <th>6498</th>\n",
       "      <td>699</td>\n",
       "      <td>Оксана</td>\n",
       "      <td>22</td>\n",
       "      <td>Москва</td>\n",
       "      <td>ultra</td>\n",
       "      <td>4707.845501</td>\n",
       "      <td>15.839579</td>\n",
       "      <td>2021-10-17</td>\n",
       "      <td>10</td>\n",
       "      <td>2021</td>\n",
       "      <td>6</td>\n",
       "      <td>0</td>\n",
       "      <td>199</td>\n",
       "    </tr>\n",
       "    <tr>\n",
       "      <th>6499</th>\n",
       "      <td>699</td>\n",
       "      <td>Оксана</td>\n",
       "      <td>22</td>\n",
       "      <td>Москва</td>\n",
       "      <td>ultra</td>\n",
       "      <td>3202.890770</td>\n",
       "      <td>25.217345</td>\n",
       "      <td>2021-12-03</td>\n",
       "      <td>12</td>\n",
       "      <td>2021</td>\n",
       "      <td>6</td>\n",
       "      <td>0</td>\n",
       "      <td>199</td>\n",
       "    </tr>\n",
       "  </tbody>\n",
       "</table>\n",
       "<p>6500 rows × 13 columns</p>\n",
       "</div>"
      ],
      "text/plain": [
       "      user_id    name  age    city subscription_type     distance   duration  \\\n",
       "0           1    Кира   22  Тюмень             ultra  4409.919140  25.599769   \n",
       "1           1    Кира   22  Тюмень             ultra  2617.592153  15.816871   \n",
       "2           1    Кира   22  Тюмень             ultra   754.159807   6.232113   \n",
       "3           1    Кира   22  Тюмень             ultra  2694.783254  18.511000   \n",
       "4           1    Кира   22  Тюмень             ultra  4028.687306  26.265803   \n",
       "...       ...     ...  ...     ...               ...          ...        ...   \n",
       "6495      699  Оксана   22  Москва             ultra  3973.046497  24.671163   \n",
       "6496      699  Оксана   22  Москва             ultra  3288.702563  15.892886   \n",
       "6497      699  Оксана   22  Москва             ultra  3076.159348  14.389525   \n",
       "6498      699  Оксана   22  Москва             ultra  4707.845501  15.839579   \n",
       "6499      699  Оксана   22  Москва             ultra  3202.890770  25.217345   \n",
       "\n",
       "           date month  year  minute_price  start_ride_price  subscription_fee  \n",
       "0    2021-01-01     1  2021             6                 0               199  \n",
       "1    2021-01-18     1  2021             6                 0               199  \n",
       "2    2021-04-20     4  2021             6                 0               199  \n",
       "3    2021-08-11     8  2021             6                 0               199  \n",
       "4    2021-08-28     8  2021             6                 0               199  \n",
       "...         ...   ...   ...           ...               ...               ...  \n",
       "6495 2021-08-29     8  2021             6                 0               199  \n",
       "6496 2021-09-12     9  2021             6                 0               199  \n",
       "6497 2021-09-26     9  2021             6                 0               199  \n",
       "6498 2021-10-17    10  2021             6                 0               199  \n",
       "6499 2021-12-03    12  2021             6                 0               199  \n",
       "\n",
       "[6500 rows x 13 columns]"
      ]
     },
     "execution_count": 19,
     "metadata": {},
     "output_type": "execute_result"
    }
   ],
   "source": [
    "with_subscription = data_final_united.query('subscription_type == \"ultra\"')\n",
    "with_subscription "
   ]
  },
  {
   "cell_type": "markdown",
   "id": "c2b1c00c",
   "metadata": {},
   "source": [
    "**Визуализация информации о расстоянии и времени поездок для пользователей обеих категорий**"
   ]
  },
  {
   "cell_type": "code",
   "execution_count": 20,
   "id": "80eea6c6",
   "metadata": {},
   "outputs": [
    {
     "data": {
      "text/plain": [
       "Text(0, 0.5, 'Частота')"
      ]
     },
     "execution_count": 20,
     "metadata": {},
     "output_type": "execute_result"
    },
    {
     "data": {
      "image/png": "[encoded data removed]",
      "text/plain": [
       "<Figure size 1152x576 with 1 Axes>"
      ]
     },
     "metadata": {},
     "output_type": "display_data"
    }
   ],
   "source": [
    "# Построим гистограмму о расстоянии для пользователей без подписки:\n",
    "ax=without_subscription.plot(y='distance', kind='hist', bins=55, grid=True, range=(0, 7300), figsize=(16,8), title='Расстояние для пользователей без подписки')\n",
    "ax.set_xlabel(\"Расстояние, м\")\n",
    "ax.set_ylabel(\"Частота\")"
   ]
  },
  {
   "cell_type": "code",
   "execution_count": 21,
   "id": "26c03aff",
   "metadata": {},
   "outputs": [
    {
     "data": {
      "text/plain": [
       "Text(0, 0.5, 'Частота')"
      ]
     },
     "execution_count": 21,
     "metadata": {},
     "output_type": "execute_result"
    },
    {
     "data": {
      "image/png": "[encoded data removed]",
      "text/plain": [
       "<Figure size 1152x576 with 1 Axes>"
      ]
     },
     "metadata": {},
     "output_type": "display_data"
    }
   ],
   "source": [
    "# Построим гистограмму о расстоянии для пользователей с подпиской:\n",
    "ax=with_subscription.plot(y='distance', kind='hist', bins=80, grid=True, range=(0, 7300), figsize=(16,8), title='Расстояние для пользователей с подпиской')\n",
    "ax.set_xlabel(\"Расстояние, м\")\n",
    "ax.set_ylabel(\"Частота\")"
   ]
  },
  {
   "cell_type": "markdown",
   "id": "f2060732",
   "metadata": {},
   "source": [
    "Наиболее часто встречающиеся расстояния за сессию среди пользователей без подписки: от 2 до чуть менее 4,5 км.\n",
    "\n",
    "Аналогичный показатель для пользователей с подпиской: от чуть более 2,5 до примерно 3,5 км. "
   ]
  },
  {
   "cell_type": "code",
   "execution_count": 22,
   "id": "c5ff4f88",
   "metadata": {
    "scrolled": false
   },
   "outputs": [
    {
     "data": {
      "image/png": "[encoded data removed]",
      "text/plain": [
       "<Figure size 842.4x595.44 with 1 Axes>"
      ]
     },
     "metadata": {},
     "output_type": "display_data"
    }
   ],
   "source": [
    "# Представим 2 вышеупомянутых графика на одном:\n",
    "\n",
    "bins = numpy.linspace(0, 10000, 100)\n",
    "plt=reload(plt)\n",
    "plt.hist(with_subscription['distance'], bins, alpha=0.5, label='Пользователи с подпиской')\n",
    "plt.hist(without_subscription['distance'], bins, alpha=0.5, label='Пользователи без подписки')\n",
    "plt.legend(loc='upper right')\n",
    "plt.xlabel('Тип подписки')\n",
    "plt.ylabel('Количество пользователей, ед.')\n",
    "plt.title('Соотношение пользователей с подпиской и без подписки')\n",
    "plt.show()"
   ]
  },
  {
   "cell_type": "markdown",
   "id": "357f88b7",
   "metadata": {},
   "source": [
    "**Продолжительность поездок**"
   ]
  },
  {
   "cell_type": "code",
   "execution_count": 23,
   "id": "5bb4d1b1",
   "metadata": {},
   "outputs": [
    {
     "data": {
      "text/plain": [
       "Text(0, 0.5, 'Частота')"
      ]
     },
     "execution_count": 23,
     "metadata": {},
     "output_type": "execute_result"
    },
    {
     "data": {
      "image/png": "[encoded data removed]",
      "text/plain": [
       "<Figure size 1152x576 with 1 Axes>"
      ]
     },
     "metadata": {},
     "output_type": "display_data"
    }
   ],
   "source": [
    "# Построим гистограмму о времени для пользователей без подписки:\n",
    "ax=without_subscription.plot(y='duration', kind='hist', bins=50, grid=True, range=(0, 40), figsize=(16,8), title='Продолжительность поездок для пользователей без подписки')\n",
    "ax.set_xlabel(\"Время, мин.\")\n",
    "ax.set_ylabel(\"Частота\")"
   ]
  },
  {
   "cell_type": "code",
   "execution_count": 24,
   "id": "897a18dd",
   "metadata": {},
   "outputs": [
    {
     "data": {
      "text/plain": [
       "Text(0, 0.5, 'Частота')"
      ]
     },
     "execution_count": 24,
     "metadata": {},
     "output_type": "execute_result"
    },
    {
     "data": {
      "image/png": "[encoded data removed]",
      "text/plain": [
       "<Figure size 1152x576 with 1 Axes>"
      ]
     },
     "metadata": {},
     "output_type": "display_data"
    }
   ],
   "source": [
    "# Построим гистограмму о времени для пользователей с подпиской:\n",
    "ax=with_subscription.plot(y='duration', kind='hist', bins=50, grid=True, range=(0, 40), figsize=(16,8), title='Продолжительность поездок для пользователей с подпиской')\n",
    "ax.set_xlabel(\"Время, мин.\")\n",
    "ax.set_ylabel(\"Частота\")"
   ]
  },
  {
   "cell_type": "code",
   "execution_count": 25,
   "id": "0aa1d5a3",
   "metadata": {},
   "outputs": [
    {
     "data": {
      "image/png": "[encoded data removed]",
      "text/plain": [
       "<Figure size 842.4x595.44 with 1 Axes>"
      ]
     },
     "metadata": {},
     "output_type": "display_data"
    }
   ],
   "source": [
    "# Представим 2 вышеупомянутых графика на одном:\n",
    "bins = numpy.linspace(0, 40, 100)\n",
    "\n",
    "plt.hist(with_subscription['duration'], bins, alpha=0.5, label='С подпиской')\n",
    "plt.hist(without_subscription['duration'], bins, alpha=0.5, label='Без подписки')\n",
    "plt.legend(loc='upper right')\n",
    "plt.xlabel('Тип подписки')\n",
    "plt.ylabel('Количество пользователей, ед.')\n",
    "plt.title('Соотношение пользователей с подпиской и без подписки')\n",
    "\n",
    "plt.show()"
   ]
  },
  {
   "cell_type": "markdown",
   "id": "09e15743",
   "metadata": {},
   "source": [
    "Наиболее часто встречающиеся значения по времени сессии среди пользователей без подписки находятся в диапазоне примерно от 10 до 25 минут.\n",
    "\n",
    "Наиболее часто встречающиеся значения по времени сессии среди пользователей с подпиской находятся в диапазоне примерно от чуть более 10 до чуть менее 25 минут. В отличие от первой категории, есть пользователи, время сессии которых превысило 35 минут, но относительно нашей выборки их очень мало."
   ]
  },
  {
   "cell_type": "markdown",
   "id": "402d620f",
   "metadata": {},
   "source": [
    "#### Шаг 5. Подсчёт выручки"
   ]
  },
  {
   "cell_type": "code",
   "execution_count": 26,
   "id": "53049e0a",
   "metadata": {},
   "outputs": [
    {
     "data": {
      "text/html": [
       "<div>\n",
       "<style scoped>\n",
       "    .dataframe tbody tr th:only-of-type {\n",
       "        vertical-align: middle;\n",
       "    }\n",
       "\n",
       "    .dataframe tbody tr th {\n",
       "        vertical-align: top;\n",
       "    }\n",
       "\n",
       "    .dataframe thead th {\n",
       "        text-align: right;\n",
       "    }\n",
       "</style>\n",
       "<table border=\"1\" class=\"dataframe\">\n",
       "  <thead>\n",
       "    <tr style=\"text-align: right;\">\n",
       "      <th></th>\n",
       "      <th>user_id</th>\n",
       "      <th>name</th>\n",
       "      <th>age</th>\n",
       "      <th>city</th>\n",
       "      <th>subscription_type</th>\n",
       "      <th>distance</th>\n",
       "      <th>duration</th>\n",
       "      <th>date</th>\n",
       "      <th>month</th>\n",
       "      <th>year</th>\n",
       "      <th>minute_price</th>\n",
       "      <th>start_ride_price</th>\n",
       "      <th>subscription_fee</th>\n",
       "    </tr>\n",
       "  </thead>\n",
       "  <tbody>\n",
       "    <tr>\n",
       "      <th>0</th>\n",
       "      <td>1</td>\n",
       "      <td>Кира</td>\n",
       "      <td>22</td>\n",
       "      <td>Тюмень</td>\n",
       "      <td>ultra</td>\n",
       "      <td>4409.919140</td>\n",
       "      <td>25.599769</td>\n",
       "      <td>2021-01-01</td>\n",
       "      <td>1</td>\n",
       "      <td>2021</td>\n",
       "      <td>6</td>\n",
       "      <td>0</td>\n",
       "      <td>199</td>\n",
       "    </tr>\n",
       "    <tr>\n",
       "      <th>1</th>\n",
       "      <td>1</td>\n",
       "      <td>Кира</td>\n",
       "      <td>22</td>\n",
       "      <td>Тюмень</td>\n",
       "      <td>ultra</td>\n",
       "      <td>2617.592153</td>\n",
       "      <td>15.816871</td>\n",
       "      <td>2021-01-18</td>\n",
       "      <td>1</td>\n",
       "      <td>2021</td>\n",
       "      <td>6</td>\n",
       "      <td>0</td>\n",
       "      <td>199</td>\n",
       "    </tr>\n",
       "    <tr>\n",
       "      <th>2</th>\n",
       "      <td>1</td>\n",
       "      <td>Кира</td>\n",
       "      <td>22</td>\n",
       "      <td>Тюмень</td>\n",
       "      <td>ultra</td>\n",
       "      <td>754.159807</td>\n",
       "      <td>6.232113</td>\n",
       "      <td>2021-04-20</td>\n",
       "      <td>4</td>\n",
       "      <td>2021</td>\n",
       "      <td>6</td>\n",
       "      <td>0</td>\n",
       "      <td>199</td>\n",
       "    </tr>\n",
       "    <tr>\n",
       "      <th>3</th>\n",
       "      <td>1</td>\n",
       "      <td>Кира</td>\n",
       "      <td>22</td>\n",
       "      <td>Тюмень</td>\n",
       "      <td>ultra</td>\n",
       "      <td>2694.783254</td>\n",
       "      <td>18.511000</td>\n",
       "      <td>2021-08-11</td>\n",
       "      <td>8</td>\n",
       "      <td>2021</td>\n",
       "      <td>6</td>\n",
       "      <td>0</td>\n",
       "      <td>199</td>\n",
       "    </tr>\n",
       "    <tr>\n",
       "      <th>4</th>\n",
       "      <td>1</td>\n",
       "      <td>Кира</td>\n",
       "      <td>22</td>\n",
       "      <td>Тюмень</td>\n",
       "      <td>ultra</td>\n",
       "      <td>4028.687306</td>\n",
       "      <td>26.265803</td>\n",
       "      <td>2021-08-28</td>\n",
       "      <td>8</td>\n",
       "      <td>2021</td>\n",
       "      <td>6</td>\n",
       "      <td>0</td>\n",
       "      <td>199</td>\n",
       "    </tr>\n",
       "    <tr>\n",
       "      <th>...</th>\n",
       "      <td>...</td>\n",
       "      <td>...</td>\n",
       "      <td>...</td>\n",
       "      <td>...</td>\n",
       "      <td>...</td>\n",
       "      <td>...</td>\n",
       "      <td>...</td>\n",
       "      <td>...</td>\n",
       "      <td>...</td>\n",
       "      <td>...</td>\n",
       "      <td>...</td>\n",
       "      <td>...</td>\n",
       "      <td>...</td>\n",
       "    </tr>\n",
       "    <tr>\n",
       "      <th>18063</th>\n",
       "      <td>1534</td>\n",
       "      <td>Альберт</td>\n",
       "      <td>25</td>\n",
       "      <td>Краснодар</td>\n",
       "      <td>free</td>\n",
       "      <td>3781.098080</td>\n",
       "      <td>19.822962</td>\n",
       "      <td>2021-11-04</td>\n",
       "      <td>11</td>\n",
       "      <td>2021</td>\n",
       "      <td>8</td>\n",
       "      <td>50</td>\n",
       "      <td>0</td>\n",
       "    </tr>\n",
       "    <tr>\n",
       "      <th>18064</th>\n",
       "      <td>1534</td>\n",
       "      <td>Альберт</td>\n",
       "      <td>25</td>\n",
       "      <td>Краснодар</td>\n",
       "      <td>free</td>\n",
       "      <td>2840.423057</td>\n",
       "      <td>21.409799</td>\n",
       "      <td>2021-11-16</td>\n",
       "      <td>11</td>\n",
       "      <td>2021</td>\n",
       "      <td>8</td>\n",
       "      <td>50</td>\n",
       "      <td>0</td>\n",
       "    </tr>\n",
       "    <tr>\n",
       "      <th>18065</th>\n",
       "      <td>1534</td>\n",
       "      <td>Альберт</td>\n",
       "      <td>25</td>\n",
       "      <td>Краснодар</td>\n",
       "      <td>free</td>\n",
       "      <td>3826.185507</td>\n",
       "      <td>18.435051</td>\n",
       "      <td>2021-11-18</td>\n",
       "      <td>11</td>\n",
       "      <td>2021</td>\n",
       "      <td>8</td>\n",
       "      <td>50</td>\n",
       "      <td>0</td>\n",
       "    </tr>\n",
       "    <tr>\n",
       "      <th>18066</th>\n",
       "      <td>1534</td>\n",
       "      <td>Альберт</td>\n",
       "      <td>25</td>\n",
       "      <td>Краснодар</td>\n",
       "      <td>free</td>\n",
       "      <td>2902.308661</td>\n",
       "      <td>16.674362</td>\n",
       "      <td>2021-11-27</td>\n",
       "      <td>11</td>\n",
       "      <td>2021</td>\n",
       "      <td>8</td>\n",
       "      <td>50</td>\n",
       "      <td>0</td>\n",
       "    </tr>\n",
       "    <tr>\n",
       "      <th>18067</th>\n",
       "      <td>1534</td>\n",
       "      <td>Альберт</td>\n",
       "      <td>25</td>\n",
       "      <td>Краснодар</td>\n",
       "      <td>free</td>\n",
       "      <td>2371.711192</td>\n",
       "      <td>15.893917</td>\n",
       "      <td>2021-12-29</td>\n",
       "      <td>12</td>\n",
       "      <td>2021</td>\n",
       "      <td>8</td>\n",
       "      <td>50</td>\n",
       "      <td>0</td>\n",
       "    </tr>\n",
       "  </tbody>\n",
       "</table>\n",
       "<p>18068 rows × 13 columns</p>\n",
       "</div>"
      ],
      "text/plain": [
       "       user_id     name  age       city subscription_type     distance  \\\n",
       "0            1     Кира   22     Тюмень             ultra  4409.919140   \n",
       "1            1     Кира   22     Тюмень             ultra  2617.592153   \n",
       "2            1     Кира   22     Тюмень             ultra   754.159807   \n",
       "3            1     Кира   22     Тюмень             ultra  2694.783254   \n",
       "4            1     Кира   22     Тюмень             ultra  4028.687306   \n",
       "...        ...      ...  ...        ...               ...          ...   \n",
       "18063     1534  Альберт   25  Краснодар              free  3781.098080   \n",
       "18064     1534  Альберт   25  Краснодар              free  2840.423057   \n",
       "18065     1534  Альберт   25  Краснодар              free  3826.185507   \n",
       "18066     1534  Альберт   25  Краснодар              free  2902.308661   \n",
       "18067     1534  Альберт   25  Краснодар              free  2371.711192   \n",
       "\n",
       "        duration       date month  year  minute_price  start_ride_price  \\\n",
       "0      25.599769 2021-01-01     1  2021             6                 0   \n",
       "1      15.816871 2021-01-18     1  2021             6                 0   \n",
       "2       6.232113 2021-04-20     4  2021             6                 0   \n",
       "3      18.511000 2021-08-11     8  2021             6                 0   \n",
       "4      26.265803 2021-08-28     8  2021             6                 0   \n",
       "...          ...        ...   ...   ...           ...               ...   \n",
       "18063  19.822962 2021-11-04    11  2021             8                50   \n",
       "18064  21.409799 2021-11-16    11  2021             8                50   \n",
       "18065  18.435051 2021-11-18    11  2021             8                50   \n",
       "18066  16.674362 2021-11-27    11  2021             8                50   \n",
       "18067  15.893917 2021-12-29    12  2021             8                50   \n",
       "\n",
       "       subscription_fee  \n",
       "0                   199  \n",
       "1                   199  \n",
       "2                   199  \n",
       "3                   199  \n",
       "4                   199  \n",
       "...                 ...  \n",
       "18063                 0  \n",
       "18064                 0  \n",
       "18065                 0  \n",
       "18066                 0  \n",
       "18067                 0  \n",
       "\n",
       "[18068 rows x 13 columns]"
      ]
     },
     "execution_count": 26,
     "metadata": {},
     "output_type": "execute_result"
    }
   ],
   "source": [
    "data_final_united"
   ]
  },
  {
   "cell_type": "markdown",
   "id": "e52fc19e",
   "metadata": {},
   "source": [
    "**Датафрейм с суммарным расстоянием, количеством поездок и суммарным временем для каждого пользователя за каждый месяц**"
   ]
  },
  {
   "cell_type": "code",
   "execution_count": 27,
   "id": "ad63f665",
   "metadata": {},
   "outputs": [
    {
     "data": {
      "text/html": [
       "<div>\n",
       "<style scoped>\n",
       "    .dataframe tbody tr th:only-of-type {\n",
       "        vertical-align: middle;\n",
       "    }\n",
       "\n",
       "    .dataframe tbody tr th {\n",
       "        vertical-align: top;\n",
       "    }\n",
       "\n",
       "    .dataframe thead th {\n",
       "        text-align: right;\n",
       "    }\n",
       "</style>\n",
       "<table border=\"1\" class=\"dataframe\">\n",
       "  <thead>\n",
       "    <tr style=\"text-align: right;\">\n",
       "      <th></th>\n",
       "      <th>user_id</th>\n",
       "      <th>month</th>\n",
       "      <th>distance</th>\n",
       "      <th>duration</th>\n",
       "      <th>session_quantity</th>\n",
       "    </tr>\n",
       "  </thead>\n",
       "  <tbody>\n",
       "    <tr>\n",
       "      <th>0</th>\n",
       "      <td>1</td>\n",
       "      <td>1</td>\n",
       "      <td>7027.511294</td>\n",
       "      <td>41.416640</td>\n",
       "      <td>2</td>\n",
       "    </tr>\n",
       "    <tr>\n",
       "      <th>1</th>\n",
       "      <td>1</td>\n",
       "      <td>10</td>\n",
       "      <td>5809.911100</td>\n",
       "      <td>31.578017</td>\n",
       "      <td>2</td>\n",
       "    </tr>\n",
       "    <tr>\n",
       "      <th>2</th>\n",
       "      <td>1</td>\n",
       "      <td>11</td>\n",
       "      <td>7003.499363</td>\n",
       "      <td>53.397424</td>\n",
       "      <td>3</td>\n",
       "    </tr>\n",
       "    <tr>\n",
       "      <th>3</th>\n",
       "      <td>1</td>\n",
       "      <td>12</td>\n",
       "      <td>6751.629942</td>\n",
       "      <td>27.203912</td>\n",
       "      <td>2</td>\n",
       "    </tr>\n",
       "    <tr>\n",
       "      <th>4</th>\n",
       "      <td>1</td>\n",
       "      <td>4</td>\n",
       "      <td>754.159807</td>\n",
       "      <td>6.232113</td>\n",
       "      <td>1</td>\n",
       "    </tr>\n",
       "    <tr>\n",
       "      <th>...</th>\n",
       "      <td>...</td>\n",
       "      <td>...</td>\n",
       "      <td>...</td>\n",
       "      <td>...</td>\n",
       "      <td>...</td>\n",
       "    </tr>\n",
       "    <tr>\n",
       "      <th>11326</th>\n",
       "      <td>1534</td>\n",
       "      <td>2</td>\n",
       "      <td>2103.914120</td>\n",
       "      <td>13.425579</td>\n",
       "      <td>1</td>\n",
       "    </tr>\n",
       "    <tr>\n",
       "      <th>11327</th>\n",
       "      <td>1534</td>\n",
       "      <td>4</td>\n",
       "      <td>3434.290912</td>\n",
       "      <td>14.366248</td>\n",
       "      <td>1</td>\n",
       "    </tr>\n",
       "    <tr>\n",
       "      <th>11328</th>\n",
       "      <td>1534</td>\n",
       "      <td>6</td>\n",
       "      <td>3409.468534</td>\n",
       "      <td>24.812678</td>\n",
       "      <td>2</td>\n",
       "    </tr>\n",
       "    <tr>\n",
       "      <th>11329</th>\n",
       "      <td>1534</td>\n",
       "      <td>8</td>\n",
       "      <td>7622.453034</td>\n",
       "      <td>47.205960</td>\n",
       "      <td>2</td>\n",
       "    </tr>\n",
       "    <tr>\n",
       "      <th>11330</th>\n",
       "      <td>1534</td>\n",
       "      <td>9</td>\n",
       "      <td>4928.173852</td>\n",
       "      <td>22.560373</td>\n",
       "      <td>1</td>\n",
       "    </tr>\n",
       "  </tbody>\n",
       "</table>\n",
       "<p>11331 rows × 5 columns</p>\n",
       "</div>"
      ],
      "text/plain": [
       "       user_id month     distance   duration  session_quantity\n",
       "0            1     1  7027.511294  41.416640                 2\n",
       "1            1    10  5809.911100  31.578017                 2\n",
       "2            1    11  7003.499363  53.397424                 3\n",
       "3            1    12  6751.629942  27.203912                 2\n",
       "4            1     4   754.159807   6.232113                 1\n",
       "...        ...   ...          ...        ...               ...\n",
       "11326     1534     2  2103.914120  13.425579                 1\n",
       "11327     1534     4  3434.290912  14.366248                 1\n",
       "11328     1534     6  3409.468534  24.812678                 2\n",
       "11329     1534     8  7622.453034  47.205960                 2\n",
       "11330     1534     9  4928.173852  22.560373                 1\n",
       "\n",
       "[11331 rows x 5 columns]"
      ]
     },
     "execution_count": 27,
     "metadata": {},
     "output_type": "execute_result"
    }
   ],
   "source": [
    "# Создадим датафрейм с суммарным расстоянием, количеством поездок и суммарным временем для каждого пользователя за каждый месяц.\n",
    "pivot = data_final_united.pivot_table(index=['user_id', 'month'], values = ['distance', 'duration'], aggfunc = ['sum', 'count']).reset_index()\n",
    "pivot.columns = ['user_id', 'month', 'distance', 'duration', 'session_quantity', 'session_quantity_dup']\n",
    "pivot\n",
    "\n",
    "# Удалим повторяющийся столбец\n",
    "del pivot[pivot.columns[5]]\n",
    "pivot\n"
   ]
  },
  {
   "cell_type": "markdown",
   "id": "28f9e82c",
   "metadata": {},
   "source": [
    "**Округлим продолжительность каждой поездки с помощью метода «потолок» библиотеки numpy**"
   ]
  },
  {
   "cell_type": "code",
   "execution_count": 28,
   "id": "b2bd70ca",
   "metadata": {},
   "outputs": [
    {
     "data": {
      "text/html": [
       "<div>\n",
       "<style scoped>\n",
       "    .dataframe tbody tr th:only-of-type {\n",
       "        vertical-align: middle;\n",
       "    }\n",
       "\n",
       "    .dataframe tbody tr th {\n",
       "        vertical-align: top;\n",
       "    }\n",
       "\n",
       "    .dataframe thead th {\n",
       "        text-align: right;\n",
       "    }\n",
       "</style>\n",
       "<table border=\"1\" class=\"dataframe\">\n",
       "  <thead>\n",
       "    <tr style=\"text-align: right;\">\n",
       "      <th></th>\n",
       "      <th>user_id</th>\n",
       "      <th>month</th>\n",
       "      <th>distance</th>\n",
       "      <th>duration</th>\n",
       "      <th>session_quantity</th>\n",
       "    </tr>\n",
       "  </thead>\n",
       "  <tbody>\n",
       "    <tr>\n",
       "      <th>0</th>\n",
       "      <td>1</td>\n",
       "      <td>1</td>\n",
       "      <td>7027.511294</td>\n",
       "      <td>42.0</td>\n",
       "      <td>2</td>\n",
       "    </tr>\n",
       "    <tr>\n",
       "      <th>1</th>\n",
       "      <td>1</td>\n",
       "      <td>10</td>\n",
       "      <td>5809.911100</td>\n",
       "      <td>32.0</td>\n",
       "      <td>2</td>\n",
       "    </tr>\n",
       "    <tr>\n",
       "      <th>2</th>\n",
       "      <td>1</td>\n",
       "      <td>11</td>\n",
       "      <td>7003.499363</td>\n",
       "      <td>54.0</td>\n",
       "      <td>3</td>\n",
       "    </tr>\n",
       "    <tr>\n",
       "      <th>3</th>\n",
       "      <td>1</td>\n",
       "      <td>12</td>\n",
       "      <td>6751.629942</td>\n",
       "      <td>28.0</td>\n",
       "      <td>2</td>\n",
       "    </tr>\n",
       "    <tr>\n",
       "      <th>4</th>\n",
       "      <td>1</td>\n",
       "      <td>4</td>\n",
       "      <td>754.159807</td>\n",
       "      <td>7.0</td>\n",
       "      <td>1</td>\n",
       "    </tr>\n",
       "    <tr>\n",
       "      <th>...</th>\n",
       "      <td>...</td>\n",
       "      <td>...</td>\n",
       "      <td>...</td>\n",
       "      <td>...</td>\n",
       "      <td>...</td>\n",
       "    </tr>\n",
       "    <tr>\n",
       "      <th>11326</th>\n",
       "      <td>1534</td>\n",
       "      <td>2</td>\n",
       "      <td>2103.914120</td>\n",
       "      <td>14.0</td>\n",
       "      <td>1</td>\n",
       "    </tr>\n",
       "    <tr>\n",
       "      <th>11327</th>\n",
       "      <td>1534</td>\n",
       "      <td>4</td>\n",
       "      <td>3434.290912</td>\n",
       "      <td>15.0</td>\n",
       "      <td>1</td>\n",
       "    </tr>\n",
       "    <tr>\n",
       "      <th>11328</th>\n",
       "      <td>1534</td>\n",
       "      <td>6</td>\n",
       "      <td>3409.468534</td>\n",
       "      <td>25.0</td>\n",
       "      <td>2</td>\n",
       "    </tr>\n",
       "    <tr>\n",
       "      <th>11329</th>\n",
       "      <td>1534</td>\n",
       "      <td>8</td>\n",
       "      <td>7622.453034</td>\n",
       "      <td>48.0</td>\n",
       "      <td>2</td>\n",
       "    </tr>\n",
       "    <tr>\n",
       "      <th>11330</th>\n",
       "      <td>1534</td>\n",
       "      <td>9</td>\n",
       "      <td>4928.173852</td>\n",
       "      <td>23.0</td>\n",
       "      <td>1</td>\n",
       "    </tr>\n",
       "  </tbody>\n",
       "</table>\n",
       "<p>11331 rows × 5 columns</p>\n",
       "</div>"
      ],
      "text/plain": [
       "       user_id month     distance  duration  session_quantity\n",
       "0            1     1  7027.511294      42.0                 2\n",
       "1            1    10  5809.911100      32.0                 2\n",
       "2            1    11  7003.499363      54.0                 3\n",
       "3            1    12  6751.629942      28.0                 2\n",
       "4            1     4   754.159807       7.0                 1\n",
       "...        ...   ...          ...       ...               ...\n",
       "11326     1534     2  2103.914120      14.0                 1\n",
       "11327     1534     4  3434.290912      15.0                 1\n",
       "11328     1534     6  3409.468534      25.0                 2\n",
       "11329     1534     8  7622.453034      48.0                 2\n",
       "11330     1534     9  4928.173852      23.0                 1\n",
       "\n",
       "[11331 rows x 5 columns]"
      ]
     },
     "execution_count": 28,
     "metadata": {},
     "output_type": "execute_result"
    }
   ],
   "source": [
    "pivot['duration'] = numpy.ceil(pivot['duration']) \n",
    "pivot"
   ]
  },
  {
   "cell_type": "markdown",
   "id": "43bdb2b7",
   "metadata": {},
   "source": [
    "**Добавляем столбец с помесячной выручкой, которую принёс каждый пользователь**"
   ]
  },
  {
   "cell_type": "code",
   "execution_count": 29,
   "id": "9f12a35d",
   "metadata": {},
   "outputs": [
    {
     "data": {
      "text/html": [
       "<div>\n",
       "<style scoped>\n",
       "    .dataframe tbody tr th:only-of-type {\n",
       "        vertical-align: middle;\n",
       "    }\n",
       "\n",
       "    .dataframe tbody tr th {\n",
       "        vertical-align: top;\n",
       "    }\n",
       "\n",
       "    .dataframe thead th {\n",
       "        text-align: right;\n",
       "    }\n",
       "</style>\n",
       "<table border=\"1\" class=\"dataframe\">\n",
       "  <thead>\n",
       "    <tr style=\"text-align: right;\">\n",
       "      <th></th>\n",
       "      <th>user_id</th>\n",
       "      <th>month</th>\n",
       "      <th>distance</th>\n",
       "      <th>duration</th>\n",
       "      <th>session_quantity</th>\n",
       "      <th>subscription_type</th>\n",
       "      <th>revenue_per_month</th>\n",
       "    </tr>\n",
       "  </thead>\n",
       "  <tbody>\n",
       "    <tr>\n",
       "      <th>0</th>\n",
       "      <td>1</td>\n",
       "      <td>1</td>\n",
       "      <td>7027.511294</td>\n",
       "      <td>42.0</td>\n",
       "      <td>2</td>\n",
       "      <td>ultra</td>\n",
       "      <td>451.0</td>\n",
       "    </tr>\n",
       "    <tr>\n",
       "      <th>1</th>\n",
       "      <td>1</td>\n",
       "      <td>10</td>\n",
       "      <td>5809.911100</td>\n",
       "      <td>32.0</td>\n",
       "      <td>2</td>\n",
       "      <td>ultra</td>\n",
       "      <td>391.0</td>\n",
       "    </tr>\n",
       "    <tr>\n",
       "      <th>2</th>\n",
       "      <td>1</td>\n",
       "      <td>11</td>\n",
       "      <td>7003.499363</td>\n",
       "      <td>54.0</td>\n",
       "      <td>3</td>\n",
       "      <td>ultra</td>\n",
       "      <td>523.0</td>\n",
       "    </tr>\n",
       "    <tr>\n",
       "      <th>3</th>\n",
       "      <td>1</td>\n",
       "      <td>12</td>\n",
       "      <td>6751.629942</td>\n",
       "      <td>28.0</td>\n",
       "      <td>2</td>\n",
       "      <td>ultra</td>\n",
       "      <td>367.0</td>\n",
       "    </tr>\n",
       "    <tr>\n",
       "      <th>4</th>\n",
       "      <td>1</td>\n",
       "      <td>4</td>\n",
       "      <td>754.159807</td>\n",
       "      <td>7.0</td>\n",
       "      <td>1</td>\n",
       "      <td>ultra</td>\n",
       "      <td>241.0</td>\n",
       "    </tr>\n",
       "    <tr>\n",
       "      <th>...</th>\n",
       "      <td>...</td>\n",
       "      <td>...</td>\n",
       "      <td>...</td>\n",
       "      <td>...</td>\n",
       "      <td>...</td>\n",
       "      <td>...</td>\n",
       "      <td>...</td>\n",
       "    </tr>\n",
       "    <tr>\n",
       "      <th>11326</th>\n",
       "      <td>1534</td>\n",
       "      <td>2</td>\n",
       "      <td>2103.914120</td>\n",
       "      <td>14.0</td>\n",
       "      <td>1</td>\n",
       "      <td>free</td>\n",
       "      <td>162.0</td>\n",
       "    </tr>\n",
       "    <tr>\n",
       "      <th>11327</th>\n",
       "      <td>1534</td>\n",
       "      <td>4</td>\n",
       "      <td>3434.290912</td>\n",
       "      <td>15.0</td>\n",
       "      <td>1</td>\n",
       "      <td>free</td>\n",
       "      <td>170.0</td>\n",
       "    </tr>\n",
       "    <tr>\n",
       "      <th>11328</th>\n",
       "      <td>1534</td>\n",
       "      <td>6</td>\n",
       "      <td>3409.468534</td>\n",
       "      <td>25.0</td>\n",
       "      <td>2</td>\n",
       "      <td>free</td>\n",
       "      <td>300.0</td>\n",
       "    </tr>\n",
       "    <tr>\n",
       "      <th>11329</th>\n",
       "      <td>1534</td>\n",
       "      <td>8</td>\n",
       "      <td>7622.453034</td>\n",
       "      <td>48.0</td>\n",
       "      <td>2</td>\n",
       "      <td>free</td>\n",
       "      <td>484.0</td>\n",
       "    </tr>\n",
       "    <tr>\n",
       "      <th>11330</th>\n",
       "      <td>1534</td>\n",
       "      <td>9</td>\n",
       "      <td>4928.173852</td>\n",
       "      <td>23.0</td>\n",
       "      <td>1</td>\n",
       "      <td>free</td>\n",
       "      <td>234.0</td>\n",
       "    </tr>\n",
       "  </tbody>\n",
       "</table>\n",
       "<p>11331 rows × 7 columns</p>\n",
       "</div>"
      ],
      "text/plain": [
       "       user_id month     distance  duration  session_quantity  \\\n",
       "0            1     1  7027.511294      42.0                 2   \n",
       "1            1    10  5809.911100      32.0                 2   \n",
       "2            1    11  7003.499363      54.0                 3   \n",
       "3            1    12  6751.629942      28.0                 2   \n",
       "4            1     4   754.159807       7.0                 1   \n",
       "...        ...   ...          ...       ...               ...   \n",
       "11326     1534     2  2103.914120      14.0                 1   \n",
       "11327     1534     4  3434.290912      15.0                 1   \n",
       "11328     1534     6  3409.468534      25.0                 2   \n",
       "11329     1534     8  7622.453034      48.0                 2   \n",
       "11330     1534     9  4928.173852      23.0                 1   \n",
       "\n",
       "      subscription_type  revenue_per_month  \n",
       "0                 ultra              451.0  \n",
       "1                 ultra              391.0  \n",
       "2                 ultra              523.0  \n",
       "3                 ultra              367.0  \n",
       "4                 ultra              241.0  \n",
       "...                 ...                ...  \n",
       "11326              free              162.0  \n",
       "11327              free              170.0  \n",
       "11328              free              300.0  \n",
       "11329              free              484.0  \n",
       "11330              free              234.0  \n",
       "\n",
       "[11331 rows x 7 columns]"
      ]
     },
     "execution_count": 29,
     "metadata": {},
     "output_type": "execute_result"
    }
   ],
   "source": [
    "pivot['subscription_type']=data_final_united['subscription_type']\n",
    "pivot['revenue_per_month']=(199+pivot['duration']*6)*(pivot['subscription_type']=='ultra')+(pivot['session_quantity']*50+pivot['duration']*8)*(pivot['subscription_type']=='free')\n",
    "pivot"
   ]
  },
  {
   "cell_type": "markdown",
   "id": "41545ac0",
   "metadata": {},
   "source": [
    "#### Шаг 6. Проверка гипотез"
   ]
  },
  {
   "cell_type": "markdown",
   "id": "d507dbdf",
   "metadata": {},
   "source": [
    "**Тратят ли пользователи с подпиской больше времени на поездки?**"
   ]
  },
  {
   "cell_type": "code",
   "execution_count": 30,
   "id": "09e5c328",
   "metadata": {},
   "outputs": [
    {
     "name": "stdout",
     "output_type": "stream",
     "text": [
      "1.2804098316645618e-34\n",
      "Отвергаем нулевую гипотезу\n"
     ]
    }
   ],
   "source": [
    "# Воспользуемся следующим методом для проверки гипотезы о равенстве среднего двух генеральных совокупностей по взятым из них выборкам:\n",
    "# H0: в среднем пользователи с подпиской тратят на поездку не больше или равно времени, чем пользователи без подписки\n",
    "# H1: в среднем пользователи с подпиской тратят на поездку больше времени, чем пользователи без подписки\n",
    "\n",
    "alpha=0.05\n",
    "result=st.ttest_ind(with_subscription ['duration'], without_subscription['duration'], alternative='greater')\n",
    "print(result.pvalue)\n",
    "\n",
    "if result.pvalue<alpha:\n",
    "    print('Отвергаем нулевую гипотезу')\n",
    "else:\n",
    "    print('Нет оснований отвергнуть нулевую гипотезу')"
   ]
  },
  {
   "cell_type": "markdown",
   "id": "ecb1baac",
   "metadata": {},
   "source": [
    "Отвергаем нулевую гипотезу о том, что в среднем пользователи с подпиской тратят на поездку не больше времени, чем пользователи без подписки; есть основания говорить о том, что пользователи с подпиской тратят больше времени на поездки в среднем на одну поездку."
   ]
  },
  {
   "cell_type": "markdown",
   "id": "26836657",
   "metadata": {},
   "source": [
    "**Можно ли сказать, что расстояние, которое проезжают пользователи с подпиской за одну поездку, не превышает 3130 метров?**"
   ]
  },
  {
   "cell_type": "code",
   "execution_count": 31,
   "id": "faf86437",
   "metadata": {},
   "outputs": [
    {
     "name": "stdout",
     "output_type": "stream",
     "text": [
      "p-значение: 0.9195368847849785\n",
      "Не отвергаем нулевую гипотезу\n"
     ]
    }
   ],
   "source": [
    "# H0: в среднем пользователи с подпиской за поездку проезжают расстояние равное или не больше оптимального значения 3130 метров\n",
    "# H1: в среднем пользователи с подпиской превышают оптимальное значение 3130 метров\n",
    "# Воспользуемся следующим методом проведения одностороннего теста:\n",
    "\n",
    "parameter=3130\n",
    "\n",
    "alpha = 0.05 \n",
    "\n",
    "results = st.ttest_1samp(\n",
    "    with_subscription['distance'], \n",
    "    parameter, alternative='greater')\n",
    "\n",
    "print('p-значение:', results.pvalue)\n",
    "\n",
    "if (results.pvalue < alpha):\n",
    "    print('Отвергаем нулевую гипотезу')\n",
    "else:\n",
    "    print('Не отвергаем нулевую гипотезу')    "
   ]
  },
  {
   "cell_type": "markdown",
   "id": "3eaa7938",
   "metadata": {},
   "source": [
    "Есть основания полагать, что среднее расстояние пользователей с подпиской за одну поездку не превышает оптимальное 3130"
   ]
  },
  {
   "cell_type": "markdown",
   "id": "e86889fd",
   "metadata": {},
   "source": [
    "**Будет ли помесячная выручка от пользователей с подпиской по месяцам выше, чем выручка от пользователей без подписки?**"
   ]
  },
  {
   "cell_type": "code",
   "execution_count": 32,
   "id": "72ea0a01",
   "metadata": {},
   "outputs": [
    {
     "name": "stdout",
     "output_type": "stream",
     "text": [
      "8.768770088188501e-57\n",
      "Отвергаем нулевую гипотезу\n"
     ]
    }
   ],
   "source": [
    "# H0: в среднем пользователи с подпиской приносят ежемесячную выручку не больше или равную той, которую приносят пользователи с подпиской\n",
    "# H1: в среднем пользователи с подпиской приносят ежемесячную выручку больше, чем пользователи с подпиской\n",
    "# Проведем правосторонний тест:\n",
    "alpha=0.05\n",
    "result=st.ttest_ind(pivot[pivot['subscription_type']=='ultra']['revenue_per_month'], pivot[pivot['subscription_type']=='free']['revenue_per_month'], alternative='greater')\n",
    "print(result.pvalue)\n",
    "\n",
    "if result.pvalue<alpha:\n",
    "    print('Отвергаем нулевую гипотезу')\n",
    "else:\n",
    "    print('Нет оснований отвергнуть нулевую гипотезу')\n"
   ]
  },
  {
   "cell_type": "markdown",
   "id": "1fac624d",
   "metadata": {},
   "source": [
    "Есть основания полагать, что пользователи с подпиской приносят бОльшую ежемесячную выручку"
   ]
  },
  {
   "cell_type": "markdown",
   "id": "7a9bd8f7",
   "metadata": {},
   "source": [
    "**Техническая команда сервиса обновила сервера, с которыми взаимодействует мобильное приложение. Она надеется, что из-за этого количество обращений в техподдержку значимо снизилось. Некоторый файл содержит для каждого пользователя данные о количестве обращений до обновления и после него. Какой тест вам понадобился бы для проверки этой гипотезы?**"
   ]
  },
  {
   "cell_type": "markdown",
   "id": "0b7918b4",
   "metadata": {},
   "source": [
    "Если мы анализируем одну генеральную совокупность, с которой произошли некоторые изменения, то в этом случае мы будем проверять, равны ли средние совокупности до и после произошедшего изменения (обновления серверов). Чтобы проверить гипотезу о равенстве средних двух генеральных совокупностей для зависимых (парных) выборок в Python, применяется метод `scipy.stats.ttest_rel()`. Ему необходимо передать всего два параметра: наборы данных о количестве обращениий в техподдержку до и после обновления. Оба набора должны быть одинаковыми по размеру. Используя также значение p-value, в итоге мы будем делать вывод о том, отвергать ли нулевую гипотезу (об отсутствии изменений) или не отвергать."
   ]
  },
  {
   "cell_type": "markdown",
   "id": "61213c5e",
   "metadata": {},
   "source": [
    "#### Шаг 7. Распределения"
   ]
  },
  {
   "cell_type": "markdown",
   "id": "0d0b721b",
   "metadata": {},
   "source": [
    "**Задача 7.1**\n",
    "Отделу маркетинга GoFast поставили задачу: нужно провести акцию с раздачей промокодов на один бесплатный месяц подписки, в рамках которой как минимум 100 существующих клиентов должны продлить эту подписку. То есть по завершении периода действия подписки пользователь может либо отказаться от неё, либо продлить, совершив соотвествующий платёж. \n",
    "\n",
    "Эта акция уже проводилась ранее и по итогу выяснилось, что после бесплатного пробного периода подписку продлевают \n",
    "10% пользователей. Выясните, какое минимальное количество промокодов нужно разослать, чтобы вероятность не выполнить план была примерно 5%. Подберите параметры распределения, описывающего эту ситуацию, постройте график распределения и сформулируйте ответ на вопрос о количестве промокодов."
   ]
  },
  {
   "cell_type": "code",
   "execution_count": 33,
   "id": "95cd1d51",
   "metadata": {},
   "outputs": [
    {
     "data": {
      "image/png": "[encoded data removed]",
      "text/plain": [
       "<Figure size 842.4x595.44 with 1 Axes>"
      ]
     },
     "metadata": {},
     "output_type": "display_data"
    },
    {
     "data": {
      "image/png": "[encoded data removed]",
      "text/plain": [
       "<Figure size 842.4x595.44 with 1 Axes>"
      ]
     },
     "metadata": {},
     "output_type": "display_data"
    }
   ],
   "source": [
    "# Используем биноминальное распределение и перебором найдем подходящее число, затем построим график:\n",
    "st.binom.cdf(100,1170,0.1)\n",
    "x=[st.binom.cdf(100, c, 0.1) for c in range(1000, 1200)]\n",
    "plt.plot(range(1000, 1200), x)\n",
    "\n",
    "# Красной линией изобразим вероятность не выполнить план\n",
    "plt.axhline(y = 0.05, color = 'r', linestyle = '-')\n",
    "plt.show()\n",
    "\n",
    "# Построим график для нахождения более точного искомого значения:\n",
    "x=[st.binom.cdf(100, c, 0.1) for c in range(1150, 1200)]\n",
    "plt.plot(range(1150, 1200), x)\n",
    "plt.axhline(y = 0.05, color = 'r', linestyle = '-')\n",
    "plt.show()\n"
   ]
  },
  {
   "cell_type": "markdown",
   "id": "05182274",
   "metadata": {},
   "source": [
    "Вероятность оказаться ниже порогового значения 0,05 достигается примерно при 1172 промокодов. \n",
    "Как минимум 1172 промокода необходимо раздать, чтобы вероятность не выполнить план была примерно 5%."
   ]
  },
  {
   "cell_type": "markdown",
   "id": "f73c060c",
   "metadata": {},
   "source": [
    "**Задача 7.2**\n",
    "Отдел маркетинга рассылает клиентам push-уведомления в мобильном приложении. Клиенты могут открыть его или не открывать. Известно, что уведомления открывают около 40 % получивших клиентов. Отдел планирует разослать 1 млн уведомлений. С помощью аппроксимации постройте примерный график распределения и оцените вероятность того, что уведомление откроют не более 399,5 тыс. пользователей."
   ]
  },
  {
   "cell_type": "code",
   "execution_count": 34,
   "id": "ca6b86cc",
   "metadata": {},
   "outputs": [
    {
     "name": "stdout",
     "output_type": "stream",
     "text": [
      "0.15371708296369768\n"
     ]
    }
   ],
   "source": [
    "# Задаём параметры биномиального распределения\n",
    "n = 1000000\n",
    "p = 0.4\n",
    "\n",
    "# задаём параметры нормального распределения равными\n",
    "# мат.ожиданию и дисперсии биномиального распределения\n",
    "mu = n * p\n",
    "sigma = sqrt(n * p * (1 - p))\n",
    "\n",
    "# задаём нормальное распределение\n",
    "distr = st.norm(mu, sigma) \n",
    "\n",
    "# считаем вероятность хвоста слева от 399500 тысяч\n",
    "result = distr.cdf(399500)\n",
    "print(result)"
   ]
  },
  {
   "cell_type": "markdown",
   "id": "912660cf",
   "metadata": {},
   "source": [
    "Вероятность того, что уведомление откроют не более 399500 пользователей составляет около 15,4%. Теперь построим примерный график распределения."
   ]
  },
  {
   "cell_type": "code",
   "execution_count": 35,
   "id": "d8b5658b",
   "metadata": {},
   "outputs": [],
   "source": [
    "def linspace(start, stop, num):\n",
    "    step = (stop - start) / (num - 1)\n",
    "    result = []\n",
    "    for i in range(num):\n",
    "        result.append(start + step * i)\n",
    "    return result"
   ]
  },
  {
   "cell_type": "code",
   "execution_count": 36,
   "id": "a2fcc26a",
   "metadata": {},
   "outputs": [
    {
     "data": {
      "image/png": "[encoded data removed]",
      "text/plain": [
       "<Figure size 842.4x595.44 with 1 Axes>"
      ]
     },
     "metadata": {},
     "output_type": "display_data"
    },
    {
     "name": "stdout",
     "output_type": "stream",
     "text": [
      "Условие выполняется\n"
     ]
    }
   ],
   "source": [
    "# задаём параметры биномиального распределения\n",
    "n = 1000000\n",
    "p = 0.4\n",
    "\n",
    "# границы промежутка, в котором будем строить аппроксимацию -\n",
    "# от n*p минус 4 ст.отклонения бином.распределения\n",
    "# до n*p плюс 4 ст.отклонения бином.распределения\n",
    "# (там, где вероятности значений почти не равны нулю)\n",
    "left = int(n * p - 4 * sqrt(n * p * (1 - p)))\n",
    "right = int(n * p + 4 * sqrt(n * p * (1 - p)))\n",
    " \n",
    "# зададим набор значений биномиальной величины на выбранном промежутке:\n",
    "# все неотрицательные целые числа от left до right\n",
    "x = list(range(max(0, left), right, 100))\n",
    "# рисуем график биномиального распределения\n",
    "ax = plt.subplot()\n",
    "# используем синие о-образные маркеры и размер маркера 5\n",
    "ax.plot(x, st.binom.pmf(x, n, p), 'bo', ms=5,\n",
    "\t      label='вероятности биномиального распределения')\n",
    "\n",
    "# зададим параметры нормального распределения равными\n",
    "# мат.ожиданию и дисперсии биномиального распределения\n",
    "mu = n * p\n",
    "sigma = sqrt(n * p * (1 - p))\n",
    " \n",
    "# рисуем график нормального распределения:\n",
    "# получим список из 100 чисел от left до right\n",
    "x = linspace(left, right, 100)\n",
    "# используем красную линию ширины 3 и прозрачности 0.3\n",
    "ax.plot(x, st.norm.pdf(x, mu, sigma), 'r-', lw=3, alpha=0.3, label='плотность вероятности нормального распределения')\n",
    " \n",
    "# зададим подписи по оси x в пределах ± 3 ст.отклонений от мат.ожидания\n",
    "# (последний аргумент в методе range - интервал между подписями)\n",
    "x_ticks = list(range(int(mu - 3 * sigma), int(mu + 3 * sigma), 1))\n",
    "ax.set_xticks(x_ticks)\n",
    "\n",
    "# настраиваем оптимальное расположение легенды и выводим график\n",
    "ax.legend(loc='best')\n",
    "plt.show()\n",
    "\n",
    "# выводим, выполняется ли наше условие аппроксимации:\n",
    "# лежит ли mu ± 3 sigma в промежутке от 0 до n:\n",
    "if (mu - (3 * sigma) >= 0) and ((mu + (3 * sigma) <= n)):\n",
    "    print('Условие выполняется')\n",
    "else:\n",
    "    print('Условие не выполняется')"
   ]
  },
  {
   "cell_type": "markdown",
   "id": "66a53e0f",
   "metadata": {},
   "source": [
    "Биномиальное распределение достаточно симметрично, чтобы аппроксимировать его нормальным."
   ]
  },
  {
   "cell_type": "markdown",
   "id": "5193a443",
   "metadata": {},
   "source": [
    "# Вывод\n",
    "\n",
    "В данной работе мы исследовали данные сервиса аренды самокатов GoFast за 2021 год. В состав данных вошли сведения о пользователях услуг (их имена, возраст, город, тип подписки), а также информация об их поездках (продолжительность, расстояние 1 совершенной поездки, дата поездки).\n",
    "\n",
    ">На Шаге 1 мы испортировали все необходимые для конкретного анализа данных библиотеки, считали предоставленные CSV-файлы с данными с помощью библиотеки Pandas и сохранили их в датафреймы. Затем выведили первые несколько строк каждого набора данных. Изучив общую информацию о каждом датафрейме, убедились, что необходима предобработка некоторых данных и перешли к Шагу 2.\n",
    "\n",
    ">На Шаге 2 мы привели столбец `date` к типу даты Pandas; создали новые столбцы с номером месяца и годом на основе столбца `date`, а также обработали дубликаты и проверили наши датасеты на предмет наличия пропусков (пропусков не оказалось нигде, а все явные дубликаты (31 штука) были удалены).\n",
    "\n",
    ">На Шаге 3 мы перешли к исследовательскому анализу данных и постарались визуализировать информацию, изобразив графики частоты встречаемости городов; соотношения пользователей с подпиской и без подписки; возраста пользователей; расстояния, которое пользователь преодолел за одну поездку; продолжительности поездок. Получили следующие выводы: \n",
    "\n",
    "услуги оказались наиболее популярны в Пятигорске, а наименее популярны в Москве;\n",
    "\n",
    "чаще встречаются пользователи без подписки и их более 800, а пользователей с подпиской около 700;\n",
    "\n",
    "наиболее популярны услуги GoFast среди пользователей чуть старше 20 и немного моложе 30 лет; особо популярны услуги среди пользователей возрастом примерно 25 лет;\n",
    "\n",
    "в основном услугами пользуются для преодоления расстояния от примерно 2,5 до 4 км;\n",
    "\n",
    "наиболее часто встречающаяся продолжительность поездок в нашей выборке находится в диапазоне от более 10 до менее 25 минут.\n",
    "\n",
    ">На Шаге 4 мы объединили данные о пользователях, поездках и подписках в один датафрейм с помощью метода `merge`. Затем мы создали еще два датафрейма с данными о пользователях без подписки и данными о пользователях с подпиской. После этого мы визуализировали информацию о расстоянии и времени поездок для пользователей обеих категорий и получили следующие выводы:\n",
    "\n",
    "пользователей без подписки в основном пользуются услугами для преодоления расстояния от 2 до чуть менее 4,5 км. Аналогичный показатель для пользователей с подпиской: от чуть более 2,5 до примерно 3,5 км;\n",
    "\n",
    "наиболее часто встречающиеся значения по времени сессии среди пользователей без подписки находятся в диапазоне примерно от 10 до 25 минут;\n",
    "а среди пользователей с подпиской - в диапазоне примерно от чуть более 10 до чуть менее 25 минут. В отличие от первой категории, есть пользователи, время сессии которых превысило 35 минут, но относительно нашей выборки их очень мало.\n",
    "\n",
    ">На Шаге 5 с помощью группировки с `pivot.table()` мы создали датафрейм с агрегированными данными о поездках с суммарным расстоянием, количеством поездок и суммарным время для каждого пользователя за каждый месяц. В этот же датафрейм мы добавили столбец с помесячной выручкой, которую принёс каждый пользователь, обратившись для этого к изначально предоставленной информации об условиях оплаты для подписчиков и тех, у кого нет подписки. Такие датафреймы мы создавали для проверки дальнейших гипотез на Шаге 6.\n",
    "\n",
    ">На Шаге 6 нам была дана следующая установка: продакт-менеджеры сервиса хотят увеличить количество пользователей с подпиской. Для этого они будут проводить различные акции, но сначала нужно выяснить несколько важных моментов, а именно:\n",
    "\n",
    "проверить, тратят ли пользователи с подпиской больше времени на поездки;\n",
    "\n",
    "можно ли сказать, что расстояние, которое проезжают пользователи с подпиской за одну поездку, не превышает 3130 метров (оптимальное  расстояние одной поездки на самокате с точки зрения его износа);\n",
    "\n",
    "проверить гипотезу о том, будет ли помесячная выручка от пользователей с подпиской по месяцам выше, чем выручка от пользователей без подписки. \n",
    "\n",
    "> Вот, что удалось выяснить после выполнения статистических тестов:\n",
    "\n",
    "есть основания говорить о том, что пользователи с подпиской тратят больше времени на поездки в среднем на одну поездку;\n",
    "\n",
    "есть основания полагать, что среднее расстояние пользователей с подпиской за одну поездку не превышает оптимальное 3130 метров;\n",
    "\n",
    "есть основания полагать, что пользователи с подпиской приносят бОльшую ежемесячную выручку.\n",
    "\n",
    "> На Шаге 7 перед нами был поставлен следующий вопрос: какое минимальное количество промокодов на один бесплатный месяц подписки нужно разослать, чтобы вероятность не выполнить план по переходу 100 существующими пользователями на платную подписку была примерно 5% (при этом мы знаем, что эта акция уже проводилась ранее и по итогу выяснилось, что после бесплатного пробного периода подписку продлевают 10 % пользователей). \n",
    "\n",
    "Использовав биноминальное распределение (подобрав значение вручную и построив график), мы выяснили, что как минимум 1172 промокода необходимо раздать, чтобы вероятность не выполнить вышеупомянутый план была примерно 5%.\n",
    "\n",
    "> На Шаге 7 мы также попытались с помощью аппроксимации построить примерный график распределения и оцените вероятность того, что push-уведомления, которые отдел маркетинга планирует разослать в мобильном приложении в объеме 1 млн, откроют не более 399,5 тыс. пользователей (при этом известно, что уведомления открывают около 40 % получивших клиентов). Получили следующий покатель:\n",
    "\n",
    "вероятность того, что уведомление откроют не более 399500 пользователей составляет около 15,4%."
   ]
  }
 ],
 "metadata": {
  "ExecuteTimeLog": [
   {
    "duration": 1281,
    "start_time": "2023-05-13T07:41:44.821Z"
   },
   {
    "duration": 250,
    "start_time": "2023-05-13T07:44:39.674Z"
   },
   {
    "duration": 98,
    "start_time": "2023-05-13T07:45:08.138Z"
   },
   {
    "duration": 83,
    "start_time": "2023-05-13T07:46:14.611Z"
   },
   {
    "duration": 88,
    "start_time": "2023-05-13T07:50:58.311Z"
   },
   {
    "duration": 95,
    "start_time": "2023-05-13T07:51:33.242Z"
   },
   {
    "duration": 68,
    "start_time": "2023-05-13T07:52:06.273Z"
   },
   {
    "duration": 17,
    "start_time": "2023-05-13T07:57:03.967Z"
   },
   {
    "duration": 24,
    "start_time": "2023-05-13T07:57:53.631Z"
   },
   {
    "duration": 58,
    "start_time": "2023-05-13T08:08:58.846Z"
   },
   {
    "duration": 3,
    "start_time": "2023-05-13T08:09:20.302Z"
   },
   {
    "duration": 4,
    "start_time": "2023-05-13T08:09:40.050Z"
   },
   {
    "duration": 3,
    "start_time": "2023-05-13T08:09:54.007Z"
   },
   {
    "duration": 4,
    "start_time": "2023-05-13T08:10:02.900Z"
   },
   {
    "duration": 4,
    "start_time": "2023-05-13T08:10:11.591Z"
   },
   {
    "duration": 117,
    "start_time": "2023-05-13T08:11:34.016Z"
   },
   {
    "duration": 4,
    "start_time": "2023-05-13T08:11:47.031Z"
   },
   {
    "duration": 4,
    "start_time": "2023-05-13T08:12:07.326Z"
   },
   {
    "duration": 4,
    "start_time": "2023-05-13T08:12:27.628Z"
   },
   {
    "duration": 6,
    "start_time": "2023-05-13T08:12:46.249Z"
   },
   {
    "duration": 4,
    "start_time": "2023-05-13T08:13:20.491Z"
   },
   {
    "duration": 4,
    "start_time": "2023-05-13T08:23:28.773Z"
   },
   {
    "duration": 3,
    "start_time": "2023-05-13T08:23:37.686Z"
   },
   {
    "duration": 17,
    "start_time": "2023-05-13T08:29:28.071Z"
   },
   {
    "duration": 7,
    "start_time": "2023-05-13T08:43:52.799Z"
   },
   {
    "duration": 20,
    "start_time": "2023-05-13T08:44:04.479Z"
   },
   {
    "duration": 9,
    "start_time": "2023-05-13T09:05:21.986Z"
   },
   {
    "duration": 75,
    "start_time": "2023-05-13T09:05:44.350Z"
   },
   {
    "duration": 76,
    "start_time": "2023-05-13T09:05:53.617Z"
   },
   {
    "duration": 13,
    "start_time": "2023-05-13T09:06:25.099Z"
   },
   {
    "duration": 16,
    "start_time": "2023-05-13T09:06:36.619Z"
   },
   {
    "duration": 85,
    "start_time": "2023-05-13T09:07:51.906Z"
   },
   {
    "duration": 12,
    "start_time": "2023-05-13T09:08:48.600Z"
   },
   {
    "duration": 5,
    "start_time": "2023-05-13T09:09:51.248Z"
   },
   {
    "duration": 7,
    "start_time": "2023-05-13T09:11:08.359Z"
   },
   {
    "duration": 11,
    "start_time": "2023-05-13T09:12:31.805Z"
   },
   {
    "duration": 8,
    "start_time": "2023-05-13T09:14:05.646Z"
   },
   {
    "duration": 13,
    "start_time": "2023-05-13T09:14:26.476Z"
   },
   {
    "duration": 8,
    "start_time": "2023-05-13T09:18:05.193Z"
   },
   {
    "duration": 8,
    "start_time": "2023-05-13T09:18:38.454Z"
   },
   {
    "duration": 9,
    "start_time": "2023-05-13T09:21:12.329Z"
   },
   {
    "duration": 8,
    "start_time": "2023-05-13T09:21:19.003Z"
   },
   {
    "duration": 8,
    "start_time": "2023-05-13T09:21:24.924Z"
   },
   {
    "duration": 8,
    "start_time": "2023-05-13T09:21:31.822Z"
   },
   {
    "duration": 9,
    "start_time": "2023-05-13T09:21:38.597Z"
   },
   {
    "duration": 8,
    "start_time": "2023-05-13T09:21:49.018Z"
   },
   {
    "duration": 7,
    "start_time": "2023-05-13T09:23:00.518Z"
   },
   {
    "duration": 9,
    "start_time": "2023-05-13T09:24:10.124Z"
   },
   {
    "duration": 8,
    "start_time": "2023-05-13T09:24:24.745Z"
   },
   {
    "duration": 19,
    "start_time": "2023-05-13T09:25:05.105Z"
   },
   {
    "duration": 10,
    "start_time": "2023-05-13T09:25:11.034Z"
   },
   {
    "duration": 16,
    "start_time": "2023-05-13T09:25:19.343Z"
   },
   {
    "duration": 15,
    "start_time": "2023-05-13T09:25:42.192Z"
   },
   {
    "duration": 20,
    "start_time": "2023-05-13T09:32:01.869Z"
   },
   {
    "duration": 29,
    "start_time": "2023-05-13T09:33:56.652Z"
   },
   {
    "duration": 19,
    "start_time": "2023-05-13T09:34:47.320Z"
   },
   {
    "duration": 17,
    "start_time": "2023-05-13T09:35:03.101Z"
   },
   {
    "duration": 25,
    "start_time": "2023-05-13T09:38:24.383Z"
   },
   {
    "duration": 15,
    "start_time": "2023-05-13T09:38:31.226Z"
   },
   {
    "duration": 20,
    "start_time": "2023-05-13T09:39:16.235Z"
   },
   {
    "duration": 46,
    "start_time": "2023-05-13T09:39:40.565Z"
   },
   {
    "duration": 19,
    "start_time": "2023-05-13T09:39:47.192Z"
   },
   {
    "duration": 627,
    "start_time": "2023-05-13T09:41:07.950Z"
   },
   {
    "duration": 630,
    "start_time": "2023-05-13T09:41:16.879Z"
   },
   {
    "duration": 23,
    "start_time": "2023-05-13T09:41:30.150Z"
   },
   {
    "duration": 22,
    "start_time": "2023-05-13T09:42:29.834Z"
   },
   {
    "duration": 20,
    "start_time": "2023-05-13T09:42:47.216Z"
   },
   {
    "duration": 28,
    "start_time": "2023-05-13T09:47:21.262Z"
   },
   {
    "duration": 17,
    "start_time": "2023-05-13T09:47:37.080Z"
   },
   {
    "duration": 83,
    "start_time": "2023-05-13T09:48:30.437Z"
   },
   {
    "duration": 10,
    "start_time": "2023-05-13T09:49:42.318Z"
   },
   {
    "duration": 12,
    "start_time": "2023-05-13T09:50:08.439Z"
   },
   {
    "duration": 23,
    "start_time": "2023-05-13T09:51:47.306Z"
   },
   {
    "duration": 24,
    "start_time": "2023-05-13T09:51:58.417Z"
   },
   {
    "duration": 17,
    "start_time": "2023-05-13T10:07:49.762Z"
   },
   {
    "duration": 12,
    "start_time": "2023-05-13T10:08:05.812Z"
   },
   {
    "duration": 15,
    "start_time": "2023-05-13T10:08:08.996Z"
   },
   {
    "duration": 15,
    "start_time": "2023-05-13T10:12:11.745Z"
   },
   {
    "duration": 13,
    "start_time": "2023-05-13T10:21:59.688Z"
   },
   {
    "duration": 21,
    "start_time": "2023-05-13T10:26:16.294Z"
   },
   {
    "duration": 22,
    "start_time": "2023-05-13T10:26:40.913Z"
   },
   {
    "duration": 31,
    "start_time": "2023-05-13T10:41:08.390Z"
   },
   {
    "duration": 168,
    "start_time": "2023-05-13T10:41:39.706Z"
   },
   {
    "duration": 120,
    "start_time": "2023-05-13T10:44:31.125Z"
   },
   {
    "duration": 117,
    "start_time": "2023-05-13T10:44:55.013Z"
   },
   {
    "duration": 133,
    "start_time": "2023-05-13T10:44:58.269Z"
   },
   {
    "duration": 185,
    "start_time": "2023-05-13T10:45:04.257Z"
   },
   {
    "duration": 152,
    "start_time": "2023-05-13T10:46:16.483Z"
   },
   {
    "duration": 14,
    "start_time": "2023-05-13T10:46:55.192Z"
   },
   {
    "duration": 163,
    "start_time": "2023-05-13T10:47:06.198Z"
   },
   {
    "duration": 22,
    "start_time": "2023-05-13T10:48:02.471Z"
   },
   {
    "duration": 14,
    "start_time": "2023-05-13T10:48:24.607Z"
   },
   {
    "duration": 222,
    "start_time": "2023-05-13T10:48:34.969Z"
   },
   {
    "duration": 125,
    "start_time": "2023-05-13T10:51:30.493Z"
   },
   {
    "duration": 132,
    "start_time": "2023-05-13T10:51:39.105Z"
   },
   {
    "duration": 1159,
    "start_time": "2023-05-13T11:21:59.447Z"
   },
   {
    "duration": 106,
    "start_time": "2023-05-13T11:22:00.609Z"
   },
   {
    "duration": 19,
    "start_time": "2023-05-13T11:22:00.716Z"
   },
   {
    "duration": 52,
    "start_time": "2023-05-13T11:22:00.736Z"
   },
   {
    "duration": 38,
    "start_time": "2023-05-13T11:22:00.791Z"
   },
   {
    "duration": 104,
    "start_time": "2023-05-13T11:22:00.831Z"
   },
   {
    "duration": 30,
    "start_time": "2023-05-13T11:22:00.937Z"
   },
   {
    "duration": 24,
    "start_time": "2023-05-13T11:22:00.969Z"
   },
   {
    "duration": 23,
    "start_time": "2023-05-13T11:22:00.995Z"
   },
   {
    "duration": 169,
    "start_time": "2023-05-13T11:22:01.020Z"
   },
   {
    "duration": 3,
    "start_time": "2023-05-13T11:22:01.191Z"
   },
   {
    "duration": 3,
    "start_time": "2023-05-13T11:22:03.487Z"
   },
   {
    "duration": 70,
    "start_time": "2023-05-13T11:22:05.262Z"
   },
   {
    "duration": 18,
    "start_time": "2023-05-13T11:22:06.144Z"
   },
   {
    "duration": 14,
    "start_time": "2023-05-13T11:22:06.553Z"
   },
   {
    "duration": 15,
    "start_time": "2023-05-13T11:22:07.011Z"
   },
   {
    "duration": 76,
    "start_time": "2023-05-13T11:22:07.187Z"
   },
   {
    "duration": 13,
    "start_time": "2023-05-13T11:22:07.351Z"
   },
   {
    "duration": 17,
    "start_time": "2023-05-13T11:22:07.508Z"
   },
   {
    "duration": 2,
    "start_time": "2023-05-13T11:22:07.819Z"
   },
   {
    "duration": 130,
    "start_time": "2023-05-13T11:22:08.602Z"
   },
   {
    "duration": 5,
    "start_time": "2023-05-13T11:22:09.955Z"
   },
   {
    "duration": 6,
    "start_time": "2023-05-13T11:22:46.661Z"
   },
   {
    "duration": 6,
    "start_time": "2023-05-13T11:24:01.174Z"
   },
   {
    "duration": 6,
    "start_time": "2023-05-13T11:27:31.126Z"
   },
   {
    "duration": 7,
    "start_time": "2023-05-13T11:29:40.605Z"
   },
   {
    "duration": 9,
    "start_time": "2023-05-13T11:29:46.868Z"
   },
   {
    "duration": 138,
    "start_time": "2023-05-13T11:30:27.051Z"
   },
   {
    "duration": 214,
    "start_time": "2023-05-13T11:31:45.667Z"
   },
   {
    "duration": 120,
    "start_time": "2023-05-13T11:31:50.135Z"
   },
   {
    "duration": 119,
    "start_time": "2023-05-13T11:33:36.041Z"
   },
   {
    "duration": 10,
    "start_time": "2023-05-13T11:37:19.272Z"
   },
   {
    "duration": 177,
    "start_time": "2023-05-13T11:37:45.917Z"
   },
   {
    "duration": 159,
    "start_time": "2023-05-13T11:37:54.700Z"
   },
   {
    "duration": 241,
    "start_time": "2023-05-13T11:37:59.164Z"
   },
   {
    "duration": 238,
    "start_time": "2023-05-13T11:38:03.321Z"
   },
   {
    "duration": 218,
    "start_time": "2023-05-13T11:38:32.678Z"
   },
   {
    "duration": 27,
    "start_time": "2023-05-13T11:53:15.295Z"
   },
   {
    "duration": 300,
    "start_time": "2023-05-13T11:54:38.084Z"
   },
   {
    "duration": 13,
    "start_time": "2023-05-13T12:05:02.270Z"
   },
   {
    "duration": 27,
    "start_time": "2023-05-13T12:05:10.115Z"
   },
   {
    "duration": 311,
    "start_time": "2023-05-13T12:05:25.190Z"
   },
   {
    "duration": 358,
    "start_time": "2023-05-13T12:06:32.298Z"
   },
   {
    "duration": 48,
    "start_time": "2023-05-13T12:07:21.017Z"
   },
   {
    "duration": 1371,
    "start_time": "2023-05-13T14:51:44.137Z"
   },
   {
    "duration": 372,
    "start_time": "2023-05-13T14:51:46.955Z"
   },
   {
    "duration": 21,
    "start_time": "2023-05-13T14:51:47.649Z"
   },
   {
    "duration": 17,
    "start_time": "2023-05-13T14:51:48.196Z"
   },
   {
    "duration": 15,
    "start_time": "2023-05-13T14:51:48.587Z"
   },
   {
    "duration": 82,
    "start_time": "2023-05-13T14:51:48.739Z"
   },
   {
    "duration": 12,
    "start_time": "2023-05-13T14:51:48.906Z"
   },
   {
    "duration": 15,
    "start_time": "2023-05-13T14:51:49.044Z"
   },
   {
    "duration": 3,
    "start_time": "2023-05-13T14:51:49.212Z"
   },
   {
    "duration": 134,
    "start_time": "2023-05-13T14:51:49.517Z"
   },
   {
    "duration": 104,
    "start_time": "2023-05-13T14:51:49.868Z"
   },
   {
    "duration": 215,
    "start_time": "2023-05-13T14:51:50.322Z"
   },
   {
    "duration": 237,
    "start_time": "2023-05-13T14:51:50.987Z"
   },
   {
    "duration": 221,
    "start_time": "2023-05-13T14:51:52.918Z"
   },
   {
    "duration": 97,
    "start_time": "2023-05-13T15:13:59.162Z"
   },
   {
    "duration": 8,
    "start_time": "2023-05-13T15:14:13.072Z"
   },
   {
    "duration": 10,
    "start_time": "2023-05-13T15:14:22.568Z"
   },
   {
    "duration": 24,
    "start_time": "2023-05-13T15:14:33.911Z"
   },
   {
    "duration": 77,
    "start_time": "2023-05-13T15:15:23.415Z"
   },
   {
    "duration": 21,
    "start_time": "2023-05-13T15:17:10.951Z"
   },
   {
    "duration": 15,
    "start_time": "2023-05-13T15:18:02.233Z"
   },
   {
    "duration": 34,
    "start_time": "2023-05-13T15:18:30.168Z"
   },
   {
    "duration": 27,
    "start_time": "2023-05-13T15:19:00.351Z"
   },
   {
    "duration": 30,
    "start_time": "2023-05-13T15:19:05.552Z"
   },
   {
    "duration": 27,
    "start_time": "2023-05-13T15:26:29.496Z"
   },
   {
    "duration": 23,
    "start_time": "2023-05-13T15:26:59.991Z"
   },
   {
    "duration": 6,
    "start_time": "2023-05-13T15:29:45.814Z"
   },
   {
    "duration": 20,
    "start_time": "2023-05-13T15:29:56.726Z"
   },
   {
    "duration": 25,
    "start_time": "2023-05-13T15:30:24.079Z"
   },
   {
    "duration": 229,
    "start_time": "2023-05-13T15:32:04.562Z"
   },
   {
    "duration": 243,
    "start_time": "2023-05-13T15:32:37.785Z"
   },
   {
    "duration": 254,
    "start_time": "2023-05-13T15:47:48.296Z"
   },
   {
    "duration": 251,
    "start_time": "2023-05-13T15:50:11.130Z"
   },
   {
    "duration": 247,
    "start_time": "2023-05-13T15:50:22.058Z"
   },
   {
    "duration": 40,
    "start_time": "2023-05-13T16:08:36.779Z"
   },
   {
    "duration": 9,
    "start_time": "2023-05-13T16:15:27.520Z"
   },
   {
    "duration": 8,
    "start_time": "2023-05-13T16:15:39.568Z"
   },
   {
    "duration": 11,
    "start_time": "2023-05-13T16:15:57.823Z"
   },
   {
    "duration": 17,
    "start_time": "2023-05-13T16:16:50.195Z"
   },
   {
    "duration": 18,
    "start_time": "2023-05-13T16:16:59.527Z"
   },
   {
    "duration": 24,
    "start_time": "2023-05-13T16:18:08.423Z"
   },
   {
    "duration": 32,
    "start_time": "2023-05-13T16:21:43.815Z"
   },
   {
    "duration": 22,
    "start_time": "2023-05-13T16:21:58.341Z"
   },
   {
    "duration": 23,
    "start_time": "2023-05-13T16:22:23.492Z"
   },
   {
    "duration": 18,
    "start_time": "2023-05-13T16:22:41.549Z"
   },
   {
    "duration": 50,
    "start_time": "2023-05-13T16:24:08.976Z"
   },
   {
    "duration": 19,
    "start_time": "2023-05-13T16:24:31.046Z"
   },
   {
    "duration": 21,
    "start_time": "2023-05-13T16:28:15.678Z"
   },
   {
    "duration": 13,
    "start_time": "2023-05-13T16:28:21.532Z"
   },
   {
    "duration": 3,
    "start_time": "2023-05-13T16:28:30.162Z"
   },
   {
    "duration": 4,
    "start_time": "2023-05-13T16:28:43.723Z"
   },
   {
    "duration": 6,
    "start_time": "2023-05-13T16:28:47.720Z"
   },
   {
    "duration": 1129,
    "start_time": "2023-05-13T16:29:10.369Z"
   },
   {
    "duration": 88,
    "start_time": "2023-05-13T16:29:11.505Z"
   },
   {
    "duration": 29,
    "start_time": "2023-05-13T16:29:11.595Z"
   },
   {
    "duration": 14,
    "start_time": "2023-05-13T16:29:11.625Z"
   },
   {
    "duration": 13,
    "start_time": "2023-05-13T16:29:11.641Z"
   },
   {
    "duration": 85,
    "start_time": "2023-05-13T16:29:11.655Z"
   },
   {
    "duration": 15,
    "start_time": "2023-05-13T16:29:11.742Z"
   },
   {
    "duration": 15,
    "start_time": "2023-05-13T16:29:11.758Z"
   },
   {
    "duration": 4,
    "start_time": "2023-05-13T16:29:11.775Z"
   },
   {
    "duration": 162,
    "start_time": "2023-05-13T16:29:11.780Z"
   },
   {
    "duration": 123,
    "start_time": "2023-05-13T16:29:11.943Z"
   },
   {
    "duration": 250,
    "start_time": "2023-05-13T16:29:12.068Z"
   },
   {
    "duration": 232,
    "start_time": "2023-05-13T16:29:12.324Z"
   },
   {
    "duration": 230,
    "start_time": "2023-05-13T16:29:12.558Z"
   },
   {
    "duration": 36,
    "start_time": "2023-05-13T16:29:12.800Z"
   },
   {
    "duration": 100,
    "start_time": "2023-05-13T16:29:12.838Z"
   },
   {
    "duration": 33,
    "start_time": "2023-05-13T16:29:12.940Z"
   },
   {
    "duration": 251,
    "start_time": "2023-05-13T16:29:12.975Z"
   },
   {
    "duration": 261,
    "start_time": "2023-05-13T16:29:13.227Z"
   },
   {
    "duration": 271,
    "start_time": "2023-05-13T16:29:13.490Z"
   },
   {
    "duration": 270,
    "start_time": "2023-05-13T16:29:13.763Z"
   },
   {
    "duration": 18,
    "start_time": "2023-05-13T16:29:14.034Z"
   },
   {
    "duration": 28,
    "start_time": "2023-05-13T16:29:14.053Z"
   },
   {
    "duration": 40,
    "start_time": "2023-05-13T16:29:14.084Z"
   },
   {
    "duration": 85,
    "start_time": "2023-05-13T16:29:14.345Z"
   },
   {
    "duration": 16,
    "start_time": "2023-05-13T16:29:14.877Z"
   },
   {
    "duration": 51,
    "start_time": "2023-05-13T16:29:14.894Z"
   },
   {
    "duration": 18,
    "start_time": "2023-05-13T16:29:15.424Z"
   },
   {
    "duration": 88,
    "start_time": "2023-05-13T16:29:15.444Z"
   },
   {
    "duration": 11,
    "start_time": "2023-05-13T16:29:15.533Z"
   },
   {
    "duration": 15,
    "start_time": "2023-05-13T16:29:15.623Z"
   },
   {
    "duration": 3,
    "start_time": "2023-05-13T16:29:15.925Z"
   },
   {
    "duration": 129,
    "start_time": "2023-05-13T16:29:16.132Z"
   },
   {
    "duration": 112,
    "start_time": "2023-05-13T16:29:16.514Z"
   },
   {
    "duration": 226,
    "start_time": "2023-05-13T16:29:16.948Z"
   },
   {
    "duration": 330,
    "start_time": "2023-05-13T16:29:18.053Z"
   },
   {
    "duration": 234,
    "start_time": "2023-05-13T16:29:19.257Z"
   },
   {
    "duration": 31,
    "start_time": "2023-05-13T16:29:21.332Z"
   },
   {
    "duration": 24,
    "start_time": "2023-05-13T16:29:21.874Z"
   },
   {
    "duration": 23,
    "start_time": "2023-05-13T16:29:22.416Z"
   },
   {
    "duration": 250,
    "start_time": "2023-05-13T16:29:23.817Z"
   },
   {
    "duration": 279,
    "start_time": "2023-05-13T16:29:24.441Z"
   },
   {
    "duration": 225,
    "start_time": "2023-05-13T16:29:25.822Z"
   },
   {
    "duration": 232,
    "start_time": "2023-05-13T16:29:26.220Z"
   },
   {
    "duration": 22,
    "start_time": "2023-05-13T16:29:29.370Z"
   },
   {
    "duration": 4,
    "start_time": "2023-05-13T16:29:30.737Z"
   },
   {
    "duration": 7,
    "start_time": "2023-05-13T16:29:53.221Z"
   },
   {
    "duration": 6,
    "start_time": "2023-05-13T16:30:36.848Z"
   },
   {
    "duration": 13,
    "start_time": "2023-05-13T16:32:25.523Z"
   },
   {
    "duration": 23,
    "start_time": "2023-05-13T16:32:43.424Z"
   },
   {
    "duration": 23,
    "start_time": "2023-05-13T16:34:13.866Z"
   },
   {
    "duration": 121,
    "start_time": "2023-05-13T16:34:26.662Z"
   },
   {
    "duration": 132,
    "start_time": "2023-05-13T16:36:26.282Z"
   },
   {
    "duration": 21,
    "start_time": "2023-05-13T16:36:36.848Z"
   },
   {
    "duration": 1093,
    "start_time": "2023-05-13T16:36:52.092Z"
   },
   {
    "duration": 92,
    "start_time": "2023-05-13T16:36:53.187Z"
   },
   {
    "duration": 15,
    "start_time": "2023-05-13T16:36:53.280Z"
   },
   {
    "duration": 21,
    "start_time": "2023-05-13T16:36:53.297Z"
   },
   {
    "duration": 28,
    "start_time": "2023-05-13T16:36:53.322Z"
   },
   {
    "duration": 90,
    "start_time": "2023-05-13T16:36:53.352Z"
   },
   {
    "duration": 12,
    "start_time": "2023-05-13T16:36:53.444Z"
   },
   {
    "duration": 29,
    "start_time": "2023-05-13T16:36:53.457Z"
   },
   {
    "duration": 7,
    "start_time": "2023-05-13T16:36:53.487Z"
   },
   {
    "duration": 193,
    "start_time": "2023-05-13T16:36:53.496Z"
   },
   {
    "duration": 135,
    "start_time": "2023-05-13T16:36:53.691Z"
   },
   {
    "duration": 243,
    "start_time": "2023-05-13T16:36:53.828Z"
   },
   {
    "duration": 269,
    "start_time": "2023-05-13T16:36:54.073Z"
   },
   {
    "duration": 279,
    "start_time": "2023-05-13T16:36:54.344Z"
   },
   {
    "duration": 35,
    "start_time": "2023-05-13T16:36:54.628Z"
   },
   {
    "duration": 96,
    "start_time": "2023-05-13T16:36:54.665Z"
   },
   {
    "duration": 38,
    "start_time": "2023-05-13T16:36:54.763Z"
   },
   {
    "duration": 235,
    "start_time": "2023-05-13T16:36:54.804Z"
   },
   {
    "duration": 278,
    "start_time": "2023-05-13T16:36:55.041Z"
   },
   {
    "duration": 245,
    "start_time": "2023-05-13T16:36:55.320Z"
   },
   {
    "duration": 238,
    "start_time": "2023-05-13T16:36:55.567Z"
   },
   {
    "duration": 22,
    "start_time": "2023-05-13T16:36:55.806Z"
   },
   {
    "duration": 12,
    "start_time": "2023-05-13T16:36:55.829Z"
   },
   {
    "duration": 2,
    "start_time": "2023-05-13T16:36:55.844Z"
   },
   {
    "duration": 89,
    "start_time": "2023-05-13T16:36:56.221Z"
   },
   {
    "duration": 18,
    "start_time": "2023-05-13T16:36:56.427Z"
   },
   {
    "duration": 17,
    "start_time": "2023-05-13T16:36:56.633Z"
   },
   {
    "duration": 15,
    "start_time": "2023-05-13T16:36:56.959Z"
   },
   {
    "duration": 102,
    "start_time": "2023-05-13T16:36:57.107Z"
   },
   {
    "duration": 12,
    "start_time": "2023-05-13T16:36:57.424Z"
   },
   {
    "duration": 16,
    "start_time": "2023-05-13T16:36:57.559Z"
   },
   {
    "duration": 3,
    "start_time": "2023-05-13T16:36:57.721Z"
   },
   {
    "duration": 135,
    "start_time": "2023-05-13T16:36:58.066Z"
   },
   {
    "duration": 104,
    "start_time": "2023-05-13T16:36:58.379Z"
   },
   {
    "duration": 228,
    "start_time": "2023-05-13T16:36:58.896Z"
   },
   {
    "duration": 357,
    "start_time": "2023-05-13T16:36:59.554Z"
   },
   {
    "duration": 225,
    "start_time": "2023-05-13T16:36:59.917Z"
   },
   {
    "duration": 35,
    "start_time": "2023-05-13T16:37:00.301Z"
   },
   {
    "duration": 23,
    "start_time": "2023-05-13T16:37:00.541Z"
   },
   {
    "duration": 26,
    "start_time": "2023-05-13T16:37:00.680Z"
   },
   {
    "duration": 252,
    "start_time": "2023-05-13T16:37:01.498Z"
   },
   {
    "duration": 253,
    "start_time": "2023-05-13T16:37:02.523Z"
   },
   {
    "duration": 221,
    "start_time": "2023-05-13T16:37:03.824Z"
   },
   {
    "duration": 258,
    "start_time": "2023-05-13T16:37:04.373Z"
   },
   {
    "duration": 27,
    "start_time": "2023-05-13T16:37:06.198Z"
   },
   {
    "duration": 14,
    "start_time": "2023-05-13T16:37:06.727Z"
   },
   {
    "duration": 17,
    "start_time": "2023-05-13T16:37:31.465Z"
   },
   {
    "duration": 25,
    "start_time": "2023-05-13T16:37:40.064Z"
   },
   {
    "duration": 151,
    "start_time": "2023-05-13T16:39:05.223Z"
   },
   {
    "duration": 152,
    "start_time": "2023-05-13T16:40:02.462Z"
   },
   {
    "duration": 52,
    "start_time": "2023-05-13T16:40:27.898Z"
   },
   {
    "duration": 25,
    "start_time": "2023-05-13T16:40:39.558Z"
   },
   {
    "duration": 24,
    "start_time": "2023-05-13T16:41:36.461Z"
   },
   {
    "duration": 4,
    "start_time": "2023-05-13T16:42:31.967Z"
   },
   {
    "duration": 7,
    "start_time": "2023-05-13T16:42:59.698Z"
   },
   {
    "duration": 6,
    "start_time": "2023-05-13T16:43:47.026Z"
   },
   {
    "duration": 6,
    "start_time": "2023-05-13T16:44:47.917Z"
   },
   {
    "duration": 7,
    "start_time": "2023-05-13T16:44:58.223Z"
   },
   {
    "duration": 10,
    "start_time": "2023-05-13T16:45:28.571Z"
   },
   {
    "duration": 8,
    "start_time": "2023-05-13T16:45:53.273Z"
   },
   {
    "duration": 11,
    "start_time": "2023-05-13T16:46:05.976Z"
   },
   {
    "duration": 20,
    "start_time": "2023-05-13T16:46:19.076Z"
   },
   {
    "duration": 39,
    "start_time": "2023-05-13T16:47:22.497Z"
   },
   {
    "duration": 30,
    "start_time": "2023-05-13T16:49:13.656Z"
   },
   {
    "duration": 18,
    "start_time": "2023-05-13T16:49:23.826Z"
   },
   {
    "duration": 23,
    "start_time": "2023-05-13T16:54:04.220Z"
   },
   {
    "duration": 25,
    "start_time": "2023-05-13T16:54:10.066Z"
   },
   {
    "duration": 13,
    "start_time": "2023-05-13T16:54:17.780Z"
   },
   {
    "duration": 20,
    "start_time": "2023-05-13T16:58:54.275Z"
   },
   {
    "duration": 23,
    "start_time": "2023-05-13T16:59:01.190Z"
   },
   {
    "duration": 17,
    "start_time": "2023-05-13T16:59:39.470Z"
   },
   {
    "duration": 21,
    "start_time": "2023-05-13T17:01:02.522Z"
   },
   {
    "duration": 16,
    "start_time": "2023-05-13T17:01:55.736Z"
   },
   {
    "duration": 27,
    "start_time": "2023-05-13T17:01:59.752Z"
   },
   {
    "duration": 38,
    "start_time": "2023-05-13T17:02:23.232Z"
   },
   {
    "duration": 41,
    "start_time": "2023-05-13T17:02:54.897Z"
   },
   {
    "duration": 36,
    "start_time": "2023-05-13T17:03:32.240Z"
   },
   {
    "duration": 4,
    "start_time": "2023-05-13T17:05:05.837Z"
   },
   {
    "duration": 44,
    "start_time": "2023-05-13T17:05:10.970Z"
   },
   {
    "duration": 25,
    "start_time": "2023-05-13T17:05:57.016Z"
   },
   {
    "duration": 34,
    "start_time": "2023-05-13T17:06:04.372Z"
   },
   {
    "duration": 27,
    "start_time": "2023-05-13T17:07:27.789Z"
   },
   {
    "duration": 39,
    "start_time": "2023-05-13T17:07:32.486Z"
   },
   {
    "duration": 31,
    "start_time": "2023-05-13T17:08:26.725Z"
   },
   {
    "duration": 52,
    "start_time": "2023-05-13T17:08:31.581Z"
   },
   {
    "duration": 56,
    "start_time": "2023-05-13T17:09:11.088Z"
   },
   {
    "duration": 29,
    "start_time": "2023-05-13T17:09:17.525Z"
   },
   {
    "duration": 59,
    "start_time": "2023-05-13T17:09:23.196Z"
   },
   {
    "duration": 546,
    "start_time": "2023-05-13T17:10:18.555Z"
   },
   {
    "duration": 42,
    "start_time": "2023-05-13T17:10:34.726Z"
   },
   {
    "duration": 46,
    "start_time": "2023-05-13T17:10:41.448Z"
   },
   {
    "duration": 50,
    "start_time": "2023-05-13T17:10:47.762Z"
   },
   {
    "duration": 35,
    "start_time": "2023-05-13T17:11:41.037Z"
   },
   {
    "duration": 49,
    "start_time": "2023-05-13T17:12:15.313Z"
   },
   {
    "duration": 430,
    "start_time": "2023-05-13T17:12:57.342Z"
   },
   {
    "duration": 535,
    "start_time": "2023-05-13T17:13:11.034Z"
   },
   {
    "duration": 24,
    "start_time": "2023-05-13T17:13:42.853Z"
   },
   {
    "duration": 41,
    "start_time": "2023-05-13T17:13:50.078Z"
   },
   {
    "duration": 438,
    "start_time": "2023-05-13T17:13:53.420Z"
   },
   {
    "duration": 412,
    "start_time": "2023-05-13T17:14:31.380Z"
   },
   {
    "duration": 26,
    "start_time": "2023-05-13T17:14:43.039Z"
   },
   {
    "duration": 33,
    "start_time": "2023-05-13T17:15:12.527Z"
   },
   {
    "duration": 104,
    "start_time": "2023-05-13T17:15:15.934Z"
   },
   {
    "duration": 41,
    "start_time": "2023-05-13T17:16:21.552Z"
   },
   {
    "duration": 67,
    "start_time": "2023-05-13T17:16:27.670Z"
   },
   {
    "duration": 69,
    "start_time": "2023-05-13T17:16:50.890Z"
   },
   {
    "duration": 58,
    "start_time": "2023-05-13T17:17:21.274Z"
   },
   {
    "duration": 79,
    "start_time": "2023-05-13T17:17:45.617Z"
   },
   {
    "duration": 176,
    "start_time": "2023-05-13T17:18:17.095Z"
   },
   {
    "duration": 171,
    "start_time": "2023-05-13T17:18:21.349Z"
   },
   {
    "duration": 136,
    "start_time": "2023-05-13T17:18:34.742Z"
   },
   {
    "duration": 76,
    "start_time": "2023-05-13T17:19:16.187Z"
   },
   {
    "duration": 34,
    "start_time": "2023-05-13T17:19:42.984Z"
   },
   {
    "duration": 45,
    "start_time": "2023-05-13T17:20:03.589Z"
   },
   {
    "duration": 34,
    "start_time": "2023-05-13T17:20:11.453Z"
   },
   {
    "duration": 26,
    "start_time": "2023-05-13T17:20:52.920Z"
   },
   {
    "duration": 58,
    "start_time": "2023-05-13T17:21:54.776Z"
   },
   {
    "duration": 41,
    "start_time": "2023-05-13T17:24:18.575Z"
   },
   {
    "duration": 64,
    "start_time": "2023-05-13T17:24:28.030Z"
   },
   {
    "duration": 55,
    "start_time": "2023-05-13T17:25:52.795Z"
   },
   {
    "duration": 27,
    "start_time": "2023-05-13T17:25:59.824Z"
   },
   {
    "duration": 37,
    "start_time": "2023-05-13T17:26:05.132Z"
   },
   {
    "duration": 52,
    "start_time": "2023-05-13T17:26:26.283Z"
   },
   {
    "duration": 1205,
    "start_time": "2023-05-13T17:26:40.534Z"
   },
   {
    "duration": 98,
    "start_time": "2023-05-13T17:26:41.741Z"
   },
   {
    "duration": 28,
    "start_time": "2023-05-13T17:26:41.842Z"
   },
   {
    "duration": 25,
    "start_time": "2023-05-13T17:26:41.874Z"
   },
   {
    "duration": 20,
    "start_time": "2023-05-13T17:26:41.901Z"
   },
   {
    "duration": 98,
    "start_time": "2023-05-13T17:26:41.923Z"
   },
   {
    "duration": 13,
    "start_time": "2023-05-13T17:26:42.023Z"
   },
   {
    "duration": 20,
    "start_time": "2023-05-13T17:26:42.038Z"
   },
   {
    "duration": 3,
    "start_time": "2023-05-13T17:26:42.060Z"
   },
   {
    "duration": 188,
    "start_time": "2023-05-13T17:26:42.065Z"
   },
   {
    "duration": 131,
    "start_time": "2023-05-13T17:26:42.254Z"
   },
   {
    "duration": 295,
    "start_time": "2023-05-13T17:26:42.396Z"
   },
   {
    "duration": 305,
    "start_time": "2023-05-13T17:26:42.700Z"
   },
   {
    "duration": 246,
    "start_time": "2023-05-13T17:26:43.007Z"
   },
   {
    "duration": 33,
    "start_time": "2023-05-13T17:26:43.255Z"
   },
   {
    "duration": 119,
    "start_time": "2023-05-13T17:26:43.297Z"
   },
   {
    "duration": 26,
    "start_time": "2023-05-13T17:26:43.419Z"
   },
   {
    "duration": 271,
    "start_time": "2023-05-13T17:26:43.447Z"
   },
   {
    "duration": 320,
    "start_time": "2023-05-13T17:26:43.720Z"
   },
   {
    "duration": 248,
    "start_time": "2023-05-13T17:26:44.042Z"
   },
   {
    "duration": 370,
    "start_time": "2023-05-13T17:26:44.291Z"
   },
   {
    "duration": 20,
    "start_time": "2023-05-13T17:26:44.663Z"
   },
   {
    "duration": 74,
    "start_time": "2023-05-13T17:26:44.684Z"
   },
   {
    "duration": 3,
    "start_time": "2023-05-13T17:26:44.761Z"
   },
   {
    "duration": 105,
    "start_time": "2023-05-13T17:26:45.453Z"
   },
   {
    "duration": 20,
    "start_time": "2023-05-13T17:26:45.636Z"
   },
   {
    "duration": 18,
    "start_time": "2023-05-13T17:26:45.818Z"
   },
   {
    "duration": 15,
    "start_time": "2023-05-13T17:26:46.152Z"
   },
   {
    "duration": 79,
    "start_time": "2023-05-13T17:26:46.314Z"
   },
   {
    "duration": 11,
    "start_time": "2023-05-13T17:26:46.475Z"
   },
   {
    "duration": 26,
    "start_time": "2023-05-13T17:26:46.639Z"
   },
   {
    "duration": 4,
    "start_time": "2023-05-13T17:26:46.788Z"
   },
   {
    "duration": 147,
    "start_time": "2023-05-13T17:26:47.114Z"
   },
   {
    "duration": 132,
    "start_time": "2023-05-13T17:26:47.414Z"
   },
   {
    "duration": 249,
    "start_time": "2023-05-13T17:26:47.725Z"
   },
   {
    "duration": 347,
    "start_time": "2023-05-13T17:26:48.030Z"
   },
   {
    "duration": 233,
    "start_time": "2023-05-13T17:26:48.422Z"
   },
   {
    "duration": 31,
    "start_time": "2023-05-13T17:26:48.947Z"
   },
   {
    "duration": 23,
    "start_time": "2023-05-13T17:26:49.125Z"
   },
   {
    "duration": 23,
    "start_time": "2023-05-13T17:26:49.314Z"
   },
   {
    "duration": 250,
    "start_time": "2023-05-13T17:26:49.664Z"
   },
   {
    "duration": 274,
    "start_time": "2023-05-13T17:26:49.921Z"
   },
   {
    "duration": 249,
    "start_time": "2023-05-13T17:26:50.227Z"
   },
   {
    "duration": 290,
    "start_time": "2023-05-13T17:26:50.478Z"
   },
   {
    "duration": 19,
    "start_time": "2023-05-13T17:26:50.918Z"
   },
   {
    "duration": 49,
    "start_time": "2023-05-13T17:26:51.080Z"
   },
   {
    "duration": 43,
    "start_time": "2023-05-13T17:27:39.241Z"
   },
   {
    "duration": 67,
    "start_time": "2023-05-13T17:27:44.597Z"
   },
   {
    "duration": 159,
    "start_time": "2023-05-13T17:28:04.419Z"
   },
   {
    "duration": 1234,
    "start_time": "2023-05-13T17:28:10.440Z"
   },
   {
    "duration": 103,
    "start_time": "2023-05-13T17:28:11.676Z"
   },
   {
    "duration": 19,
    "start_time": "2023-05-13T17:28:11.781Z"
   },
   {
    "duration": 28,
    "start_time": "2023-05-13T17:28:11.806Z"
   },
   {
    "duration": 18,
    "start_time": "2023-05-13T17:28:11.836Z"
   },
   {
    "duration": 93,
    "start_time": "2023-05-13T17:28:11.855Z"
   },
   {
    "duration": 11,
    "start_time": "2023-05-13T17:28:11.949Z"
   },
   {
    "duration": 14,
    "start_time": "2023-05-13T17:28:11.961Z"
   },
   {
    "duration": 3,
    "start_time": "2023-05-13T17:28:11.976Z"
   },
   {
    "duration": 159,
    "start_time": "2023-05-13T17:28:11.998Z"
   },
   {
    "duration": 126,
    "start_time": "2023-05-13T17:28:12.159Z"
   },
   {
    "duration": 260,
    "start_time": "2023-05-13T17:28:12.286Z"
   },
   {
    "duration": 275,
    "start_time": "2023-05-13T17:28:12.548Z"
   },
   {
    "duration": 259,
    "start_time": "2023-05-13T17:28:12.825Z"
   },
   {
    "duration": 51,
    "start_time": "2023-05-13T17:28:13.085Z"
   },
   {
    "duration": 112,
    "start_time": "2023-05-13T17:28:13.138Z"
   },
   {
    "duration": 20,
    "start_time": "2023-05-13T17:28:13.251Z"
   },
   {
    "duration": 272,
    "start_time": "2023-05-13T17:28:13.273Z"
   },
   {
    "duration": 280,
    "start_time": "2023-05-13T17:28:13.547Z"
   },
   {
    "duration": 253,
    "start_time": "2023-05-13T17:28:13.829Z"
   },
   {
    "duration": 270,
    "start_time": "2023-05-13T17:28:14.084Z"
   },
   {
    "duration": 20,
    "start_time": "2023-05-13T17:28:14.356Z"
   },
   {
    "duration": 73,
    "start_time": "2023-05-13T17:28:14.378Z"
   },
   {
    "duration": 3,
    "start_time": "2023-05-13T17:28:14.454Z"
   },
   {
    "duration": 90,
    "start_time": "2023-05-13T17:28:15.516Z"
   },
   {
    "duration": 17,
    "start_time": "2023-05-13T17:28:15.750Z"
   },
   {
    "duration": 15,
    "start_time": "2023-05-13T17:28:15.949Z"
   },
   {
    "duration": 41,
    "start_time": "2023-05-13T17:28:16.291Z"
   },
   {
    "duration": 101,
    "start_time": "2023-05-13T17:28:16.459Z"
   },
   {
    "duration": 23,
    "start_time": "2023-05-13T17:28:16.633Z"
   },
   {
    "duration": 27,
    "start_time": "2023-05-13T17:28:16.782Z"
   },
   {
    "duration": 3,
    "start_time": "2023-05-13T17:28:16.955Z"
   },
   {
    "duration": 145,
    "start_time": "2023-05-13T17:28:17.323Z"
   },
   {
    "duration": 120,
    "start_time": "2023-05-13T17:28:17.670Z"
   },
   {
    "duration": 259,
    "start_time": "2023-05-13T17:28:18.042Z"
   },
   {
    "duration": 381,
    "start_time": "2023-05-13T17:28:18.375Z"
   },
   {
    "duration": 271,
    "start_time": "2023-05-13T17:28:18.758Z"
   },
   {
    "duration": 30,
    "start_time": "2023-05-13T17:28:19.353Z"
   },
   {
    "duration": 28,
    "start_time": "2023-05-13T17:28:19.526Z"
   },
   {
    "duration": 34,
    "start_time": "2023-05-13T17:28:19.688Z"
   },
   {
    "duration": 272,
    "start_time": "2023-05-13T17:28:20.022Z"
   },
   {
    "duration": 312,
    "start_time": "2023-05-13T17:28:20.296Z"
   },
   {
    "duration": 254,
    "start_time": "2023-05-13T17:28:20.609Z"
   },
   {
    "duration": 275,
    "start_time": "2023-05-13T17:28:20.865Z"
   },
   {
    "duration": 20,
    "start_time": "2023-05-13T17:28:21.255Z"
   },
   {
    "duration": 38,
    "start_time": "2023-05-13T17:28:21.454Z"
   },
   {
    "duration": 39,
    "start_time": "2023-05-13T17:29:03.443Z"
   },
   {
    "duration": 237,
    "start_time": "2023-05-13T17:32:23.731Z"
   },
   {
    "duration": 31,
    "start_time": "2023-05-13T17:32:44.922Z"
   },
   {
    "duration": 37,
    "start_time": "2023-05-13T17:32:49.627Z"
   },
   {
    "duration": 38,
    "start_time": "2023-05-13T17:33:50.921Z"
   },
   {
    "duration": 30,
    "start_time": "2023-05-13T17:42:28.257Z"
   },
   {
    "duration": 56,
    "start_time": "2023-05-13T17:42:37.558Z"
   },
   {
    "duration": 23,
    "start_time": "2023-05-13T17:44:18.793Z"
   },
   {
    "duration": 1097,
    "start_time": "2023-05-13T17:44:27.030Z"
   },
   {
    "duration": 86,
    "start_time": "2023-05-13T17:44:28.128Z"
   },
   {
    "duration": 31,
    "start_time": "2023-05-13T17:44:28.216Z"
   },
   {
    "duration": 13,
    "start_time": "2023-05-13T17:44:28.250Z"
   },
   {
    "duration": 13,
    "start_time": "2023-05-13T17:44:28.265Z"
   },
   {
    "duration": 84,
    "start_time": "2023-05-13T17:44:28.280Z"
   },
   {
    "duration": 12,
    "start_time": "2023-05-13T17:44:28.365Z"
   },
   {
    "duration": 33,
    "start_time": "2023-05-13T17:44:28.378Z"
   },
   {
    "duration": 3,
    "start_time": "2023-05-13T17:44:28.413Z"
   },
   {
    "duration": 143,
    "start_time": "2023-05-13T17:44:28.418Z"
   },
   {
    "duration": 108,
    "start_time": "2023-05-13T17:44:28.562Z"
   },
   {
    "duration": 240,
    "start_time": "2023-05-13T17:44:28.672Z"
   },
   {
    "duration": 235,
    "start_time": "2023-05-13T17:44:28.914Z"
   },
   {
    "duration": 226,
    "start_time": "2023-05-13T17:44:29.151Z"
   },
   {
    "duration": 45,
    "start_time": "2023-05-13T17:44:29.379Z"
   },
   {
    "duration": 92,
    "start_time": "2023-05-13T17:44:29.425Z"
   },
   {
    "duration": 19,
    "start_time": "2023-05-13T17:44:29.518Z"
   },
   {
    "duration": 239,
    "start_time": "2023-05-13T17:44:29.538Z"
   },
   {
    "duration": 256,
    "start_time": "2023-05-13T17:44:29.778Z"
   },
   {
    "duration": 224,
    "start_time": "2023-05-13T17:44:30.036Z"
   },
   {
    "duration": 244,
    "start_time": "2023-05-13T17:44:30.261Z"
   },
   {
    "duration": 19,
    "start_time": "2023-05-13T17:44:30.509Z"
   },
   {
    "duration": 84,
    "start_time": "2023-05-13T17:44:30.529Z"
   },
   {
    "duration": 22,
    "start_time": "2023-05-13T17:44:30.616Z"
   },
   {
    "duration": 72,
    "start_time": "2023-05-13T17:44:30.641Z"
   },
   {
    "duration": 152,
    "start_time": "2023-05-13T17:44:30.715Z"
   },
   {
    "duration": 17,
    "start_time": "2023-05-13T17:44:30.869Z"
   },
   {
    "duration": 53,
    "start_time": "2023-05-13T17:44:30.887Z"
   },
   {
    "duration": 50,
    "start_time": "2023-05-13T17:44:30.941Z"
   },
   {
    "duration": 101,
    "start_time": "2023-05-13T17:44:30.993Z"
   },
   {
    "duration": 17,
    "start_time": "2023-05-13T17:44:31.095Z"
   },
   {
    "duration": 63,
    "start_time": "2023-05-13T17:44:31.114Z"
   },
   {
    "duration": 2,
    "start_time": "2023-05-13T17:44:31.211Z"
   },
   {
    "duration": 122,
    "start_time": "2023-05-13T17:44:31.523Z"
   },
   {
    "duration": 103,
    "start_time": "2023-05-13T17:44:31.864Z"
   },
   {
    "duration": 212,
    "start_time": "2023-05-13T17:44:32.215Z"
   },
   {
    "duration": 328,
    "start_time": "2023-05-13T17:44:32.581Z"
   },
   {
    "duration": 210,
    "start_time": "2023-05-13T17:44:32.925Z"
   },
   {
    "duration": 29,
    "start_time": "2023-05-13T17:44:33.425Z"
   },
   {
    "duration": 22,
    "start_time": "2023-05-13T17:44:33.611Z"
   },
   {
    "duration": 22,
    "start_time": "2023-05-13T17:44:33.809Z"
   },
   {
    "duration": 219,
    "start_time": "2023-05-13T17:44:34.233Z"
   },
   {
    "duration": 258,
    "start_time": "2023-05-13T17:44:34.520Z"
   },
   {
    "duration": 223,
    "start_time": "2023-05-13T17:44:35.009Z"
   },
   {
    "duration": 257,
    "start_time": "2023-05-13T17:44:35.234Z"
   },
   {
    "duration": 18,
    "start_time": "2023-05-13T17:44:35.857Z"
   },
   {
    "duration": 40,
    "start_time": "2023-05-13T17:44:36.944Z"
   },
   {
    "duration": 16,
    "start_time": "2023-05-13T17:44:38.271Z"
   },
   {
    "duration": 88,
    "start_time": "2023-05-13T17:52:09.712Z"
   },
   {
    "duration": 1406,
    "start_time": "2023-05-13T17:52:16.864Z"
   },
   {
    "duration": 18,
    "start_time": "2023-05-13T17:52:49.373Z"
   },
   {
    "duration": 1098,
    "start_time": "2023-05-13T17:53:33.349Z"
   },
   {
    "duration": 98,
    "start_time": "2023-05-13T17:53:34.448Z"
   },
   {
    "duration": 29,
    "start_time": "2023-05-13T17:53:34.548Z"
   },
   {
    "duration": 26,
    "start_time": "2023-05-13T17:53:34.580Z"
   },
   {
    "duration": 15,
    "start_time": "2023-05-13T17:53:34.608Z"
   },
   {
    "duration": 76,
    "start_time": "2023-05-13T17:53:34.625Z"
   },
   {
    "duration": 21,
    "start_time": "2023-05-13T17:53:34.704Z"
   },
   {
    "duration": 17,
    "start_time": "2023-05-13T17:53:34.727Z"
   },
   {
    "duration": 3,
    "start_time": "2023-05-13T17:53:34.746Z"
   },
   {
    "duration": 158,
    "start_time": "2023-05-13T17:53:34.751Z"
   },
   {
    "duration": 106,
    "start_time": "2023-05-13T17:53:34.911Z"
   },
   {
    "duration": 229,
    "start_time": "2023-05-13T17:53:35.018Z"
   },
   {
    "duration": 318,
    "start_time": "2023-05-13T17:53:35.249Z"
   },
   {
    "duration": 234,
    "start_time": "2023-05-13T17:53:35.568Z"
   },
   {
    "duration": 39,
    "start_time": "2023-05-13T17:53:35.803Z"
   },
   {
    "duration": 94,
    "start_time": "2023-05-13T17:53:35.844Z"
   },
   {
    "duration": 19,
    "start_time": "2023-05-13T17:53:35.940Z"
   },
   {
    "duration": 242,
    "start_time": "2023-05-13T17:53:35.960Z"
   },
   {
    "duration": 331,
    "start_time": "2023-05-13T17:53:36.207Z"
   },
   {
    "duration": 308,
    "start_time": "2023-05-13T17:53:36.541Z"
   },
   {
    "duration": 290,
    "start_time": "2023-05-13T17:53:36.850Z"
   },
   {
    "duration": 22,
    "start_time": "2023-05-13T17:53:37.142Z"
   },
   {
    "duration": 61,
    "start_time": "2023-05-13T17:53:37.166Z"
   },
   {
    "duration": 3,
    "start_time": "2023-05-13T17:53:37.345Z"
   },
   {
    "duration": 88,
    "start_time": "2023-05-13T17:53:37.759Z"
   },
   {
    "duration": 25,
    "start_time": "2023-05-13T17:53:37.910Z"
   },
   {
    "duration": 16,
    "start_time": "2023-05-13T17:53:38.061Z"
   },
   {
    "duration": 19,
    "start_time": "2023-05-13T17:53:38.355Z"
   },
   {
    "duration": 78,
    "start_time": "2023-05-13T17:53:38.644Z"
   },
   {
    "duration": 17,
    "start_time": "2023-05-13T17:53:38.811Z"
   },
   {
    "duration": 23,
    "start_time": "2023-05-13T17:53:38.967Z"
   },
   {
    "duration": 2,
    "start_time": "2023-05-13T17:53:39.124Z"
   },
   {
    "duration": 170,
    "start_time": "2023-05-13T17:53:39.450Z"
   },
   {
    "duration": 120,
    "start_time": "2023-05-13T17:53:39.869Z"
   },
   {
    "duration": 265,
    "start_time": "2023-05-13T17:53:40.295Z"
   },
   {
    "duration": 316,
    "start_time": "2023-05-13T17:53:40.835Z"
   },
   {
    "duration": 230,
    "start_time": "2023-05-13T17:53:41.847Z"
   },
   {
    "duration": 30,
    "start_time": "2023-05-13T17:53:43.430Z"
   },
   {
    "duration": 23,
    "start_time": "2023-05-13T17:53:43.941Z"
   },
   {
    "duration": 33,
    "start_time": "2023-05-13T17:53:44.378Z"
   },
   {
    "duration": 222,
    "start_time": "2023-05-13T17:53:45.111Z"
   },
   {
    "duration": 296,
    "start_time": "2023-05-13T17:53:45.482Z"
   },
   {
    "duration": 239,
    "start_time": "2023-05-13T17:53:46.337Z"
   },
   {
    "duration": 238,
    "start_time": "2023-05-13T17:53:46.653Z"
   },
   {
    "duration": 19,
    "start_time": "2023-05-13T17:53:48.025Z"
   },
   {
    "duration": 58,
    "start_time": "2023-05-13T17:53:49.212Z"
   },
   {
    "duration": 1301,
    "start_time": "2023-05-14T17:16:10.317Z"
   },
   {
    "duration": 333,
    "start_time": "2023-05-14T17:16:11.620Z"
   },
   {
    "duration": 16,
    "start_time": "2023-05-14T17:16:11.954Z"
   },
   {
    "duration": 14,
    "start_time": "2023-05-14T17:16:12.179Z"
   },
   {
    "duration": 14,
    "start_time": "2023-05-14T17:16:12.727Z"
   },
   {
    "duration": 78,
    "start_time": "2023-05-14T17:16:12.910Z"
   },
   {
    "duration": 11,
    "start_time": "2023-05-14T17:16:13.091Z"
   },
   {
    "duration": 21,
    "start_time": "2023-05-14T17:16:13.280Z"
   },
   {
    "duration": 3,
    "start_time": "2023-05-14T17:16:13.508Z"
   },
   {
    "duration": 193,
    "start_time": "2023-05-14T17:16:59.788Z"
   },
   {
    "duration": 132,
    "start_time": "2023-05-14T17:19:46.932Z"
   },
   {
    "duration": 254,
    "start_time": "2023-05-14T17:21:20.905Z"
   },
   {
    "duration": 266,
    "start_time": "2023-05-14T17:21:47.204Z"
   },
   {
    "duration": 256,
    "start_time": "2023-05-14T17:25:22.018Z"
   },
   {
    "duration": 320,
    "start_time": "2023-05-14T17:26:57.694Z"
   },
   {
    "duration": 236,
    "start_time": "2023-05-14T17:27:22.523Z"
   },
   {
    "duration": 282,
    "start_time": "2023-05-14T17:27:26.721Z"
   },
   {
    "duration": 108,
    "start_time": "2023-05-14T17:32:23.386Z"
   },
   {
    "duration": 32,
    "start_time": "2023-05-14T17:32:28.784Z"
   },
   {
    "duration": 39,
    "start_time": "2023-05-14T17:32:29.748Z"
   },
   {
    "duration": 21,
    "start_time": "2023-05-14T17:32:30.284Z"
   },
   {
    "duration": 270,
    "start_time": "2023-05-14T17:32:31.532Z"
   },
   {
    "duration": 267,
    "start_time": "2023-05-14T17:32:36.713Z"
   },
   {
    "duration": 301,
    "start_time": "2023-05-14T17:33:03.211Z"
   },
   {
    "duration": 260,
    "start_time": "2023-05-14T17:34:16.386Z"
   },
   {
    "duration": 355,
    "start_time": "2023-05-14T17:34:25.827Z"
   },
   {
    "duration": 392,
    "start_time": "2023-05-14T17:39:32.750Z"
   },
   {
    "duration": 388,
    "start_time": "2023-05-14T17:40:15.035Z"
   },
   {
    "duration": 446,
    "start_time": "2023-05-14T17:41:21.170Z"
   },
   {
    "duration": 592,
    "start_time": "2023-05-14T17:42:00.336Z"
   },
   {
    "duration": 9,
    "start_time": "2023-05-14T17:54:22.698Z"
   },
   {
    "duration": 23,
    "start_time": "2023-05-14T17:54:31.859Z"
   },
   {
    "duration": 41,
    "start_time": "2023-05-14T17:54:33.134Z"
   },
   {
    "duration": 5,
    "start_time": "2023-05-14T17:54:33.839Z"
   },
   {
    "duration": 19,
    "start_time": "2023-05-14T17:54:40.338Z"
   },
   {
    "duration": 9,
    "start_time": "2023-05-14T17:58:48.343Z"
   },
   {
    "duration": 19,
    "start_time": "2023-05-14T17:59:01.677Z"
   },
   {
    "duration": 2055,
    "start_time": "2023-05-14T18:01:23.541Z"
   },
   {
    "duration": 21,
    "start_time": "2023-05-14T18:01:49.264Z"
   },
   {
    "duration": 50,
    "start_time": "2023-05-14T18:04:03.998Z"
   },
   {
    "duration": 4,
    "start_time": "2023-05-14T18:15:27.510Z"
   },
   {
    "duration": 8,
    "start_time": "2023-05-14T18:16:06.645Z"
   },
   {
    "duration": 9,
    "start_time": "2023-05-14T18:17:58.693Z"
   },
   {
    "duration": 11,
    "start_time": "2023-05-14T18:21:01.848Z"
   },
   {
    "duration": 8,
    "start_time": "2023-05-14T18:26:57.383Z"
   },
   {
    "duration": 12,
    "start_time": "2023-05-14T18:39:03.846Z"
   },
   {
    "duration": 12,
    "start_time": "2023-05-14T18:39:40.445Z"
   },
   {
    "duration": 9,
    "start_time": "2023-05-14T18:40:30.683Z"
   },
   {
    "duration": 7,
    "start_time": "2023-05-14T18:42:07.803Z"
   },
   {
    "duration": 7,
    "start_time": "2023-05-14T18:42:46.046Z"
   },
   {
    "duration": 11,
    "start_time": "2023-05-14T18:46:23.375Z"
   },
   {
    "duration": 5,
    "start_time": "2023-05-14T18:56:07.200Z"
   },
   {
    "duration": 4,
    "start_time": "2023-05-14T18:56:44.507Z"
   },
   {
    "duration": 5,
    "start_time": "2023-05-14T18:57:04.341Z"
   },
   {
    "duration": 5,
    "start_time": "2023-05-14T18:57:13.008Z"
   },
   {
    "duration": 5,
    "start_time": "2023-05-14T18:57:19.194Z"
   },
   {
    "duration": 4,
    "start_time": "2023-05-14T18:57:27.296Z"
   },
   {
    "duration": 6,
    "start_time": "2023-05-14T18:57:34.693Z"
   },
   {
    "duration": 5,
    "start_time": "2023-05-14T18:57:53.386Z"
   },
   {
    "duration": 5,
    "start_time": "2023-05-14T18:57:59.908Z"
   },
   {
    "duration": 5,
    "start_time": "2023-05-14T18:58:10.592Z"
   },
   {
    "duration": 6,
    "start_time": "2023-05-14T18:58:16.973Z"
   },
   {
    "duration": 7,
    "start_time": "2023-05-14T18:58:31.037Z"
   },
   {
    "duration": 6,
    "start_time": "2023-05-14T18:58:36.563Z"
   },
   {
    "duration": 6,
    "start_time": "2023-05-14T18:58:41.079Z"
   },
   {
    "duration": 5,
    "start_time": "2023-05-14T18:58:51.006Z"
   },
   {
    "duration": 7,
    "start_time": "2023-05-14T18:58:59.049Z"
   },
   {
    "duration": 5,
    "start_time": "2023-05-14T18:59:05.950Z"
   },
   {
    "duration": 4,
    "start_time": "2023-05-14T18:59:15.302Z"
   },
   {
    "duration": 5,
    "start_time": "2023-05-14T18:59:19.905Z"
   },
   {
    "duration": 6,
    "start_time": "2023-05-14T18:59:23.358Z"
   },
   {
    "duration": 5,
    "start_time": "2023-05-14T18:59:31.405Z"
   },
   {
    "duration": 5,
    "start_time": "2023-05-14T18:59:39.709Z"
   },
   {
    "duration": 6,
    "start_time": "2023-05-14T18:59:56.286Z"
   },
   {
    "duration": 5,
    "start_time": "2023-05-14T19:00:01.697Z"
   },
   {
    "duration": 14,
    "start_time": "2023-05-14T19:00:07.633Z"
   },
   {
    "duration": 5,
    "start_time": "2023-05-14T19:01:01.411Z"
   },
   {
    "duration": 8,
    "start_time": "2023-05-14T19:01:04.974Z"
   },
   {
    "duration": 10,
    "start_time": "2023-05-14T19:01:11.741Z"
   },
   {
    "duration": 15,
    "start_time": "2023-05-14T19:01:15.237Z"
   },
   {
    "duration": 6,
    "start_time": "2023-05-14T19:01:27.793Z"
   },
   {
    "duration": 4,
    "start_time": "2023-05-14T19:01:38.206Z"
   },
   {
    "duration": 245,
    "start_time": "2023-05-14T19:05:48.545Z"
   },
   {
    "duration": 379,
    "start_time": "2023-05-14T19:06:35.241Z"
   },
   {
    "duration": 327,
    "start_time": "2023-05-14T19:07:42.064Z"
   },
   {
    "duration": 612,
    "start_time": "2023-05-14T19:14:10.097Z"
   },
   {
    "duration": 616,
    "start_time": "2023-05-14T19:14:38.341Z"
   },
   {
    "duration": 9,
    "start_time": "2023-05-14T19:25:08.789Z"
   },
   {
    "duration": 9,
    "start_time": "2023-05-14T19:25:57.387Z"
   },
   {
    "duration": 4,
    "start_time": "2023-05-14T19:26:11.993Z"
   },
   {
    "duration": 110,
    "start_time": "2023-05-14T19:26:13.293Z"
   },
   {
    "duration": 24,
    "start_time": "2023-05-14T19:26:13.498Z"
   },
   {
    "duration": 21,
    "start_time": "2023-05-14T19:26:13.657Z"
   },
   {
    "duration": 29,
    "start_time": "2023-05-14T19:26:13.941Z"
   },
   {
    "duration": 153,
    "start_time": "2023-05-14T19:26:14.086Z"
   },
   {
    "duration": 14,
    "start_time": "2023-05-14T19:26:14.241Z"
   },
   {
    "duration": 21,
    "start_time": "2023-05-14T19:26:14.369Z"
   },
   {
    "duration": 3,
    "start_time": "2023-05-14T19:26:14.505Z"
   },
   {
    "duration": 338,
    "start_time": "2023-05-14T19:26:14.807Z"
   },
   {
    "duration": 239,
    "start_time": "2023-05-14T19:26:15.148Z"
   },
   {
    "duration": 395,
    "start_time": "2023-05-14T19:26:15.472Z"
   },
   {
    "duration": 406,
    "start_time": "2023-05-14T19:26:15.912Z"
   },
   {
    "duration": 448,
    "start_time": "2023-05-14T19:26:16.320Z"
   },
   {
    "duration": 55,
    "start_time": "2023-05-14T19:26:16.770Z"
   },
   {
    "duration": 28,
    "start_time": "2023-05-14T19:26:16.904Z"
   },
   {
    "duration": 24,
    "start_time": "2023-05-14T19:26:17.083Z"
   },
   {
    "duration": 327,
    "start_time": "2023-05-14T19:26:17.381Z"
   },
   {
    "duration": 398,
    "start_time": "2023-05-14T19:26:17.711Z"
   },
   {
    "duration": 522,
    "start_time": "2023-05-14T19:26:18.292Z"
   },
   {
    "duration": 405,
    "start_time": "2023-05-14T19:26:18.816Z"
   },
   {
    "duration": 473,
    "start_time": "2023-05-14T19:26:19.223Z"
   },
   {
    "duration": 839,
    "start_time": "2023-05-14T19:26:19.698Z"
   },
   {
    "duration": 26,
    "start_time": "2023-05-14T19:26:20.540Z"
   },
   {
    "duration": 64,
    "start_time": "2023-05-14T19:26:20.636Z"
   },
   {
    "duration": 65,
    "start_time": "2023-05-14T19:26:20.835Z"
   },
   {
    "duration": 20,
    "start_time": "2023-05-14T19:26:21.169Z"
   },
   {
    "duration": 16,
    "start_time": "2023-05-14T19:26:22.433Z"
   },
   {
    "duration": 18,
    "start_time": "2023-05-14T19:26:23.443Z"
   },
   {
    "duration": 798,
    "start_time": "2023-05-14T19:26:25.296Z"
   },
   {
    "duration": 6,
    "start_time": "2023-05-14T19:26:26.291Z"
   },
   {
    "duration": 247,
    "start_time": "2023-05-14T19:33:55.195Z"
   },
   {
    "duration": 325,
    "start_time": "2023-05-14T19:34:10.777Z"
   },
   {
    "duration": 74127,
    "start_time": "2023-05-14T19:34:20.074Z"
   },
   {
    "duration": 112061,
    "start_time": "2023-05-14T19:36:01.545Z"
   },
   {
    "duration": 1413,
    "start_time": "2023-05-15T17:39:13.321Z"
   },
   {
    "duration": 408,
    "start_time": "2023-05-15T17:39:16.658Z"
   },
   {
    "duration": 37,
    "start_time": "2023-05-15T17:39:21.477Z"
   },
   {
    "duration": 16,
    "start_time": "2023-05-15T17:39:23.942Z"
   },
   {
    "duration": 19,
    "start_time": "2023-05-15T17:39:37.728Z"
   },
   {
    "duration": 90,
    "start_time": "2023-05-15T17:39:42.855Z"
   },
   {
    "duration": 12,
    "start_time": "2023-05-15T17:39:45.311Z"
   },
   {
    "duration": 19,
    "start_time": "2023-05-15T17:39:48.304Z"
   },
   {
    "duration": 3,
    "start_time": "2023-05-15T17:39:50.058Z"
   },
   {
    "duration": 214,
    "start_time": "2023-05-15T17:39:54.274Z"
   },
   {
    "duration": 159,
    "start_time": "2023-05-15T17:40:00.313Z"
   },
   {
    "duration": 222,
    "start_time": "2023-05-15T17:40:29.325Z"
   },
   {
    "duration": 215,
    "start_time": "2023-05-15T17:40:41.149Z"
   },
   {
    "duration": 174,
    "start_time": "2023-05-15T17:41:13.900Z"
   },
   {
    "duration": 338,
    "start_time": "2023-05-15T17:41:19.170Z"
   },
   {
    "duration": 333,
    "start_time": "2023-05-15T17:41:47.000Z"
   },
   {
    "duration": 438,
    "start_time": "2023-05-15T17:41:51.255Z"
   },
   {
    "duration": 362,
    "start_time": "2023-05-15T17:42:23.710Z"
   },
   {
    "duration": 348,
    "start_time": "2023-05-15T17:42:55.268Z"
   },
   {
    "duration": 40,
    "start_time": "2023-05-15T17:43:00.043Z"
   },
   {
    "duration": 106,
    "start_time": "2023-05-15T17:43:38.862Z"
   },
   {
    "duration": 43,
    "start_time": "2023-05-15T17:43:54.131Z"
   },
   {
    "duration": 1299,
    "start_time": "2023-05-15T18:08:01.815Z"
   },
   {
    "duration": 109,
    "start_time": "2023-05-15T18:08:03.118Z"
   },
   {
    "duration": 24,
    "start_time": "2023-05-15T18:08:03.229Z"
   },
   {
    "duration": 27,
    "start_time": "2023-05-15T18:08:03.256Z"
   },
   {
    "duration": 59,
    "start_time": "2023-05-15T18:08:03.287Z"
   },
   {
    "duration": 106,
    "start_time": "2023-05-15T18:08:03.348Z"
   },
   {
    "duration": 33,
    "start_time": "2023-05-15T18:08:03.455Z"
   },
   {
    "duration": 30,
    "start_time": "2023-05-15T18:08:03.491Z"
   },
   {
    "duration": 3,
    "start_time": "2023-05-15T18:08:03.523Z"
   },
   {
    "duration": 276,
    "start_time": "2023-05-15T18:08:03.528Z"
   },
   {
    "duration": 229,
    "start_time": "2023-05-15T18:08:03.806Z"
   },
   {
    "duration": 333,
    "start_time": "2023-05-15T18:08:04.037Z"
   },
   {
    "duration": 364,
    "start_time": "2023-05-15T18:08:04.372Z"
   },
   {
    "duration": 369,
    "start_time": "2023-05-15T18:08:04.740Z"
   },
   {
    "duration": 44,
    "start_time": "2023-05-15T18:08:05.112Z"
   },
   {
    "duration": 138,
    "start_time": "2023-05-15T18:08:05.158Z"
   },
   {
    "duration": 25,
    "start_time": "2023-05-15T18:08:05.298Z"
   },
   {
    "duration": 422,
    "start_time": "2023-05-15T18:08:05.325Z"
   },
   {
    "duration": 489,
    "start_time": "2023-05-15T18:08:05.750Z"
   },
   {
    "duration": 502,
    "start_time": "2023-05-15T18:08:06.241Z"
   },
   {
    "duration": 379,
    "start_time": "2023-05-15T18:08:06.745Z"
   },
   {
    "duration": 380,
    "start_time": "2023-05-15T18:08:07.127Z"
   },
   {
    "duration": 777,
    "start_time": "2023-05-15T18:08:07.510Z"
   },
   {
    "duration": 22,
    "start_time": "2023-05-15T18:08:08.291Z"
   },
   {
    "duration": 90,
    "start_time": "2023-05-15T18:08:08.318Z"
   },
   {
    "duration": 36,
    "start_time": "2023-05-15T18:08:08.412Z"
   },
   {
    "duration": 12,
    "start_time": "2023-05-15T18:08:08.450Z"
   },
   {
    "duration": 22,
    "start_time": "2023-05-15T18:08:08.464Z"
   },
   {
    "duration": 19,
    "start_time": "2023-05-15T18:08:08.492Z"
   },
   {
    "duration": 732,
    "start_time": "2023-05-15T18:08:08.513Z"
   },
   {
    "duration": 7,
    "start_time": "2023-05-15T18:08:09.257Z"
   },
   {
    "duration": 105648,
    "start_time": "2023-05-15T18:08:09.267Z"
   },
   {
    "duration": 4,
    "start_time": "2023-05-15T18:09:54.919Z"
   },
   {
    "duration": 94,
    "start_time": "2023-05-15T18:09:54.925Z"
   },
   {
    "duration": 21,
    "start_time": "2023-05-15T18:09:55.021Z"
   },
   {
    "duration": 18,
    "start_time": "2023-05-15T18:09:55.044Z"
   },
   {
    "duration": 37,
    "start_time": "2023-05-15T18:09:55.064Z"
   },
   {
    "duration": 102,
    "start_time": "2023-05-15T18:09:55.103Z"
   },
   {
    "duration": 13,
    "start_time": "2023-05-15T18:09:55.207Z"
   },
   {
    "duration": 24,
    "start_time": "2023-05-15T18:09:55.223Z"
   },
   {
    "duration": 3,
    "start_time": "2023-05-15T18:09:55.249Z"
   },
   {
    "duration": 245,
    "start_time": "2023-05-15T18:09:55.254Z"
   },
   {
    "duration": 208,
    "start_time": "2023-05-15T18:09:55.502Z"
   },
   {
    "duration": 327,
    "start_time": "2023-05-15T18:09:55.712Z"
   },
   {
    "duration": 370,
    "start_time": "2023-05-15T18:09:56.041Z"
   },
   {
    "duration": 351,
    "start_time": "2023-05-15T18:09:56.413Z"
   },
   {
    "duration": 56,
    "start_time": "2023-05-15T18:09:56.766Z"
   },
   {
    "duration": 26,
    "start_time": "2023-05-15T18:09:56.824Z"
   },
   {
    "duration": 50,
    "start_time": "2023-05-15T18:09:56.852Z"
   },
   {
    "duration": 532,
    "start_time": "2023-05-15T18:09:56.904Z"
   },
   {
    "duration": 481,
    "start_time": "2023-05-15T18:09:57.439Z"
   },
   {
    "duration": 498,
    "start_time": "2023-05-15T18:09:57.922Z"
   },
   {
    "duration": 504,
    "start_time": "2023-05-15T18:10:35.806Z"
   },
   {
    "duration": 37,
    "start_time": "2023-05-15T18:10:46.758Z"
   },
   {
    "duration": 49,
    "start_time": "2023-05-15T18:10:54.365Z"
   },
   {
    "duration": 28,
    "start_time": "2023-05-15T18:10:55.155Z"
   },
   {
    "duration": 15,
    "start_time": "2023-05-15T18:16:42.869Z"
   },
   {
    "duration": 18,
    "start_time": "2023-05-15T18:16:45.793Z"
   },
   {
    "duration": 8,
    "start_time": "2023-05-15T18:19:36.094Z"
   },
   {
    "duration": 12,
    "start_time": "2023-05-15T18:19:37.419Z"
   },
   {
    "duration": 10,
    "start_time": "2023-05-15T18:20:21.615Z"
   },
   {
    "duration": 10,
    "start_time": "2023-05-15T18:23:59.359Z"
   },
   {
    "duration": 6,
    "start_time": "2023-05-15T18:50:36.724Z"
   },
   {
    "duration": 1280,
    "start_time": "2023-05-15T18:51:50.858Z"
   },
   {
    "duration": 112,
    "start_time": "2023-05-15T18:51:52.150Z"
   },
   {
    "duration": 57,
    "start_time": "2023-05-15T18:51:52.265Z"
   },
   {
    "duration": 16,
    "start_time": "2023-05-15T18:51:52.325Z"
   },
   {
    "duration": 19,
    "start_time": "2023-05-15T18:51:52.344Z"
   },
   {
    "duration": 144,
    "start_time": "2023-05-15T18:51:52.365Z"
   },
   {
    "duration": 17,
    "start_time": "2023-05-15T18:51:52.511Z"
   },
   {
    "duration": 15,
    "start_time": "2023-05-15T18:51:52.530Z"
   },
   {
    "duration": 3,
    "start_time": "2023-05-15T18:51:52.547Z"
   },
   {
    "duration": 275,
    "start_time": "2023-05-15T18:51:52.551Z"
   },
   {
    "duration": 175,
    "start_time": "2023-05-15T18:51:52.829Z"
   },
   {
    "duration": 349,
    "start_time": "2023-05-15T18:51:53.007Z"
   },
   {
    "duration": 386,
    "start_time": "2023-05-15T18:51:53.358Z"
   },
   {
    "duration": 393,
    "start_time": "2023-05-15T18:51:53.746Z"
   },
   {
    "duration": 60,
    "start_time": "2023-05-15T18:51:54.141Z"
   },
   {
    "duration": 132,
    "start_time": "2023-05-15T18:51:54.203Z"
   },
   {
    "duration": 30,
    "start_time": "2023-05-15T18:51:54.337Z"
   },
   {
    "duration": 394,
    "start_time": "2023-05-15T18:51:54.369Z"
   },
   {
    "duration": 393,
    "start_time": "2023-05-15T18:51:54.764Z"
   },
   {
    "duration": 608,
    "start_time": "2023-05-15T18:51:55.160Z"
   },
   {
    "duration": 404,
    "start_time": "2023-05-15T18:51:55.770Z"
   },
   {
    "duration": 429,
    "start_time": "2023-05-15T18:51:56.178Z"
   },
   {
    "duration": 675,
    "start_time": "2023-05-15T18:51:56.609Z"
   },
   {
    "duration": 37,
    "start_time": "2023-05-15T18:51:57.291Z"
   },
   {
    "duration": 79,
    "start_time": "2023-05-15T18:51:57.331Z"
   },
   {
    "duration": 42,
    "start_time": "2023-05-15T18:51:57.413Z"
   },
   {
    "duration": 13,
    "start_time": "2023-05-15T18:51:57.457Z"
   },
   {
    "duration": 36,
    "start_time": "2023-05-15T18:51:57.473Z"
   },
   {
    "duration": 16,
    "start_time": "2023-05-15T18:51:57.511Z"
   },
   {
    "duration": 733,
    "start_time": "2023-05-15T18:51:57.529Z"
   },
   {
    "duration": 5,
    "start_time": "2023-05-15T18:51:58.263Z"
   },
   {
    "duration": 4,
    "start_time": "2023-05-15T18:53:49.596Z"
   },
   {
    "duration": 104,
    "start_time": "2023-05-15T18:53:49.605Z"
   },
   {
    "duration": 20,
    "start_time": "2023-05-15T18:53:49.714Z"
   },
   {
    "duration": 17,
    "start_time": "2023-05-15T18:53:49.736Z"
   },
   {
    "duration": 56,
    "start_time": "2023-05-15T18:53:49.755Z"
   },
   {
    "duration": 87,
    "start_time": "2023-05-15T18:53:49.817Z"
   },
   {
    "duration": 15,
    "start_time": "2023-05-15T18:53:49.906Z"
   },
   {
    "duration": 24,
    "start_time": "2023-05-15T18:53:49.923Z"
   },
   {
    "duration": 3,
    "start_time": "2023-05-15T18:53:49.948Z"
   },
   {
    "duration": 261,
    "start_time": "2023-05-15T18:53:49.954Z"
   },
   {
    "duration": 194,
    "start_time": "2023-05-15T18:53:50.218Z"
   },
   {
    "duration": 328,
    "start_time": "2023-05-15T18:53:50.415Z"
   },
   {
    "duration": 342,
    "start_time": "2023-05-15T18:53:50.746Z"
   },
   {
    "duration": 338,
    "start_time": "2023-05-15T18:53:51.089Z"
   },
   {
    "duration": 30,
    "start_time": "2023-05-15T18:53:51.429Z"
   },
   {
    "duration": 50,
    "start_time": "2023-05-15T18:53:51.461Z"
   },
   {
    "duration": 29,
    "start_time": "2023-05-15T18:53:51.514Z"
   },
   {
    "duration": 374,
    "start_time": "2023-05-15T18:53:51.544Z"
   },
   {
    "duration": 532,
    "start_time": "2023-05-15T18:53:51.919Z"
   },
   {
    "duration": 558,
    "start_time": "2023-05-15T18:53:52.453Z"
   },
   {
    "duration": 334,
    "start_time": "2023-05-15T18:53:53.013Z"
   },
   {
    "duration": 371,
    "start_time": "2023-05-15T18:53:53.349Z"
   },
   {
    "duration": 556,
    "start_time": "2023-05-15T18:53:53.722Z"
   },
   {
    "duration": 35,
    "start_time": "2023-05-15T18:53:54.282Z"
   },
   {
    "duration": 43,
    "start_time": "2023-05-15T18:53:54.319Z"
   },
   {
    "duration": 44,
    "start_time": "2023-05-15T18:53:54.364Z"
   },
   {
    "duration": 12,
    "start_time": "2023-05-15T18:53:54.410Z"
   },
   {
    "duration": 8,
    "start_time": "2023-05-15T18:53:54.424Z"
   },
   {
    "duration": 10,
    "start_time": "2023-05-15T18:53:54.433Z"
   },
   {
    "duration": 687,
    "start_time": "2023-05-15T18:53:54.445Z"
   },
   {
    "duration": 6,
    "start_time": "2023-05-15T18:53:55.134Z"
   },
   {
    "duration": 116190,
    "start_time": "2023-05-15T18:53:55.142Z"
   },
   {
    "duration": 1217,
    "start_time": "2023-05-15T20:20:44.610Z"
   },
   {
    "duration": 100,
    "start_time": "2023-05-15T20:20:45.829Z"
   },
   {
    "duration": 23,
    "start_time": "2023-05-15T20:20:45.931Z"
   },
   {
    "duration": 51,
    "start_time": "2023-05-15T20:20:45.956Z"
   },
   {
    "duration": 17,
    "start_time": "2023-05-15T20:20:46.010Z"
   },
   {
    "duration": 138,
    "start_time": "2023-05-15T20:20:46.029Z"
   },
   {
    "duration": 20,
    "start_time": "2023-05-15T20:20:46.171Z"
   },
   {
    "duration": 55,
    "start_time": "2023-05-15T20:20:46.192Z"
   },
   {
    "duration": 3,
    "start_time": "2023-05-15T20:20:46.249Z"
   },
   {
    "duration": 273,
    "start_time": "2023-05-15T20:20:46.254Z"
   },
   {
    "duration": 152,
    "start_time": "2023-05-15T20:20:46.529Z"
   },
   {
    "duration": 277,
    "start_time": "2023-05-15T20:20:46.684Z"
   },
   {
    "duration": 312,
    "start_time": "2023-05-15T20:20:46.963Z"
   },
   {
    "duration": 277,
    "start_time": "2023-05-15T20:20:47.278Z"
   },
   {
    "duration": 42,
    "start_time": "2023-05-15T20:20:47.557Z"
   },
   {
    "duration": 77,
    "start_time": "2023-05-15T20:20:47.601Z"
   },
   {
    "duration": 30,
    "start_time": "2023-05-15T20:20:47.679Z"
   },
   {
    "duration": 295,
    "start_time": "2023-05-15T20:20:47.710Z"
   },
   {
    "duration": 318,
    "start_time": "2023-05-15T20:20:48.007Z"
   },
   {
    "duration": 446,
    "start_time": "2023-05-15T20:20:48.328Z"
   },
   {
    "duration": 291,
    "start_time": "2023-05-15T20:20:48.775Z"
   },
   {
    "duration": 291,
    "start_time": "2023-05-15T20:20:49.068Z"
   },
   {
    "duration": 566,
    "start_time": "2023-05-15T20:20:49.361Z"
   },
   {
    "duration": 23,
    "start_time": "2023-05-15T20:20:49.928Z"
   },
   {
    "duration": 63,
    "start_time": "2023-05-15T20:20:49.957Z"
   },
   {
    "duration": 28,
    "start_time": "2023-05-15T20:20:50.022Z"
   },
   {
    "duration": 10,
    "start_time": "2023-05-15T20:20:50.052Z"
   },
   {
    "duration": 38,
    "start_time": "2023-05-15T20:20:50.064Z"
   },
   {
    "duration": 25,
    "start_time": "2023-05-15T20:20:50.104Z"
   },
   {
    "duration": 642,
    "start_time": "2023-05-15T20:20:50.131Z"
   },
   {
    "duration": 26,
    "start_time": "2023-05-15T20:20:50.776Z"
   },
   {
    "duration": 87860,
    "start_time": "2023-05-15T20:20:50.804Z"
   },
   {
    "duration": 5,
    "start_time": "2023-05-15T20:40:23.044Z"
   },
   {
    "duration": 7,
    "start_time": "2023-05-15T20:40:35.312Z"
   },
   {
    "duration": 133,
    "start_time": "2023-05-15T20:58:26.006Z"
   },
   {
    "duration": 11,
    "start_time": "2023-05-15T20:59:06.885Z"
   },
   {
    "duration": 6,
    "start_time": "2023-05-15T20:59:46.485Z"
   },
   {
    "duration": 11,
    "start_time": "2023-05-15T21:02:47.297Z"
   },
   {
    "duration": 14,
    "start_time": "2023-05-15T21:04:33.307Z"
   },
   {
    "duration": 7,
    "start_time": "2023-05-15T21:04:39.405Z"
   },
   {
    "duration": 17,
    "start_time": "2023-05-15T21:06:42.917Z"
   },
   {
    "duration": 9,
    "start_time": "2023-05-15T21:07:27.525Z"
   },
   {
    "duration": 5,
    "start_time": "2023-05-15T21:08:08.613Z"
   },
   {
    "duration": 6,
    "start_time": "2023-05-15T21:08:20.533Z"
   },
   {
    "duration": 1221,
    "start_time": "2023-05-15T21:12:52.548Z"
   },
   {
    "duration": 12,
    "start_time": "2023-05-15T21:13:13.045Z"
   },
   {
    "duration": 1438,
    "start_time": "2023-05-16T16:37:12.273Z"
   },
   {
    "duration": 248,
    "start_time": "2023-05-16T16:37:24.813Z"
   },
   {
    "duration": 23,
    "start_time": "2023-05-16T16:37:36.154Z"
   },
   {
    "duration": 18,
    "start_time": "2023-05-16T16:37:43.521Z"
   },
   {
    "duration": 106,
    "start_time": "2023-05-16T16:44:45.609Z"
   },
   {
    "duration": 16,
    "start_time": "2023-05-16T16:45:03.911Z"
   },
   {
    "duration": 2909,
    "start_time": "2023-05-16T16:45:06.215Z"
   },
   {
    "duration": 3,
    "start_time": "2023-05-16T16:45:24.251Z"
   },
   {
    "duration": 81,
    "start_time": "2023-05-16T16:45:25.914Z"
   },
   {
    "duration": 25,
    "start_time": "2023-05-16T16:45:27.761Z"
   },
   {
    "duration": 16,
    "start_time": "2023-05-16T16:45:29.243Z"
   },
   {
    "duration": 26,
    "start_time": "2023-05-16T16:45:31.197Z"
   },
   {
    "duration": 1707,
    "start_time": "2023-05-16T16:45:32.557Z"
   },
   {
    "duration": 2151,
    "start_time": "2023-05-16T16:46:30.196Z"
   },
   {
    "duration": 1415,
    "start_time": "2023-05-16T16:47:26.326Z"
   },
   {
    "duration": 84,
    "start_time": "2023-05-16T16:47:57.257Z"
   },
   {
    "duration": 159,
    "start_time": "2023-05-16T16:48:05.600Z"
   },
   {
    "duration": 163,
    "start_time": "2023-05-16T16:48:10.560Z"
   },
   {
    "duration": 186,
    "start_time": "2023-05-16T16:48:27.858Z"
   },
   {
    "duration": 3,
    "start_time": "2023-05-16T16:51:51.617Z"
   },
   {
    "duration": 105,
    "start_time": "2023-05-16T16:51:52.225Z"
   },
   {
    "duration": 21,
    "start_time": "2023-05-16T16:51:52.707Z"
   },
   {
    "duration": 19,
    "start_time": "2023-05-16T16:51:53.010Z"
   },
   {
    "duration": 15,
    "start_time": "2023-05-16T16:51:53.460Z"
   },
   {
    "duration": 149,
    "start_time": "2023-05-16T16:51:54.103Z"
   },
   {
    "duration": 12,
    "start_time": "2023-05-16T16:51:55.013Z"
   },
   {
    "duration": 21,
    "start_time": "2023-05-16T16:51:56.302Z"
   },
   {
    "duration": 2,
    "start_time": "2023-05-16T16:51:57.219Z"
   },
   {
    "duration": 217,
    "start_time": "2023-05-16T16:51:59.414Z"
   },
   {
    "duration": 15,
    "start_time": "2023-05-16T16:53:01.710Z"
   },
   {
    "duration": 11,
    "start_time": "2023-05-16T16:53:23.267Z"
   },
   {
    "duration": 171,
    "start_time": "2023-05-16T16:53:31.886Z"
   },
   {
    "duration": 177,
    "start_time": "2023-05-16T16:53:51.299Z"
   },
   {
    "duration": 147,
    "start_time": "2023-05-16T16:53:54.362Z"
   },
   {
    "duration": 267,
    "start_time": "2023-05-16T16:54:02.803Z"
   },
   {
    "duration": 284,
    "start_time": "2023-05-16T16:54:03.404Z"
   },
   {
    "duration": 320,
    "start_time": "2023-05-16T16:54:04.063Z"
   },
   {
    "duration": 30,
    "start_time": "2023-05-16T16:54:05.010Z"
   },
   {
    "duration": 24,
    "start_time": "2023-05-16T16:54:05.666Z"
   },
   {
    "duration": 20,
    "start_time": "2023-05-16T16:54:06.111Z"
   },
   {
    "duration": 340,
    "start_time": "2023-05-16T16:54:06.610Z"
   },
   {
    "duration": 316,
    "start_time": "2023-05-16T16:54:06.951Z"
   },
   {
    "duration": 411,
    "start_time": "2023-05-16T16:54:07.413Z"
   },
   {
    "duration": 287,
    "start_time": "2023-05-16T16:54:07.825Z"
   },
   {
    "duration": 301,
    "start_time": "2023-05-16T16:54:08.113Z"
   },
   {
    "duration": 526,
    "start_time": "2023-05-16T16:54:08.416Z"
   },
   {
    "duration": 18,
    "start_time": "2023-05-16T16:54:09.728Z"
   },
   {
    "duration": 44,
    "start_time": "2023-05-16T16:54:10.067Z"
   },
   {
    "duration": 25,
    "start_time": "2023-05-16T16:54:10.387Z"
   },
   {
    "duration": 8,
    "start_time": "2023-05-16T16:54:11.530Z"
   },
   {
    "duration": 7,
    "start_time": "2023-05-16T16:54:12.915Z"
   },
   {
    "duration": 10,
    "start_time": "2023-05-16T16:54:13.634Z"
   },
   {
    "duration": 631,
    "start_time": "2023-05-16T16:54:15.259Z"
   },
   {
    "duration": 5,
    "start_time": "2023-05-16T16:54:17.127Z"
   },
   {
    "duration": 96527,
    "start_time": "2023-05-16T16:54:19.166Z"
   },
   {
    "duration": 173,
    "start_time": "2023-05-16T16:55:57.195Z"
   },
   {
    "duration": 181,
    "start_time": "2023-05-16T16:57:33.302Z"
   },
   {
    "duration": 148,
    "start_time": "2023-05-16T16:58:03.160Z"
   },
   {
    "duration": 157,
    "start_time": "2023-05-16T16:59:21.591Z"
   },
   {
    "duration": 319,
    "start_time": "2023-05-16T17:01:21.514Z"
   },
   {
    "duration": 314,
    "start_time": "2023-05-16T17:03:21.067Z"
   },
   {
    "duration": 285,
    "start_time": "2023-05-16T17:04:22.161Z"
   },
   {
    "duration": 326,
    "start_time": "2023-05-16T17:05:26.062Z"
   },
   {
    "duration": 531,
    "start_time": "2023-05-16T17:06:13.663Z"
   },
   {
    "duration": 298,
    "start_time": "2023-05-16T17:06:26.310Z"
   },
   {
    "duration": 375,
    "start_time": "2023-05-16T17:07:26.886Z"
   },
   {
    "duration": 484,
    "start_time": "2023-05-16T17:09:39.301Z"
   },
   {
    "duration": 512,
    "start_time": "2023-05-16T17:12:01.361Z"
   },
   {
    "duration": 633,
    "start_time": "2023-05-16T17:13:30.587Z"
   },
   {
    "duration": 487,
    "start_time": "2023-05-16T17:13:58.421Z"
   },
   {
    "duration": 522,
    "start_time": "2023-05-16T17:14:33.657Z"
   },
   {
    "duration": 499,
    "start_time": "2023-05-16T17:14:59.998Z"
   },
   {
    "duration": 881,
    "start_time": "2023-05-16T17:15:21.794Z"
   },
   {
    "duration": 470,
    "start_time": "2023-05-16T17:15:54.368Z"
   },
   {
    "duration": 482,
    "start_time": "2023-05-16T17:16:29.736Z"
   },
   {
    "duration": 645,
    "start_time": "2023-05-16T17:17:08.810Z"
   },
   {
    "duration": 564,
    "start_time": "2023-05-16T17:17:27.222Z"
   },
   {
    "duration": 4,
    "start_time": "2023-05-16T17:18:40.223Z"
   },
   {
    "duration": 89,
    "start_time": "2023-05-16T17:18:41.593Z"
   },
   {
    "duration": 21,
    "start_time": "2023-05-16T17:18:42.670Z"
   },
   {
    "duration": 21,
    "start_time": "2023-05-16T17:18:43.613Z"
   },
   {
    "duration": 18,
    "start_time": "2023-05-16T17:18:45.070Z"
   },
   {
    "duration": 185,
    "start_time": "2023-05-16T17:18:46.062Z"
   },
   {
    "duration": 15,
    "start_time": "2023-05-16T17:18:47.100Z"
   },
   {
    "duration": 25,
    "start_time": "2023-05-16T17:18:48.637Z"
   },
   {
    "duration": 2,
    "start_time": "2023-05-16T17:18:49.717Z"
   },
   {
    "duration": 213,
    "start_time": "2023-05-16T17:18:51.324Z"
   },
   {
    "duration": 162,
    "start_time": "2023-05-16T17:18:52.527Z"
   },
   {
    "duration": 292,
    "start_time": "2023-05-16T17:18:53.690Z"
   },
   {
    "duration": 349,
    "start_time": "2023-05-16T17:18:54.517Z"
   },
   {
    "duration": 344,
    "start_time": "2023-05-16T17:18:55.337Z"
   },
   {
    "duration": 36,
    "start_time": "2023-05-16T17:18:57.299Z"
   },
   {
    "duration": 31,
    "start_time": "2023-05-16T17:18:58.408Z"
   },
   {
    "duration": 30,
    "start_time": "2023-05-16T17:18:59.333Z"
   },
   {
    "duration": 320,
    "start_time": "2023-05-16T17:19:00.914Z"
   },
   {
    "duration": 547,
    "start_time": "2023-05-16T17:19:01.394Z"
   },
   {
    "duration": 521,
    "start_time": "2023-05-16T17:19:02.595Z"
   },
   {
    "duration": 433,
    "start_time": "2023-05-16T17:20:11.966Z"
   },
   {
    "duration": 449,
    "start_time": "2023-05-16T17:20:19.930Z"
   },
   {
    "duration": 660,
    "start_time": "2023-05-16T17:20:21.860Z"
   },
   {
    "duration": 509,
    "start_time": "2023-05-16T17:20:31.315Z"
   },
   {
    "duration": 472,
    "start_time": "2023-05-16T17:20:44.987Z"
   },
   {
    "duration": 435,
    "start_time": "2023-05-16T17:21:13.922Z"
   },
   {
    "duration": 615,
    "start_time": "2023-05-16T17:21:27.818Z"
   },
   {
    "duration": 423,
    "start_time": "2023-05-16T17:21:34.662Z"
   },
   {
    "duration": 424,
    "start_time": "2023-05-16T17:21:42.762Z"
   },
   {
    "duration": 360,
    "start_time": "2023-05-16T17:22:15.415Z"
   },
   {
    "duration": 12,
    "start_time": "2023-05-16T17:22:50.851Z"
   },
   {
    "duration": 697,
    "start_time": "2023-05-16T17:23:16.348Z"
   },
   {
    "duration": 4,
    "start_time": "2023-05-16T17:23:43.017Z"
   },
   {
    "duration": 87,
    "start_time": "2023-05-16T17:23:44.410Z"
   },
   {
    "duration": 26,
    "start_time": "2023-05-16T17:23:44.912Z"
   },
   {
    "duration": 17,
    "start_time": "2023-05-16T17:23:45.215Z"
   },
   {
    "duration": 14,
    "start_time": "2023-05-16T17:23:45.653Z"
   },
   {
    "duration": 197,
    "start_time": "2023-05-16T17:23:45.949Z"
   },
   {
    "duration": 15,
    "start_time": "2023-05-16T17:23:46.316Z"
   },
   {
    "duration": 30,
    "start_time": "2023-05-16T17:23:46.802Z"
   },
   {
    "duration": 2,
    "start_time": "2023-05-16T17:23:47.161Z"
   },
   {
    "duration": 188,
    "start_time": "2023-05-16T17:23:47.861Z"
   },
   {
    "duration": 149,
    "start_time": "2023-05-16T17:23:49.424Z"
   },
   {
    "duration": 327,
    "start_time": "2023-05-16T17:23:50.914Z"
   },
   {
    "duration": 334,
    "start_time": "2023-05-16T17:23:52.548Z"
   },
   {
    "duration": 305,
    "start_time": "2023-05-16T17:23:54.883Z"
   },
   {
    "duration": 33,
    "start_time": "2023-05-16T17:23:57.614Z"
   },
   {
    "duration": 34,
    "start_time": "2023-05-16T17:23:58.963Z"
   },
   {
    "duration": 22,
    "start_time": "2023-05-16T17:23:59.718Z"
   },
   {
    "duration": 396,
    "start_time": "2023-05-16T17:24:00.594Z"
   },
   {
    "duration": 444,
    "start_time": "2023-05-16T17:24:01.829Z"
   },
   {
    "duration": 494,
    "start_time": "2023-05-16T17:24:04.338Z"
   },
   {
    "duration": 713,
    "start_time": "2023-05-16T17:24:28.918Z"
   },
   {
    "duration": 11,
    "start_time": "2023-05-16T17:32:24.992Z"
   },
   {
    "duration": 2109,
    "start_time": "2023-05-16T17:36:19.161Z"
   },
   {
    "duration": 6,
    "start_time": "2023-05-16T17:36:28.605Z"
   },
   {
    "duration": 6,
    "start_time": "2023-05-16T17:36:30.418Z"
   },
   {
    "duration": 8,
    "start_time": "2023-05-16T17:37:15.357Z"
   },
   {
    "duration": 12,
    "start_time": "2023-05-16T17:37:25.034Z"
   },
   {
    "duration": 6,
    "start_time": "2023-05-16T17:39:51.119Z"
   },
   {
    "duration": 22,
    "start_time": "2023-05-16T17:39:58.458Z"
   },
   {
    "duration": 13,
    "start_time": "2023-05-16T17:40:04.247Z"
   },
   {
    "duration": 4,
    "start_time": "2023-05-16T17:44:23.543Z"
   },
   {
    "duration": 95633,
    "start_time": "2023-05-16T17:44:24.156Z"
   },
   {
    "duration": 4,
    "start_time": "2023-05-16T18:04:16.686Z"
   },
   {
    "duration": 4,
    "start_time": "2023-05-16T18:04:19.452Z"
   },
   {
    "duration": 105,
    "start_time": "2023-05-16T18:05:51.090Z"
   },
   {
    "duration": 96,
    "start_time": "2023-05-16T18:10:57.282Z"
   },
   {
    "duration": 90,
    "start_time": "2023-05-16T18:11:08.939Z"
   },
   {
    "duration": 87,
    "start_time": "2023-05-16T18:11:20.347Z"
   },
   {
    "duration": 143,
    "start_time": "2023-05-16T18:12:06.111Z"
   },
   {
    "duration": 4,
    "start_time": "2023-05-16T18:14:24.214Z"
   },
   {
    "duration": 89,
    "start_time": "2023-05-16T18:14:25.731Z"
   },
   {
    "duration": 40,
    "start_time": "2023-05-16T18:14:28.188Z"
   },
   {
    "duration": 113,
    "start_time": "2023-05-16T18:27:08.322Z"
   },
   {
    "duration": 12,
    "start_time": "2023-05-16T18:27:57.231Z"
   },
   {
    "duration": 3,
    "start_time": "2023-05-16T18:28:02.549Z"
   },
   {
    "duration": 70,
    "start_time": "2023-05-16T18:28:03.683Z"
   },
   {
    "duration": 19,
    "start_time": "2023-05-16T18:28:04.115Z"
   },
   {
    "duration": 19,
    "start_time": "2023-05-16T18:28:05.847Z"
   },
   {
    "duration": 17,
    "start_time": "2023-05-16T18:28:07.627Z"
   },
   {
    "duration": 14,
    "start_time": "2023-05-16T18:28:09.433Z"
   },
   {
    "duration": 142,
    "start_time": "2023-05-16T18:28:10.151Z"
   },
   {
    "duration": 75,
    "start_time": "2023-05-16T18:28:39.801Z"
   },
   {
    "duration": 82,
    "start_time": "2023-05-16T18:28:46.195Z"
   },
   {
    "duration": 90,
    "start_time": "2023-05-16T18:29:03.746Z"
   },
   {
    "duration": 147,
    "start_time": "2023-05-16T18:30:07.746Z"
   },
   {
    "duration": 72,
    "start_time": "2023-05-16T18:30:13.120Z"
   },
   {
    "duration": 109,
    "start_time": "2023-05-16T18:30:57.829Z"
   },
   {
    "duration": 93,
    "start_time": "2023-05-16T18:31:33.998Z"
   },
   {
    "duration": 91,
    "start_time": "2023-05-16T18:32:00.848Z"
   },
   {
    "duration": 17,
    "start_time": "2023-05-16T18:36:30.615Z"
   },
   {
    "duration": 22,
    "start_time": "2023-05-16T18:37:59.925Z"
   },
   {
    "duration": 15,
    "start_time": "2023-05-16T18:38:25.752Z"
   },
   {
    "duration": 215,
    "start_time": "2023-05-16T18:50:14.299Z"
   },
   {
    "duration": 98,
    "start_time": "2023-05-16T18:57:58.314Z"
   },
   {
    "duration": 150,
    "start_time": "2023-05-16T18:59:05.522Z"
   },
   {
    "duration": 152,
    "start_time": "2023-05-16T18:59:20.014Z"
   },
   {
    "duration": 293,
    "start_time": "2023-05-16T18:59:38.689Z"
   },
   {
    "duration": 321,
    "start_time": "2023-05-16T18:59:48.022Z"
   },
   {
    "duration": 333,
    "start_time": "2023-05-16T19:00:02.110Z"
   },
   {
    "duration": 721,
    "start_time": "2023-05-16T19:00:29.514Z"
   },
   {
    "duration": 411,
    "start_time": "2023-05-16T19:01:05.154Z"
   },
   {
    "duration": 406,
    "start_time": "2023-05-16T19:01:27.318Z"
   },
   {
    "duration": 373,
    "start_time": "2023-05-16T19:02:04.990Z"
   },
   {
    "duration": 325,
    "start_time": "2023-05-16T19:05:24.119Z"
   },
   {
    "duration": 442,
    "start_time": "2023-05-16T19:06:29.116Z"
   },
   {
    "duration": 395,
    "start_time": "2023-05-16T19:06:35.949Z"
   },
   {
    "duration": 398,
    "start_time": "2023-05-16T19:06:54.085Z"
   },
   {
    "duration": 429,
    "start_time": "2023-05-16T19:06:59.822Z"
   },
   {
    "duration": 524,
    "start_time": "2023-05-16T19:07:17.185Z"
   },
   {
    "duration": 104,
    "start_time": "2023-05-16T19:11:19.316Z"
   },
   {
    "duration": 313,
    "start_time": "2023-05-16T19:11:25.917Z"
   },
   {
    "duration": 607,
    "start_time": "2023-05-16T19:11:35.031Z"
   },
   {
    "duration": 312,
    "start_time": "2023-05-16T19:11:52.889Z"
   },
   {
    "duration": 550,
    "start_time": "2023-05-16T19:12:06.635Z"
   },
   {
    "duration": 1164,
    "start_time": "2023-05-16T19:14:51.706Z"
   },
   {
    "duration": 75,
    "start_time": "2023-05-16T19:14:52.872Z"
   },
   {
    "duration": 23,
    "start_time": "2023-05-16T19:14:52.949Z"
   },
   {
    "duration": 20,
    "start_time": "2023-05-16T19:14:52.973Z"
   },
   {
    "duration": 28,
    "start_time": "2023-05-16T19:14:52.994Z"
   },
   {
    "duration": 14,
    "start_time": "2023-05-16T19:14:53.023Z"
   },
   {
    "duration": 82,
    "start_time": "2023-05-16T19:14:53.038Z"
   },
   {
    "duration": 96,
    "start_time": "2023-05-16T19:14:53.122Z"
   },
   {
    "duration": 17,
    "start_time": "2023-05-16T19:14:53.221Z"
   },
   {
    "duration": 22,
    "start_time": "2023-05-16T19:14:53.240Z"
   },
   {
    "duration": 212,
    "start_time": "2023-05-16T19:14:53.263Z"
   },
   {
    "duration": 173,
    "start_time": "2023-05-16T19:14:53.477Z"
   },
   {
    "duration": 320,
    "start_time": "2023-05-16T19:14:53.652Z"
   },
   {
    "duration": 327,
    "start_time": "2023-05-16T19:14:53.974Z"
   },
   {
    "duration": 321,
    "start_time": "2023-05-16T19:14:54.303Z"
   },
   {
    "duration": 32,
    "start_time": "2023-05-16T19:14:54.626Z"
   },
   {
    "duration": 46,
    "start_time": "2023-05-16T19:14:54.660Z"
   },
   {
    "duration": 24,
    "start_time": "2023-05-16T19:14:54.708Z"
   },
   {
    "duration": 374,
    "start_time": "2023-05-16T19:14:54.733Z"
   },
   {
    "duration": 356,
    "start_time": "2023-05-16T19:14:55.113Z"
   },
   {
    "duration": 468,
    "start_time": "2023-05-16T19:14:55.471Z"
   },
   {
    "duration": 331,
    "start_time": "2023-05-16T19:14:55.941Z"
   },
   {
    "duration": 350,
    "start_time": "2023-05-16T19:14:56.273Z"
   },
   {
    "duration": 646,
    "start_time": "2023-05-16T19:14:56.625Z"
   },
   {
    "duration": 33,
    "start_time": "2023-05-16T19:14:57.273Z"
   },
   {
    "duration": 40,
    "start_time": "2023-05-16T19:14:57.309Z"
   },
   {
    "duration": 13,
    "start_time": "2023-05-16T19:14:57.351Z"
   },
   {
    "duration": 40,
    "start_time": "2023-05-16T19:14:57.367Z"
   },
   {
    "duration": 10,
    "start_time": "2023-05-16T19:14:57.409Z"
   },
   {
    "duration": 24,
    "start_time": "2023-05-16T19:14:57.421Z"
   },
   {
    "duration": 18,
    "start_time": "2023-05-16T19:14:57.447Z"
   },
   {
    "duration": 626,
    "start_time": "2023-05-16T19:14:57.467Z"
   },
   {
    "duration": 10,
    "start_time": "2023-05-16T19:14:58.102Z"
   },
   {
    "duration": 11,
    "start_time": "2023-05-16T19:14:58.115Z"
   },
   {
    "duration": 95206,
    "start_time": "2023-05-16T19:14:58.127Z"
   },
   {
    "duration": 3,
    "start_time": "2023-05-16T19:16:33.335Z"
   },
   {
    "duration": 76,
    "start_time": "2023-05-16T19:18:13.449Z"
   },
   {
    "duration": 24,
    "start_time": "2023-05-16T19:18:14.548Z"
   },
   {
    "duration": 28,
    "start_time": "2023-05-16T19:18:16.733Z"
   },
   {
    "duration": 19,
    "start_time": "2023-05-16T19:18:17.533Z"
   },
   {
    "duration": 21,
    "start_time": "2023-05-16T19:18:18.892Z"
   },
   {
    "duration": 68,
    "start_time": "2023-05-16T19:18:19.521Z"
   },
   {
    "duration": 75,
    "start_time": "2023-05-16T19:18:20.282Z"
   },
   {
    "duration": 11,
    "start_time": "2023-05-16T19:18:20.685Z"
   },
   {
    "duration": 31,
    "start_time": "2023-05-16T19:18:21.384Z"
   },
   {
    "duration": 183,
    "start_time": "2023-05-16T19:18:40.084Z"
   },
   {
    "duration": 153,
    "start_time": "2023-05-16T19:18:44.042Z"
   },
   {
    "duration": 305,
    "start_time": "2023-05-16T19:18:46.502Z"
   },
   {
    "duration": 312,
    "start_time": "2023-05-16T19:18:47.310Z"
   },
   {
    "duration": 300,
    "start_time": "2023-05-16T19:18:47.919Z"
   },
   {
    "duration": 36,
    "start_time": "2023-05-16T19:18:48.792Z"
   },
   {
    "duration": 35,
    "start_time": "2023-05-16T19:18:49.296Z"
   },
   {
    "duration": 21,
    "start_time": "2023-05-16T19:18:49.640Z"
   },
   {
    "duration": 320,
    "start_time": "2023-05-16T19:18:50.007Z"
   },
   {
    "duration": 588,
    "start_time": "2023-05-16T19:18:50.329Z"
   },
   {
    "duration": 489,
    "start_time": "2023-05-16T19:18:50.920Z"
   },
   {
    "duration": 307,
    "start_time": "2023-05-16T19:18:51.415Z"
   },
   {
    "duration": 313,
    "start_time": "2023-05-16T19:18:51.724Z"
   },
   {
    "duration": 587,
    "start_time": "2023-05-16T19:18:52.039Z"
   },
   {
    "duration": 20,
    "start_time": "2023-05-16T19:18:52.628Z"
   },
   {
    "duration": 41,
    "start_time": "2023-05-16T19:18:52.714Z"
   },
   {
    "duration": 16,
    "start_time": "2023-05-16T19:18:52.909Z"
   },
   {
    "duration": 30,
    "start_time": "2023-05-16T19:18:53.292Z"
   },
   {
    "duration": 8,
    "start_time": "2023-05-16T19:18:54.406Z"
   },
   {
    "duration": 6,
    "start_time": "2023-05-16T19:18:55.735Z"
   },
   {
    "duration": 10,
    "start_time": "2023-05-16T19:18:56.912Z"
   },
   {
    "duration": 603,
    "start_time": "2023-05-16T19:18:58.445Z"
   },
   {
    "duration": 12,
    "start_time": "2023-05-16T19:18:59.492Z"
   },
   {
    "duration": 3,
    "start_time": "2023-05-16T19:19:00.210Z"
   },
   {
    "duration": 96906,
    "start_time": "2023-05-16T19:19:00.514Z"
   },
   {
    "duration": 20,
    "start_time": "2023-05-16T19:20:37.422Z"
   },
   {
    "duration": 1327,
    "start_time": "2023-05-16T20:17:29.120Z"
   },
   {
    "duration": 103,
    "start_time": "2023-05-16T20:17:30.449Z"
   },
   {
    "duration": 37,
    "start_time": "2023-05-16T20:17:30.554Z"
   },
   {
    "duration": 84,
    "start_time": "2023-05-16T20:17:30.593Z"
   },
   {
    "duration": 74,
    "start_time": "2023-05-16T20:17:30.680Z"
   },
   {
    "duration": 31,
    "start_time": "2023-05-16T20:17:30.756Z"
   },
   {
    "duration": 150,
    "start_time": "2023-05-16T20:17:30.790Z"
   },
   {
    "duration": 86,
    "start_time": "2023-05-16T20:17:30.942Z"
   },
   {
    "duration": 43,
    "start_time": "2023-05-16T20:17:31.032Z"
   },
   {
    "duration": 70,
    "start_time": "2023-05-16T20:17:31.077Z"
   },
   {
    "duration": 215,
    "start_time": "2023-05-16T20:17:31.148Z"
   },
   {
    "duration": 189,
    "start_time": "2023-05-16T20:17:31.364Z"
   },
   {
    "duration": 382,
    "start_time": "2023-05-16T20:17:31.555Z"
   },
   {
    "duration": 372,
    "start_time": "2023-05-16T20:17:31.941Z"
   },
   {
    "duration": 334,
    "start_time": "2023-05-16T20:17:32.317Z"
   },
   {
    "duration": 34,
    "start_time": "2023-05-16T20:17:32.653Z"
   },
   {
    "duration": 86,
    "start_time": "2023-05-16T20:17:32.688Z"
   },
   {
    "duration": 20,
    "start_time": "2023-05-16T20:17:32.776Z"
   },
   {
    "duration": 394,
    "start_time": "2023-05-16T20:17:32.801Z"
   },
   {
    "duration": 387,
    "start_time": "2023-05-16T20:17:33.197Z"
   },
   {
    "duration": 487,
    "start_time": "2023-05-16T20:17:33.586Z"
   },
   {
    "duration": 375,
    "start_time": "2023-05-16T20:17:34.075Z"
   },
   {
    "duration": 374,
    "start_time": "2023-05-16T20:17:34.451Z"
   },
   {
    "duration": 658,
    "start_time": "2023-05-16T20:17:34.827Z"
   },
   {
    "duration": 29,
    "start_time": "2023-05-16T20:17:35.488Z"
   },
   {
    "duration": 87,
    "start_time": "2023-05-16T20:17:35.519Z"
   },
   {
    "duration": 18,
    "start_time": "2023-05-16T20:17:35.609Z"
   },
   {
    "duration": 26,
    "start_time": "2023-05-16T20:17:35.631Z"
   },
   {
    "duration": 5,
    "start_time": "2023-05-16T20:17:35.659Z"
   },
   {
    "duration": 10,
    "start_time": "2023-05-16T20:17:35.666Z"
   },
   {
    "duration": 29,
    "start_time": "2023-05-16T20:17:35.677Z"
   },
   {
    "duration": 617,
    "start_time": "2023-05-16T20:17:35.707Z"
   },
   {
    "duration": 5,
    "start_time": "2023-05-16T20:17:36.326Z"
   },
   {
    "duration": 14,
    "start_time": "2023-05-16T20:17:36.333Z"
   },
   {
    "duration": 100987,
    "start_time": "2023-05-16T20:17:36.348Z"
   },
   {
    "duration": 3,
    "start_time": "2023-05-16T20:19:17.339Z"
   },
   {
    "duration": 4,
    "start_time": "2023-05-16T20:19:22.122Z"
   },
   {
    "duration": 81,
    "start_time": "2023-05-16T20:19:23.059Z"
   },
   {
    "duration": 20,
    "start_time": "2023-05-16T20:19:23.726Z"
   },
   {
    "duration": 34,
    "start_time": "2023-05-16T20:19:24.879Z"
   },
   {
    "duration": 37,
    "start_time": "2023-05-16T20:19:25.489Z"
   },
   {
    "duration": 15,
    "start_time": "2023-05-16T20:19:26.428Z"
   },
   {
    "duration": 109,
    "start_time": "2023-05-16T20:19:26.745Z"
   },
   {
    "duration": 86,
    "start_time": "2023-05-16T20:19:27.296Z"
   },
   {
    "duration": 13,
    "start_time": "2023-05-16T20:19:27.780Z"
   },
   {
    "duration": 18,
    "start_time": "2023-05-16T20:19:28.735Z"
   },
   {
    "duration": 211,
    "start_time": "2023-05-16T20:19:30.531Z"
   },
   {
    "duration": 186,
    "start_time": "2023-05-16T20:19:33.483Z"
   },
   {
    "duration": 318,
    "start_time": "2023-05-16T20:19:35.750Z"
   },
   {
    "duration": 334,
    "start_time": "2023-05-16T20:19:38.133Z"
   },
   {
    "duration": 359,
    "start_time": "2023-05-16T20:19:39.628Z"
   },
   {
    "duration": 31,
    "start_time": "2023-05-16T20:19:41.351Z"
   },
   {
    "duration": 24,
    "start_time": "2023-05-16T20:19:42.129Z"
   },
   {
    "duration": 21,
    "start_time": "2023-05-16T20:19:42.825Z"
   },
   {
    "duration": 332,
    "start_time": "2023-05-16T20:19:43.432Z"
   },
   {
    "duration": 576,
    "start_time": "2023-05-16T20:19:44.067Z"
   },
   {
    "duration": 494,
    "start_time": "2023-05-16T20:19:45.560Z"
   },
   {
    "duration": 317,
    "start_time": "2023-05-16T20:19:47.351Z"
   },
   {
    "duration": 318,
    "start_time": "2023-05-16T20:19:47.742Z"
   },
   {
    "duration": 597,
    "start_time": "2023-05-16T20:19:48.062Z"
   },
   {
    "duration": 21,
    "start_time": "2023-05-16T20:19:48.847Z"
   },
   {
    "duration": 62,
    "start_time": "2023-05-16T20:19:49.159Z"
   },
   {
    "duration": 18,
    "start_time": "2023-05-16T20:19:49.434Z"
   },
   {
    "duration": 31,
    "start_time": "2023-05-16T20:19:49.703Z"
   },
   {
    "duration": 6,
    "start_time": "2023-05-16T20:19:50.578Z"
   },
   {
    "duration": 6,
    "start_time": "2023-05-16T20:19:51.783Z"
   },
   {
    "duration": 12,
    "start_time": "2023-05-16T20:19:52.782Z"
   },
   {
    "duration": 646,
    "start_time": "2023-05-16T20:19:53.993Z"
   },
   {
    "duration": 5,
    "start_time": "2023-05-16T20:19:54.741Z"
   },
   {
    "duration": 4,
    "start_time": "2023-05-16T20:19:55.380Z"
   },
   {
    "duration": 69,
    "start_time": "2023-05-17T19:53:02.991Z"
   },
   {
    "duration": 1493,
    "start_time": "2023-05-17T19:53:17.605Z"
   },
   {
    "duration": 399,
    "start_time": "2023-05-17T19:53:19.100Z"
   },
   {
    "duration": 31,
    "start_time": "2023-05-17T19:53:19.500Z"
   },
   {
    "duration": 32,
    "start_time": "2023-05-17T19:53:19.533Z"
   },
   {
    "duration": 22,
    "start_time": "2023-05-17T19:53:19.572Z"
   },
   {
    "duration": 30,
    "start_time": "2023-05-17T19:53:19.596Z"
   },
   {
    "duration": 109,
    "start_time": "2023-05-17T19:53:19.633Z"
   },
   {
    "duration": 102,
    "start_time": "2023-05-17T19:53:19.751Z"
   },
   {
    "duration": 19,
    "start_time": "2023-05-17T19:53:19.854Z"
   },
   {
    "duration": 16,
    "start_time": "2023-05-17T19:53:19.875Z"
   },
   {
    "duration": 217,
    "start_time": "2023-05-17T19:53:19.892Z"
   },
   {
    "duration": 167,
    "start_time": "2023-05-17T19:53:20.111Z"
   },
   {
    "duration": 347,
    "start_time": "2023-05-17T19:53:20.280Z"
   },
   {
    "duration": 356,
    "start_time": "2023-05-17T19:53:20.629Z"
   },
   {
    "duration": 348,
    "start_time": "2023-05-17T19:53:20.987Z"
   },
   {
    "duration": 39,
    "start_time": "2023-05-17T19:53:21.337Z"
   },
   {
    "duration": 46,
    "start_time": "2023-05-17T19:53:21.377Z"
   },
   {
    "duration": 32,
    "start_time": "2023-05-17T19:53:21.426Z"
   },
   {
    "duration": 404,
    "start_time": "2023-05-17T19:53:21.461Z"
   },
   {
    "duration": 364,
    "start_time": "2023-05-17T19:53:21.867Z"
   },
   {
    "duration": 525,
    "start_time": "2023-05-17T19:53:22.232Z"
   },
   {
    "duration": 390,
    "start_time": "2023-05-17T19:53:22.759Z"
   },
   {
    "duration": 351,
    "start_time": "2023-05-17T19:53:23.151Z"
   },
   {
    "duration": 646,
    "start_time": "2023-05-17T19:53:23.504Z"
   },
   {
    "duration": 23,
    "start_time": "2023-05-17T19:53:24.155Z"
   },
   {
    "duration": 66,
    "start_time": "2023-05-17T19:53:24.179Z"
   },
   {
    "duration": 26,
    "start_time": "2023-05-17T19:53:24.247Z"
   },
   {
    "duration": 26,
    "start_time": "2023-05-17T19:53:24.274Z"
   },
   {
    "duration": 18,
    "start_time": "2023-05-17T19:53:24.302Z"
   },
   {
    "duration": 17,
    "start_time": "2023-05-17T19:53:24.328Z"
   },
   {
    "duration": 8,
    "start_time": "2023-05-17T19:53:24.347Z"
   },
   {
    "duration": 17,
    "start_time": "2023-05-17T19:53:24.358Z"
   },
   {
    "duration": 682,
    "start_time": "2023-05-17T19:53:24.377Z"
   },
   {
    "duration": 6,
    "start_time": "2023-05-17T19:53:25.061Z"
   },
   {
    "duration": 24,
    "start_time": "2023-05-17T19:53:25.069Z"
   },
   {
    "duration": 1389,
    "start_time": "2023-05-17T19:54:57.303Z"
   },
   {
    "duration": 98,
    "start_time": "2023-05-17T19:54:58.694Z"
   },
   {
    "duration": 25,
    "start_time": "2023-05-17T19:54:58.793Z"
   },
   {
    "duration": 27,
    "start_time": "2023-05-17T19:54:58.820Z"
   },
   {
    "duration": 26,
    "start_time": "2023-05-17T19:54:58.849Z"
   },
   {
    "duration": 43,
    "start_time": "2023-05-17T19:54:58.877Z"
   },
   {
    "duration": 87,
    "start_time": "2023-05-17T19:54:58.927Z"
   },
   {
    "duration": 111,
    "start_time": "2023-05-17T19:54:59.020Z"
   },
   {
    "duration": 14,
    "start_time": "2023-05-17T19:54:59.132Z"
   },
   {
    "duration": 30,
    "start_time": "2023-05-17T19:54:59.150Z"
   },
   {
    "duration": 248,
    "start_time": "2023-05-17T19:54:59.182Z"
   },
   {
    "duration": 188,
    "start_time": "2023-05-17T19:54:59.432Z"
   },
   {
    "duration": 332,
    "start_time": "2023-05-17T19:54:59.621Z"
   },
   {
    "duration": 356,
    "start_time": "2023-05-17T19:54:59.954Z"
   },
   {
    "duration": 331,
    "start_time": "2023-05-17T19:55:00.312Z"
   },
   {
    "duration": 37,
    "start_time": "2023-05-17T19:55:00.645Z"
   },
   {
    "duration": 80,
    "start_time": "2023-05-17T19:55:00.684Z"
   },
   {
    "duration": 23,
    "start_time": "2023-05-17T19:55:00.766Z"
   },
   {
    "duration": 404,
    "start_time": "2023-05-17T19:55:00.791Z"
   },
   {
    "duration": 372,
    "start_time": "2023-05-17T19:55:01.197Z"
   },
   {
    "duration": 621,
    "start_time": "2023-05-17T19:55:01.571Z"
   },
   {
    "duration": 369,
    "start_time": "2023-05-17T19:55:02.194Z"
   },
   {
    "duration": 462,
    "start_time": "2023-05-17T19:55:02.568Z"
   },
   {
    "duration": 654,
    "start_time": "2023-05-17T19:55:03.035Z"
   },
   {
    "duration": 47,
    "start_time": "2023-05-17T19:55:03.691Z"
   },
   {
    "duration": 46,
    "start_time": "2023-05-17T19:55:03.741Z"
   },
   {
    "duration": 14,
    "start_time": "2023-05-17T19:55:03.789Z"
   },
   {
    "duration": 30,
    "start_time": "2023-05-17T19:55:03.806Z"
   },
   {
    "duration": 12,
    "start_time": "2023-05-17T19:55:03.838Z"
   },
   {
    "duration": 15,
    "start_time": "2023-05-17T19:55:03.856Z"
   },
   {
    "duration": 11,
    "start_time": "2023-05-17T19:55:03.876Z"
   },
   {
    "duration": 12,
    "start_time": "2023-05-17T19:55:03.889Z"
   },
   {
    "duration": 606,
    "start_time": "2023-05-17T19:55:03.903Z"
   },
   {
    "duration": 7,
    "start_time": "2023-05-17T19:55:04.511Z"
   },
   {
    "duration": 13,
    "start_time": "2023-05-17T19:55:04.520Z"
   },
   {
    "duration": 107279,
    "start_time": "2023-05-17T19:55:04.534Z"
   },
   {
    "duration": 89,
    "start_time": "2023-05-17T20:53:57.430Z"
   },
   {
    "duration": 1277,
    "start_time": "2023-05-17T20:55:08.298Z"
   },
   {
    "duration": 189,
    "start_time": "2023-05-17T20:55:09.856Z"
   },
   {
    "duration": 21,
    "start_time": "2023-05-17T20:55:10.221Z"
   },
   {
    "duration": 22,
    "start_time": "2023-05-17T20:55:11.454Z"
   },
   {
    "duration": 20,
    "start_time": "2023-05-17T20:55:12.351Z"
   },
   {
    "duration": 15,
    "start_time": "2023-05-17T20:55:13.599Z"
   },
   {
    "duration": 73,
    "start_time": "2023-05-17T20:55:13.935Z"
   },
   {
    "duration": 86,
    "start_time": "2023-05-17T20:55:14.695Z"
   },
   {
    "duration": 7,
    "start_time": "2023-05-17T20:55:15.432Z"
   },
   {
    "duration": 8,
    "start_time": "2023-05-17T20:55:15.710Z"
   },
   {
    "duration": 17,
    "start_time": "2023-05-17T20:55:16.654Z"
   },
   {
    "duration": 171,
    "start_time": "2023-05-17T20:55:18.118Z"
   },
   {
    "duration": 151,
    "start_time": "2023-05-17T20:55:31.786Z"
   },
   {
    "duration": 279,
    "start_time": "2023-05-17T20:55:32.486Z"
   },
   {
    "duration": 279,
    "start_time": "2023-05-17T20:55:33.102Z"
   },
   {
    "duration": 287,
    "start_time": "2023-05-17T20:55:33.746Z"
   },
   {
    "duration": 33,
    "start_time": "2023-05-17T20:55:38.917Z"
   },
   {
    "duration": 26,
    "start_time": "2023-05-17T20:55:39.343Z"
   },
   {
    "duration": 24,
    "start_time": "2023-05-17T20:55:40.098Z"
   },
   {
    "duration": 420,
    "start_time": "2023-05-17T20:55:44.940Z"
   },
   {
    "duration": 374,
    "start_time": "2023-05-17T20:55:45.362Z"
   },
   {
    "duration": 395,
    "start_time": "2023-05-17T20:55:47.838Z"
   },
   {
    "duration": 268,
    "start_time": "2023-05-17T20:55:50.847Z"
   },
   {
    "duration": 4987,
    "start_time": "2023-05-17T20:55:51.117Z"
   },
   {
    "duration": 1692,
    "start_time": "2023-05-17T20:55:56.106Z"
   },
   {
    "duration": 1531,
    "start_time": "2023-05-17T20:55:57.800Z"
   },
   {
    "duration": 1335,
    "start_time": "2023-05-17T20:55:59.420Z"
   },
   {
    "duration": 29,
    "start_time": "2023-05-17T20:56:00.757Z"
   },
   {
    "duration": 21,
    "start_time": "2023-05-17T20:56:02.606Z"
   },
   {
    "duration": 6,
    "start_time": "2023-05-17T20:56:07.974Z"
   },
   {
    "duration": 6,
    "start_time": "2023-05-17T20:56:16.790Z"
   },
   {
    "duration": 8,
    "start_time": "2023-05-17T20:56:20.690Z"
   },
   {
    "duration": 569,
    "start_time": "2023-05-17T20:56:29.314Z"
   },
   {
    "duration": 5,
    "start_time": "2023-05-17T20:56:34.806Z"
   },
   {
    "duration": 3,
    "start_time": "2023-05-17T20:56:36.847Z"
   },
   {
    "duration": 1203,
    "start_time": "2023-05-18T11:18:12.902Z"
   },
   {
    "duration": 66,
    "start_time": "2023-05-18T11:18:14.107Z"
   },
   {
    "duration": 21,
    "start_time": "2023-05-18T11:18:14.175Z"
   },
   {
    "duration": 19,
    "start_time": "2023-05-18T11:18:14.198Z"
   },
   {
    "duration": 15,
    "start_time": "2023-05-18T11:18:14.220Z"
   },
   {
    "duration": 13,
    "start_time": "2023-05-18T11:18:14.237Z"
   },
   {
    "duration": 95,
    "start_time": "2023-05-18T11:18:14.251Z"
   },
   {
    "duration": 76,
    "start_time": "2023-05-18T11:18:14.347Z"
   },
   {
    "duration": 6,
    "start_time": "2023-05-18T11:18:14.425Z"
   },
   {
    "duration": 17,
    "start_time": "2023-05-18T11:18:14.432Z"
   },
   {
    "duration": 44,
    "start_time": "2023-05-18T11:18:14.450Z"
   },
   {
    "duration": 190,
    "start_time": "2023-05-18T11:18:14.495Z"
   },
   {
    "duration": 150,
    "start_time": "2023-05-18T11:18:14.687Z"
   },
   {
    "duration": 280,
    "start_time": "2023-05-18T11:18:14.840Z"
   },
   {
    "duration": 288,
    "start_time": "2023-05-18T11:18:15.121Z"
   },
   {
    "duration": 273,
    "start_time": "2023-05-18T11:18:15.410Z"
   },
   {
    "duration": 37,
    "start_time": "2023-05-18T11:18:15.685Z"
   },
   {
    "duration": 23,
    "start_time": "2023-05-18T11:18:15.723Z"
   },
   {
    "duration": 19,
    "start_time": "2023-05-18T11:18:15.748Z"
   },
   {
    "duration": 365,
    "start_time": "2023-05-18T11:18:15.769Z"
   },
   {
    "duration": 301,
    "start_time": "2023-05-18T11:18:16.136Z"
   },
   {
    "duration": 404,
    "start_time": "2023-05-18T11:18:16.439Z"
   },
   {
    "duration": 276,
    "start_time": "2023-05-18T11:18:16.845Z"
   },
   {
    "duration": 285,
    "start_time": "2023-05-18T11:18:17.123Z"
   },
   {
    "duration": 506,
    "start_time": "2023-05-18T11:18:17.409Z"
   },
   {
    "duration": 19,
    "start_time": "2023-05-18T11:18:17.916Z"
   },
   {
    "duration": 83,
    "start_time": "2023-05-18T11:18:17.937Z"
   },
   {
    "duration": 13,
    "start_time": "2023-05-18T11:18:18.021Z"
   },
   {
    "duration": 75,
    "start_time": "2023-05-18T11:18:18.036Z"
   },
   {
    "duration": 5,
    "start_time": "2023-05-18T11:18:18.113Z"
   },
   {
    "duration": 6,
    "start_time": "2023-05-18T11:18:18.119Z"
   },
   {
    "duration": 22,
    "start_time": "2023-05-18T11:18:18.126Z"
   },
   {
    "duration": 903,
    "start_time": "2023-05-18T11:18:18.150Z"
   },
   {
    "duration": 5,
    "start_time": "2023-05-18T11:18:19.106Z"
   },
   {
    "duration": 17,
    "start_time": "2023-05-18T11:18:19.112Z"
   },
   {
    "duration": 83024,
    "start_time": "2023-05-18T11:18:19.130Z"
   },
   {
    "duration": 178,
    "start_time": "2023-05-18T11:19:45.585Z"
   },
   {
    "duration": 90,
    "start_time": "2023-05-18T11:20:10.360Z"
   },
   {
    "duration": 11,
    "start_time": "2023-05-18T11:20:20.205Z"
   },
   {
    "duration": 160,
    "start_time": "2023-05-18T11:20:42.851Z"
   },
   {
    "duration": 162,
    "start_time": "2023-05-18T11:20:59.763Z"
   },
   {
    "duration": 9,
    "start_time": "2023-05-18T11:21:57.555Z"
   },
   {
    "duration": 12,
    "start_time": "2023-05-18T11:22:02.888Z"
   },
   {
    "duration": 4,
    "start_time": "2023-05-18T11:22:28.912Z"
   },
   {
    "duration": 10,
    "start_time": "2023-05-18T11:22:42.483Z"
   },
   {
    "duration": 13,
    "start_time": "2023-05-18T11:23:27.092Z"
   },
   {
    "duration": 10,
    "start_time": "2023-05-18T11:23:27.709Z"
   },
   {
    "duration": 7,
    "start_time": "2023-05-18T11:23:40.239Z"
   },
   {
    "duration": 14,
    "start_time": "2023-05-18T11:23:40.909Z"
   },
   {
    "duration": 5,
    "start_time": "2023-05-18T11:23:49.142Z"
   },
   {
    "duration": 14,
    "start_time": "2023-05-18T11:23:49.940Z"
   },
   {
    "duration": 10,
    "start_time": "2023-05-18T11:24:00.356Z"
   },
   {
    "duration": 10,
    "start_time": "2023-05-18T11:24:10.843Z"
   },
   {
    "duration": 259,
    "start_time": "2023-05-18T11:24:12.397Z"
   },
   {
    "duration": 11,
    "start_time": "2023-05-18T11:24:47.088Z"
   },
   {
    "duration": 1246,
    "start_time": "2023-05-20T06:26:13.925Z"
   },
   {
    "duration": 233,
    "start_time": "2023-05-20T06:26:16.414Z"
   },
   {
    "duration": 28,
    "start_time": "2023-05-20T06:26:17.811Z"
   },
   {
    "duration": 24,
    "start_time": "2023-05-20T06:26:21.573Z"
   },
   {
    "duration": 19,
    "start_time": "2023-05-20T06:26:23.907Z"
   },
   {
    "duration": 24,
    "start_time": "2023-05-20T06:26:30.680Z"
   },
   {
    "duration": 106,
    "start_time": "2023-05-20T06:26:36.966Z"
   },
   {
    "duration": 128,
    "start_time": "2023-05-20T06:26:48.209Z"
   },
   {
    "duration": 85,
    "start_time": "2023-05-20T06:26:59.980Z"
   },
   {
    "duration": 1258,
    "start_time": "2024-04-17T18:48:58.783Z"
   },
   {
    "duration": 302,
    "start_time": "2024-04-17T18:49:00.044Z"
   },
   {
    "duration": 28,
    "start_time": "2024-04-17T18:49:00.349Z"
   },
   {
    "duration": 132,
    "start_time": "2024-04-17T18:49:00.379Z"
   },
   {
    "duration": 177,
    "start_time": "2024-04-17T18:49:00.513Z"
   },
   {
    "duration": 87,
    "start_time": "2024-04-17T18:49:00.692Z"
   },
   {
    "duration": 119,
    "start_time": "2024-04-17T18:49:00.781Z"
   },
   {
    "duration": 82,
    "start_time": "2024-04-17T18:49:00.902Z"
   },
   {
    "duration": 58,
    "start_time": "2024-04-17T18:49:00.986Z"
   },
   {
    "duration": 126,
    "start_time": "2024-04-17T18:49:01.045Z"
   },
   {
    "duration": 86,
    "start_time": "2024-04-17T18:49:01.173Z"
   },
   {
    "duration": 292,
    "start_time": "2024-04-17T18:49:01.261Z"
   },
   {
    "duration": 171,
    "start_time": "2024-04-17T18:49:01.554Z"
   },
   {
    "duration": 358,
    "start_time": "2024-04-17T18:49:01.728Z"
   },
   {
    "duration": 366,
    "start_time": "2024-04-17T18:49:02.092Z"
   },
   {
    "duration": 323,
    "start_time": "2024-04-17T18:49:02.459Z"
   },
   {
    "duration": 34,
    "start_time": "2024-04-17T18:49:02.784Z"
   },
   {
    "duration": 27,
    "start_time": "2024-04-17T18:49:02.819Z"
   },
   {
    "duration": 36,
    "start_time": "2024-04-17T18:49:02.848Z"
   },
   {
    "duration": 415,
    "start_time": "2024-04-17T18:49:02.891Z"
   },
   {
    "duration": 353,
    "start_time": "2024-04-17T18:49:03.308Z"
   },
   {
    "duration": 494,
    "start_time": "2024-04-17T18:49:03.663Z"
   },
   {
    "duration": 326,
    "start_time": "2024-04-17T18:49:04.159Z"
   },
   {
    "duration": 346,
    "start_time": "2024-04-17T18:49:04.486Z"
   },
   {
    "duration": 604,
    "start_time": "2024-04-17T18:49:04.834Z"
   },
   {
    "duration": 22,
    "start_time": "2024-04-17T18:49:05.441Z"
   },
   {
    "duration": 56,
    "start_time": "2024-04-17T18:49:05.464Z"
   },
   {
    "duration": 14,
    "start_time": "2024-04-17T18:49:05.521Z"
   },
   {
    "duration": 25,
    "start_time": "2024-04-17T18:49:05.536Z"
   },
   {
    "duration": 29,
    "start_time": "2024-04-17T18:49:05.563Z"
   },
   {
    "duration": 5,
    "start_time": "2024-04-17T18:49:05.594Z"
   },
   {
    "duration": 13,
    "start_time": "2024-04-17T18:49:05.601Z"
   },
   {
    "duration": 678,
    "start_time": "2024-04-17T18:49:05.616Z"
   },
   {
    "duration": 5,
    "start_time": "2024-04-17T18:49:06.295Z"
   },
   {
    "duration": 7,
    "start_time": "2024-04-17T18:49:06.302Z"
   },
   {
    "duration": 96688,
    "start_time": "2024-04-17T18:49:06.311Z"
   }
  ],
  "kernelspec": {
   "display_name": "Python 3 (ipykernel)",
   "language": "python",
   "name": "python3"
  },
  "language_info": {
   "codemirror_mode": {
    "name": "ipython",
    "version": 3
   },
   "file_extension": ".py",
   "mimetype": "text/x-python",
   "name": "python",
   "nbconvert_exporter": "python",
   "pygments_lexer": "ipython3",
   "version": "3.9.5"
  },
  "toc": {
   "base_numbering": 1,
   "nav_menu": {},
   "number_sections": true,
   "sideBar": true,
   "skip_h1_title": true,
   "title_cell": "Table of Contents",
   "title_sidebar": "Contents",
   "toc_cell": false,
   "toc_position": {
    "height": "calc(100% - 180px)",
    "left": "10px",
    "top": "150px",
    "width": "307.101px"
   },
   "toc_section_display": true,
   "toc_window_display": true
  }
 },
 "nbformat": 4,
 "nbformat_minor": 5
}
